{
 "cells": [
  {
   "cell_type": "code",
   "execution_count": 1,
   "metadata": {},
   "outputs": [],
   "source": [
    "import pandas as pd\n",
    "import matplotlib.pyplot as plt\n",
    "import seaborn as sns\n",
    "import numpy as np\n",
    "from scipy.stats import norm\n",
    "from sklearn.preprocessing import StandardScaler\n",
    "from scipy import stats\n",
    "import warnings\n",
    "warnings.filterwarnings('ignore')\n",
    "%matplotlib inline"
   ]
  },
  {
   "cell_type": "code",
   "execution_count": 17,
   "metadata": {},
   "outputs": [],
   "source": [
    "df = pd.read_csv('./input/HDI.csv')"
   ]
  },
  {
   "cell_type": "code",
   "execution_count": 18,
   "metadata": {},
   "outputs": [
    {
     "data": {
      "text/plain": [
       "Index(['HDI Rank', 'Country', '1990', '1991', '1992', '1993', '1994', '1995',\n",
       "       '1996', '1997', '1998', '1999', '2000', '2001', '2002', '2003', '2004',\n",
       "       '2005', '2006', '2007', '2008', '2009', '2010', '2011', '2012', '2013',\n",
       "       '2014', '2015', '2016', '2017', '2018', '2019'],\n",
       "      dtype='object')"
      ]
     },
     "execution_count": 18,
     "metadata": {},
     "output_type": "execute_result"
    }
   ],
   "source": [
    "df.columns"
   ]
  },
  {
   "cell_type": "code",
   "execution_count": 19,
   "metadata": {},
   "outputs": [
    {
     "data": {
      "text/plain": [
       "count    189.000000\n",
       "mean       0.722423\n",
       "std        0.149791\n",
       "min        0.394000\n",
       "25%        0.602000\n",
       "50%        0.740000\n",
       "75%        0.829000\n",
       "max        0.957000\n",
       "Name: 2019, dtype: float64"
      ]
     },
     "execution_count": 19,
     "metadata": {},
     "output_type": "execute_result"
    }
   ],
   "source": [
    "df['2019'].describe()"
   ]
  },
  {
   "cell_type": "code",
   "execution_count": 20,
   "metadata": {},
   "outputs": [
    {
     "name": "stdout",
     "output_type": "stream",
     "text": [
      "<class 'pandas.core.frame.DataFrame'>\n",
      "RangeIndex: 189 entries, 0 to 188\n",
      "Data columns (total 32 columns):\n",
      " #   Column    Non-Null Count  Dtype  \n",
      "---  ------    --------------  -----  \n",
      " 0   HDI Rank  189 non-null    int64  \n",
      " 1   Country   189 non-null    object \n",
      " 2   1990      189 non-null    object \n",
      " 3   1991      189 non-null    object \n",
      " 4   1992      189 non-null    object \n",
      " 5   1993      189 non-null    object \n",
      " 6   1994      189 non-null    object \n",
      " 7   1995      189 non-null    object \n",
      " 8   1996      189 non-null    object \n",
      " 9   1997      189 non-null    object \n",
      " 10  1998      189 non-null    object \n",
      " 11  1999      189 non-null    object \n",
      " 12  2000      189 non-null    object \n",
      " 13  2001      189 non-null    object \n",
      " 14  2002      189 non-null    object \n",
      " 15  2003      189 non-null    object \n",
      " 16  2004      189 non-null    object \n",
      " 17  2005      189 non-null    object \n",
      " 18  2006      189 non-null    object \n",
      " 19  2007      189 non-null    object \n",
      " 20  2008      189 non-null    object \n",
      " 21  2009      189 non-null    object \n",
      " 22  2010      189 non-null    object \n",
      " 23  2011      189 non-null    object \n",
      " 24  2012      189 non-null    object \n",
      " 25  2013      189 non-null    object \n",
      " 26  2014      189 non-null    object \n",
      " 27  2015      189 non-null    object \n",
      " 28  2016      189 non-null    object \n",
      " 29  2017      189 non-null    float64\n",
      " 30  2018      189 non-null    float64\n",
      " 31  2019      189 non-null    float64\n",
      "dtypes: float64(3), int64(1), object(28)\n",
      "memory usage: 47.4+ KB\n"
     ]
    }
   ],
   "source": [
    "df.info()"
   ]
  }
 ],
 "metadata": {
  "kernelspec": {
   "display_name": "Python 3",
   "language": "python",
   "name": "python3"
  },
  "language_info": {
   "codemirror_mode": {
    "name": "ipython",
    "version": 3
   },
   "file_extension": ".py",
   "mimetype": "text/x-python",
   "name": "python",
   "nbconvert_exporter": "python",
   "pygments_lexer": "ipython3",
   "version": "3.9.13"
  },
  "orig_nbformat": 4
 },
 "nbformat": 4,
 "nbformat_minor": 2
}
