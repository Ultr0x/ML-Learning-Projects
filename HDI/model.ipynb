{
 "cells": [
  {
   "cell_type": "code",
   "execution_count": 117,
   "metadata": {},
   "outputs": [],
   "source": [
    "import pandas as pd\n",
    "import matplotlib.pyplot as plt\n",
    "import seaborn as sns\n",
    "import numpy as np\n",
    "from scipy.stats import norm\n",
    "from sklearn.preprocessing import StandardScaler\n",
    "from scipy import stats\n",
    "import geopandas as gpd\n",
    "import plotly.express as px\n",
    "import warnings\n",
    "warnings.filterwarnings('ignore')\n",
    "%matplotlib inline"
   ]
  },
  {
   "cell_type": "code",
   "execution_count": 118,
   "metadata": {},
   "outputs": [],
   "source": [
    "df = pd.read_csv('./input/HDI.csv')"
   ]
  },
  {
   "cell_type": "code",
   "execution_count": 119,
   "metadata": {},
   "outputs": [
    {
     "data": {
      "text/plain": [
       "Index(['HDI Rank', 'Country', '1990', '1991', '1992', '1993', '1994', '1995',\n",
       "       '1996', '1997', '1998', '1999', '2000', '2001', '2002', '2003', '2004',\n",
       "       '2005', '2006', '2007', '2008', '2009', '2010', '2011', '2012', '2013',\n",
       "       '2014', '2015', '2016', '2017', '2018', '2019'],\n",
       "      dtype='object')"
      ]
     },
     "execution_count": 119,
     "metadata": {},
     "output_type": "execute_result"
    }
   ],
   "source": [
    "df.columns"
   ]
  },
  {
   "cell_type": "code",
   "execution_count": 120,
   "metadata": {},
   "outputs": [
    {
     "data": {
      "text/plain": [
       "count    189.000000\n",
       "mean       0.722423\n",
       "std        0.149791\n",
       "min        0.394000\n",
       "25%        0.602000\n",
       "50%        0.740000\n",
       "75%        0.829000\n",
       "max        0.957000\n",
       "Name: 2019, dtype: float64"
      ]
     },
     "execution_count": 120,
     "metadata": {},
     "output_type": "execute_result"
    }
   ],
   "source": [
    "df['2019'].describe()"
   ]
  },
  {
   "cell_type": "code",
   "execution_count": 121,
   "metadata": {},
   "outputs": [
    {
     "name": "stdout",
     "output_type": "stream",
     "text": [
      "<class 'pandas.core.frame.DataFrame'>\n",
      "RangeIndex: 189 entries, 0 to 188\n",
      "Data columns (total 32 columns):\n",
      " #   Column    Non-Null Count  Dtype  \n",
      "---  ------    --------------  -----  \n",
      " 0   HDI Rank  189 non-null    int64  \n",
      " 1   Country   189 non-null    object \n",
      " 2   1990      189 non-null    object \n",
      " 3   1991      189 non-null    object \n",
      " 4   1992      189 non-null    object \n",
      " 5   1993      189 non-null    object \n",
      " 6   1994      189 non-null    object \n",
      " 7   1995      189 non-null    object \n",
      " 8   1996      189 non-null    object \n",
      " 9   1997      189 non-null    object \n",
      " 10  1998      189 non-null    object \n",
      " 11  1999      189 non-null    object \n",
      " 12  2000      189 non-null    object \n",
      " 13  2001      189 non-null    object \n",
      " 14  2002      189 non-null    object \n",
      " 15  2003      189 non-null    object \n",
      " 16  2004      189 non-null    object \n",
      " 17  2005      189 non-null    object \n",
      " 18  2006      189 non-null    object \n",
      " 19  2007      189 non-null    object \n",
      " 20  2008      189 non-null    object \n",
      " 21  2009      189 non-null    object \n",
      " 22  2010      189 non-null    object \n",
      " 23  2011      189 non-null    object \n",
      " 24  2012      189 non-null    object \n",
      " 25  2013      189 non-null    object \n",
      " 26  2014      189 non-null    object \n",
      " 27  2015      189 non-null    object \n",
      " 28  2016      189 non-null    object \n",
      " 29  2017      189 non-null    float64\n",
      " 30  2018      189 non-null    float64\n",
      " 31  2019      189 non-null    float64\n",
      "dtypes: float64(3), int64(1), object(28)\n",
      "memory usage: 47.4+ KB\n"
     ]
    }
   ],
   "source": [
    "df.info()"
   ]
  },
  {
   "cell_type": "code",
   "execution_count": 122,
   "metadata": {},
   "outputs": [],
   "source": [
    "columns = df.columns\n",
    "columns = columns.drop(['HDI Rank', 'Country','2017', '2018', '2019'])"
   ]
  },
  {
   "cell_type": "code",
   "execution_count": 123,
   "metadata": {},
   "outputs": [
    {
     "name": "stdout",
     "output_type": "stream",
     "text": [
      "1990  :  .. 0.871\n",
      "1991  :  .. 0.871\n",
      "1992  :  .. 0.873\n",
      "1993  :  .. 0.877\n",
      "1994  :  .. 0.883\n",
      "1995  :  .. 0.888\n",
      "1996  :  .. 0.89\n",
      "1997  :  .. 0.893\n",
      "1998  :  .. 0.904\n",
      "1999  :  .. 0.909\n",
      "2000  :  .. 0.915\n",
      "2001  :  .. 0.914\n",
      "2002  :  .. 0.917\n",
      "2003  :  .. 0.923\n",
      "2004  :  .. 0.932\n",
      "2005  :  .. 0.931\n",
      "2006  :  .. 0.934\n",
      "2007  :  .. 0.936\n",
      "2008  :  .. 0.937\n",
      "2009  :  .. 0.937\n",
      "2010  :  .. 0.941\n",
      "2011  :  .. 0.942\n",
      "2012  :  .. 0.944\n",
      "2013  :  .. 0.946\n",
      "2014  :  .. 0.944\n",
      "2015  :  .. 0.947\n",
      "2016  :  .. 0.95\n"
     ]
    }
   ],
   "source": [
    "for col in columns:\n",
    "    print(col,\" : \",df[col].min(),df[col].max())"
   ]
  },
  {
   "cell_type": "code",
   "execution_count": 124,
   "metadata": {},
   "outputs": [
    {
     "name": "stdout",
     "output_type": "stream",
     "text": [
      "27\n",
      "Index(['1990', '1991', '1992', '1993', '1994', '1995', '1996', '1997', '1998',\n",
      "       '1999', '2000', '2001', '2002', '2003', '2004', '2005', '2006', '2007',\n",
      "       '2008', '2009', '2010', '2011', '2012', '2013', '2014', '2015', '2016'],\n",
      "      dtype='object')\n",
      "Index(['1990', '1991', '1992', '1993', '1994', '1995', '1996', '1997', '1998',\n",
      "       '1999', '2000', '2001', '2002', '2003', '2004', '2005', '2006', '2007',\n",
      "       '2008', '2009', '2010', '2011', '2012', '2013', '2014', '2015', '2016'],\n",
      "      dtype='object')\n"
     ]
    }
   ],
   "source": [
    "#print columns length to check if it matches the number of years\n",
    "print(len(columns))\n",
    "print(columns)\n",
    "#delete last 5 from columns to match the number of years\n",
    "print(columns)"
   ]
  },
  {
   "cell_type": "code",
   "execution_count": 125,
   "metadata": {},
   "outputs": [],
   "source": [
    "df = df.replace({\"..\":np.nan})"
   ]
  },
  {
   "cell_type": "code",
   "execution_count": 126,
   "metadata": {},
   "outputs": [
    {
     "data": {
      "text/plain": [
       "HDI Rank     0\n",
       "Country      0\n",
       "1990        45\n",
       "1991        45\n",
       "1992        45\n",
       "1993        45\n",
       "1994        45\n",
       "1995        41\n",
       "1996        41\n",
       "1997        41\n",
       "1998        41\n",
       "1999        38\n",
       "2000        15\n",
       "2001        15\n",
       "2002        14\n",
       "2003        13\n",
       "2004        11\n",
       "2005         4\n",
       "2006         3\n",
       "2007         3\n",
       "2008         3\n",
       "2009         3\n",
       "2010         1\n",
       "2011         1\n",
       "2012         1\n",
       "2013         1\n",
       "2014         1\n",
       "2015         1\n",
       "2016         1\n",
       "2017         0\n",
       "2018         0\n",
       "2019         0\n",
       "dtype: int64"
      ]
     },
     "execution_count": 126,
     "metadata": {},
     "output_type": "execute_result"
    }
   ],
   "source": [
    "df.isnull().sum()"
   ]
  },
  {
   "cell_type": "code",
   "execution_count": 127,
   "metadata": {},
   "outputs": [
    {
     "name": "stdout",
     "output_type": "stream",
     "text": [
      "Total Percentage Null Data : 23.81 %\n"
     ]
    }
   ],
   "source": [
    "null_count = df['1990'].isnull().sum()\n",
    "total = len(df)\n",
    "percent_null = (null_count / total) * 100\n",
    "\n",
    "print(\"Total Percentage Null Data : {:.2f} %\".format(percent_null))"
   ]
  },
  {
   "cell_type": "code",
   "execution_count": 128,
   "metadata": {},
   "outputs": [
    {
     "data": {
      "text/html": [
       "<div>\n",
       "<style scoped>\n",
       "    .dataframe tbody tr th:only-of-type {\n",
       "        vertical-align: middle;\n",
       "    }\n",
       "\n",
       "    .dataframe tbody tr th {\n",
       "        vertical-align: top;\n",
       "    }\n",
       "\n",
       "    .dataframe thead th {\n",
       "        text-align: right;\n",
       "    }\n",
       "</style>\n",
       "<table border=\"1\" class=\"dataframe\">\n",
       "  <thead>\n",
       "    <tr style=\"text-align: right;\">\n",
       "      <th></th>\n",
       "      <th>HDI Rank</th>\n",
       "      <th>Country</th>\n",
       "      <th>1990</th>\n",
       "      <th>1991</th>\n",
       "      <th>1992</th>\n",
       "      <th>1993</th>\n",
       "      <th>1994</th>\n",
       "      <th>1995</th>\n",
       "      <th>1996</th>\n",
       "      <th>1997</th>\n",
       "      <th>...</th>\n",
       "      <th>2010</th>\n",
       "      <th>2011</th>\n",
       "      <th>2012</th>\n",
       "      <th>2013</th>\n",
       "      <th>2014</th>\n",
       "      <th>2015</th>\n",
       "      <th>2016</th>\n",
       "      <th>2017</th>\n",
       "      <th>2018</th>\n",
       "      <th>2019</th>\n",
       "    </tr>\n",
       "  </thead>\n",
       "  <tbody>\n",
       "    <tr>\n",
       "      <th>3</th>\n",
       "      <td>36</td>\n",
       "      <td>Andorra</td>\n",
       "      <td>NaN</td>\n",
       "      <td>NaN</td>\n",
       "      <td>NaN</td>\n",
       "      <td>NaN</td>\n",
       "      <td>NaN</td>\n",
       "      <td>NaN</td>\n",
       "      <td>NaN</td>\n",
       "      <td>NaN</td>\n",
       "      <td>...</td>\n",
       "      <td>0.837</td>\n",
       "      <td>0.836</td>\n",
       "      <td>0.858</td>\n",
       "      <td>0.856</td>\n",
       "      <td>0.863</td>\n",
       "      <td>0.862</td>\n",
       "      <td>0.866</td>\n",
       "      <td>0.863</td>\n",
       "      <td>0.867</td>\n",
       "      <td>0.868</td>\n",
       "    </tr>\n",
       "    <tr>\n",
       "      <th>4</th>\n",
       "      <td>148</td>\n",
       "      <td>Angola</td>\n",
       "      <td>NaN</td>\n",
       "      <td>NaN</td>\n",
       "      <td>NaN</td>\n",
       "      <td>NaN</td>\n",
       "      <td>NaN</td>\n",
       "      <td>NaN</td>\n",
       "      <td>NaN</td>\n",
       "      <td>NaN</td>\n",
       "      <td>...</td>\n",
       "      <td>0.517</td>\n",
       "      <td>0.533</td>\n",
       "      <td>0.544</td>\n",
       "      <td>0.555</td>\n",
       "      <td>0.565</td>\n",
       "      <td>0.572</td>\n",
       "      <td>0.578</td>\n",
       "      <td>0.582</td>\n",
       "      <td>0.582</td>\n",
       "      <td>0.581</td>\n",
       "    </tr>\n",
       "    <tr>\n",
       "      <th>5</th>\n",
       "      <td>78</td>\n",
       "      <td>Antigua and Barbuda</td>\n",
       "      <td>NaN</td>\n",
       "      <td>NaN</td>\n",
       "      <td>NaN</td>\n",
       "      <td>NaN</td>\n",
       "      <td>NaN</td>\n",
       "      <td>NaN</td>\n",
       "      <td>NaN</td>\n",
       "      <td>NaN</td>\n",
       "      <td>...</td>\n",
       "      <td>0.763</td>\n",
       "      <td>0.755</td>\n",
       "      <td>0.759</td>\n",
       "      <td>0.76</td>\n",
       "      <td>0.76</td>\n",
       "      <td>0.762</td>\n",
       "      <td>0.765</td>\n",
       "      <td>0.768</td>\n",
       "      <td>0.772</td>\n",
       "      <td>0.778</td>\n",
       "    </tr>\n",
       "    <tr>\n",
       "      <th>10</th>\n",
       "      <td>88</td>\n",
       "      <td>Azerbaijan</td>\n",
       "      <td>NaN</td>\n",
       "      <td>NaN</td>\n",
       "      <td>NaN</td>\n",
       "      <td>NaN</td>\n",
       "      <td>NaN</td>\n",
       "      <td>0.604</td>\n",
       "      <td>0.605</td>\n",
       "      <td>0.61</td>\n",
       "      <td>...</td>\n",
       "      <td>0.726</td>\n",
       "      <td>0.727</td>\n",
       "      <td>0.73</td>\n",
       "      <td>0.735</td>\n",
       "      <td>0.74</td>\n",
       "      <td>0.744</td>\n",
       "      <td>0.751</td>\n",
       "      <td>0.754</td>\n",
       "      <td>0.754</td>\n",
       "      <td>0.756</td>\n",
       "    </tr>\n",
       "    <tr>\n",
       "      <th>11</th>\n",
       "      <td>58</td>\n",
       "      <td>Bahamas</td>\n",
       "      <td>NaN</td>\n",
       "      <td>NaN</td>\n",
       "      <td>NaN</td>\n",
       "      <td>NaN</td>\n",
       "      <td>NaN</td>\n",
       "      <td>NaN</td>\n",
       "      <td>NaN</td>\n",
       "      <td>NaN</td>\n",
       "      <td>...</td>\n",
       "      <td>0.805</td>\n",
       "      <td>0.805</td>\n",
       "      <td>0.807</td>\n",
       "      <td>0.806</td>\n",
       "      <td>0.805</td>\n",
       "      <td>0.808</td>\n",
       "      <td>0.81</td>\n",
       "      <td>0.812</td>\n",
       "      <td>0.812</td>\n",
       "      <td>0.814</td>\n",
       "    </tr>\n",
       "    <tr>\n",
       "      <th>15</th>\n",
       "      <td>53</td>\n",
       "      <td>Belarus</td>\n",
       "      <td>NaN</td>\n",
       "      <td>NaN</td>\n",
       "      <td>NaN</td>\n",
       "      <td>NaN</td>\n",
       "      <td>NaN</td>\n",
       "      <td>0.66</td>\n",
       "      <td>0.664</td>\n",
       "      <td>0.67</td>\n",
       "      <td>...</td>\n",
       "      <td>0.795</td>\n",
       "      <td>0.801</td>\n",
       "      <td>0.806</td>\n",
       "      <td>0.811</td>\n",
       "      <td>0.814</td>\n",
       "      <td>0.814</td>\n",
       "      <td>0.815</td>\n",
       "      <td>0.819</td>\n",
       "      <td>0.823</td>\n",
       "      <td>0.823</td>\n",
       "    </tr>\n",
       "    <tr>\n",
       "      <th>19</th>\n",
       "      <td>129</td>\n",
       "      <td>Bhutan</td>\n",
       "      <td>NaN</td>\n",
       "      <td>NaN</td>\n",
       "      <td>NaN</td>\n",
       "      <td>NaN</td>\n",
       "      <td>NaN</td>\n",
       "      <td>NaN</td>\n",
       "      <td>NaN</td>\n",
       "      <td>NaN</td>\n",
       "      <td>...</td>\n",
       "      <td>0.574</td>\n",
       "      <td>0.585</td>\n",
       "      <td>0.597</td>\n",
       "      <td>0.61</td>\n",
       "      <td>0.618</td>\n",
       "      <td>0.628</td>\n",
       "      <td>0.637</td>\n",
       "      <td>0.646</td>\n",
       "      <td>0.649</td>\n",
       "      <td>0.654</td>\n",
       "    </tr>\n",
       "    <tr>\n",
       "      <th>21</th>\n",
       "      <td>73</td>\n",
       "      <td>Bosnia and Herzegovina</td>\n",
       "      <td>NaN</td>\n",
       "      <td>NaN</td>\n",
       "      <td>NaN</td>\n",
       "      <td>NaN</td>\n",
       "      <td>NaN</td>\n",
       "      <td>NaN</td>\n",
       "      <td>NaN</td>\n",
       "      <td>NaN</td>\n",
       "      <td>...</td>\n",
       "      <td>0.721</td>\n",
       "      <td>0.729</td>\n",
       "      <td>0.748</td>\n",
       "      <td>0.755</td>\n",
       "      <td>0.758</td>\n",
       "      <td>0.761</td>\n",
       "      <td>0.772</td>\n",
       "      <td>0.774</td>\n",
       "      <td>0.777</td>\n",
       "      <td>0.780</td>\n",
       "    </tr>\n",
       "    <tr>\n",
       "      <th>26</th>\n",
       "      <td>182</td>\n",
       "      <td>Burkina Faso</td>\n",
       "      <td>NaN</td>\n",
       "      <td>NaN</td>\n",
       "      <td>NaN</td>\n",
       "      <td>NaN</td>\n",
       "      <td>NaN</td>\n",
       "      <td>NaN</td>\n",
       "      <td>NaN</td>\n",
       "      <td>NaN</td>\n",
       "      <td>...</td>\n",
       "      <td>0.384</td>\n",
       "      <td>0.394</td>\n",
       "      <td>0.403</td>\n",
       "      <td>0.41</td>\n",
       "      <td>0.413</td>\n",
       "      <td>0.422</td>\n",
       "      <td>0.428</td>\n",
       "      <td>0.439</td>\n",
       "      <td>0.443</td>\n",
       "      <td>0.452</td>\n",
       "    </tr>\n",
       "    <tr>\n",
       "      <th>28</th>\n",
       "      <td>126</td>\n",
       "      <td>Cabo Verde</td>\n",
       "      <td>NaN</td>\n",
       "      <td>NaN</td>\n",
       "      <td>NaN</td>\n",
       "      <td>NaN</td>\n",
       "      <td>NaN</td>\n",
       "      <td>NaN</td>\n",
       "      <td>NaN</td>\n",
       "      <td>NaN</td>\n",
       "      <td>...</td>\n",
       "      <td>0.632</td>\n",
       "      <td>0.639</td>\n",
       "      <td>0.644</td>\n",
       "      <td>0.647</td>\n",
       "      <td>0.654</td>\n",
       "      <td>0.656</td>\n",
       "      <td>0.657</td>\n",
       "      <td>0.660</td>\n",
       "      <td>0.663</td>\n",
       "      <td>0.665</td>\n",
       "    </tr>\n",
       "    <tr>\n",
       "      <th>33</th>\n",
       "      <td>187</td>\n",
       "      <td>Chad</td>\n",
       "      <td>NaN</td>\n",
       "      <td>NaN</td>\n",
       "      <td>NaN</td>\n",
       "      <td>NaN</td>\n",
       "      <td>NaN</td>\n",
       "      <td>NaN</td>\n",
       "      <td>NaN</td>\n",
       "      <td>NaN</td>\n",
       "      <td>...</td>\n",
       "      <td>0.369</td>\n",
       "      <td>0.38</td>\n",
       "      <td>0.388</td>\n",
       "      <td>0.394</td>\n",
       "      <td>0.401</td>\n",
       "      <td>0.398</td>\n",
       "      <td>0.393</td>\n",
       "      <td>0.396</td>\n",
       "      <td>0.397</td>\n",
       "      <td>0.398</td>\n",
       "    </tr>\n",
       "    <tr>\n",
       "      <th>37</th>\n",
       "      <td>156</td>\n",
       "      <td>Comoros</td>\n",
       "      <td>NaN</td>\n",
       "      <td>NaN</td>\n",
       "      <td>NaN</td>\n",
       "      <td>NaN</td>\n",
       "      <td>NaN</td>\n",
       "      <td>NaN</td>\n",
       "      <td>NaN</td>\n",
       "      <td>NaN</td>\n",
       "      <td>...</td>\n",
       "      <td>0.521</td>\n",
       "      <td>0.533</td>\n",
       "      <td>0.538</td>\n",
       "      <td>0.542</td>\n",
       "      <td>0.543</td>\n",
       "      <td>0.545</td>\n",
       "      <td>0.547</td>\n",
       "      <td>0.550</td>\n",
       "      <td>0.552</td>\n",
       "      <td>0.554</td>\n",
       "    </tr>\n",
       "    <tr>\n",
       "      <th>47</th>\n",
       "      <td>166</td>\n",
       "      <td>Djibouti</td>\n",
       "      <td>NaN</td>\n",
       "      <td>NaN</td>\n",
       "      <td>NaN</td>\n",
       "      <td>NaN</td>\n",
       "      <td>NaN</td>\n",
       "      <td>0.351</td>\n",
       "      <td>0.349</td>\n",
       "      <td>0.354</td>\n",
       "      <td>...</td>\n",
       "      <td>0.454</td>\n",
       "      <td>0.463</td>\n",
       "      <td>0.474</td>\n",
       "      <td>0.484</td>\n",
       "      <td>0.492</td>\n",
       "      <td>0.499</td>\n",
       "      <td>0.505</td>\n",
       "      <td>0.510</td>\n",
       "      <td>0.518</td>\n",
       "      <td>0.524</td>\n",
       "    </tr>\n",
       "    <tr>\n",
       "      <th>48</th>\n",
       "      <td>94</td>\n",
       "      <td>Dominica</td>\n",
       "      <td>NaN</td>\n",
       "      <td>NaN</td>\n",
       "      <td>NaN</td>\n",
       "      <td>NaN</td>\n",
       "      <td>NaN</td>\n",
       "      <td>NaN</td>\n",
       "      <td>NaN</td>\n",
       "      <td>NaN</td>\n",
       "      <td>...</td>\n",
       "      <td>0.74</td>\n",
       "      <td>0.741</td>\n",
       "      <td>0.739</td>\n",
       "      <td>0.739</td>\n",
       "      <td>0.741</td>\n",
       "      <td>0.739</td>\n",
       "      <td>0.74</td>\n",
       "      <td>0.736</td>\n",
       "      <td>0.738</td>\n",
       "      <td>0.742</td>\n",
       "    </tr>\n",
       "    <tr>\n",
       "      <th>53</th>\n",
       "      <td>145</td>\n",
       "      <td>Equatorial Guinea</td>\n",
       "      <td>NaN</td>\n",
       "      <td>NaN</td>\n",
       "      <td>NaN</td>\n",
       "      <td>NaN</td>\n",
       "      <td>NaN</td>\n",
       "      <td>NaN</td>\n",
       "      <td>NaN</td>\n",
       "      <td>NaN</td>\n",
       "      <td>...</td>\n",
       "      <td>0.576</td>\n",
       "      <td>0.58</td>\n",
       "      <td>0.584</td>\n",
       "      <td>0.585</td>\n",
       "      <td>0.586</td>\n",
       "      <td>0.589</td>\n",
       "      <td>0.588</td>\n",
       "      <td>0.584</td>\n",
       "      <td>0.582</td>\n",
       "      <td>0.592</td>\n",
       "    </tr>\n",
       "    <tr>\n",
       "      <th>54</th>\n",
       "      <td>180</td>\n",
       "      <td>Eritrea</td>\n",
       "      <td>NaN</td>\n",
       "      <td>NaN</td>\n",
       "      <td>NaN</td>\n",
       "      <td>NaN</td>\n",
       "      <td>NaN</td>\n",
       "      <td>NaN</td>\n",
       "      <td>NaN</td>\n",
       "      <td>NaN</td>\n",
       "      <td>...</td>\n",
       "      <td>0.436</td>\n",
       "      <td>0.436</td>\n",
       "      <td>0.441</td>\n",
       "      <td>0.446</td>\n",
       "      <td>0.457</td>\n",
       "      <td>0.454</td>\n",
       "      <td>0.456</td>\n",
       "      <td>0.454</td>\n",
       "      <td>0.456</td>\n",
       "      <td>0.459</td>\n",
       "    </tr>\n",
       "    <tr>\n",
       "      <th>57</th>\n",
       "      <td>173</td>\n",
       "      <td>Ethiopia</td>\n",
       "      <td>NaN</td>\n",
       "      <td>NaN</td>\n",
       "      <td>NaN</td>\n",
       "      <td>NaN</td>\n",
       "      <td>NaN</td>\n",
       "      <td>NaN</td>\n",
       "      <td>NaN</td>\n",
       "      <td>NaN</td>\n",
       "      <td>...</td>\n",
       "      <td>0.421</td>\n",
       "      <td>0.432</td>\n",
       "      <td>0.438</td>\n",
       "      <td>0.447</td>\n",
       "      <td>0.455</td>\n",
       "      <td>0.462</td>\n",
       "      <td>0.467</td>\n",
       "      <td>0.474</td>\n",
       "      <td>0.478</td>\n",
       "      <td>0.485</td>\n",
       "    </tr>\n",
       "    <tr>\n",
       "      <th>63</th>\n",
       "      <td>61</td>\n",
       "      <td>Georgia</td>\n",
       "      <td>NaN</td>\n",
       "      <td>NaN</td>\n",
       "      <td>NaN</td>\n",
       "      <td>NaN</td>\n",
       "      <td>NaN</td>\n",
       "      <td>NaN</td>\n",
       "      <td>NaN</td>\n",
       "      <td>NaN</td>\n",
       "      <td>...</td>\n",
       "      <td>0.751</td>\n",
       "      <td>0.757</td>\n",
       "      <td>0.767</td>\n",
       "      <td>0.775</td>\n",
       "      <td>0.783</td>\n",
       "      <td>0.79</td>\n",
       "      <td>0.792</td>\n",
       "      <td>0.799</td>\n",
       "      <td>0.805</td>\n",
       "      <td>0.812</td>\n",
       "    </tr>\n",
       "    <tr>\n",
       "      <th>67</th>\n",
       "      <td>74</td>\n",
       "      <td>Grenada</td>\n",
       "      <td>NaN</td>\n",
       "      <td>NaN</td>\n",
       "      <td>NaN</td>\n",
       "      <td>NaN</td>\n",
       "      <td>NaN</td>\n",
       "      <td>NaN</td>\n",
       "      <td>NaN</td>\n",
       "      <td>NaN</td>\n",
       "      <td>...</td>\n",
       "      <td>0.754</td>\n",
       "      <td>0.756</td>\n",
       "      <td>0.757</td>\n",
       "      <td>0.76</td>\n",
       "      <td>0.766</td>\n",
       "      <td>0.77</td>\n",
       "      <td>0.771</td>\n",
       "      <td>0.770</td>\n",
       "      <td>0.773</td>\n",
       "      <td>0.779</td>\n",
       "    </tr>\n",
       "    <tr>\n",
       "      <th>70</th>\n",
       "      <td>175</td>\n",
       "      <td>Guinea-Bissau</td>\n",
       "      <td>NaN</td>\n",
       "      <td>NaN</td>\n",
       "      <td>NaN</td>\n",
       "      <td>NaN</td>\n",
       "      <td>NaN</td>\n",
       "      <td>NaN</td>\n",
       "      <td>NaN</td>\n",
       "      <td>NaN</td>\n",
       "      <td>...</td>\n",
       "      <td>0.436</td>\n",
       "      <td>0.445</td>\n",
       "      <td>0.448</td>\n",
       "      <td>0.452</td>\n",
       "      <td>0.459</td>\n",
       "      <td>0.464</td>\n",
       "      <td>0.468</td>\n",
       "      <td>0.470</td>\n",
       "      <td>0.472</td>\n",
       "      <td>0.480</td>\n",
       "    </tr>\n",
       "    <tr>\n",
       "      <th>89</th>\n",
       "      <td>134</td>\n",
       "      <td>Kiribati</td>\n",
       "      <td>NaN</td>\n",
       "      <td>NaN</td>\n",
       "      <td>NaN</td>\n",
       "      <td>NaN</td>\n",
       "      <td>NaN</td>\n",
       "      <td>NaN</td>\n",
       "      <td>NaN</td>\n",
       "      <td>NaN</td>\n",
       "      <td>...</td>\n",
       "      <td>0.593</td>\n",
       "      <td>0.591</td>\n",
       "      <td>0.6</td>\n",
       "      <td>0.608</td>\n",
       "      <td>0.617</td>\n",
       "      <td>0.625</td>\n",
       "      <td>0.622</td>\n",
       "      <td>0.627</td>\n",
       "      <td>0.628</td>\n",
       "      <td>0.630</td>\n",
       "    </tr>\n",
       "    <tr>\n",
       "      <th>95</th>\n",
       "      <td>92</td>\n",
       "      <td>Lebanon</td>\n",
       "      <td>NaN</td>\n",
       "      <td>NaN</td>\n",
       "      <td>NaN</td>\n",
       "      <td>NaN</td>\n",
       "      <td>NaN</td>\n",
       "      <td>NaN</td>\n",
       "      <td>NaN</td>\n",
       "      <td>NaN</td>\n",
       "      <td>...</td>\n",
       "      <td>0.766</td>\n",
       "      <td>0.768</td>\n",
       "      <td>0.759</td>\n",
       "      <td>0.757</td>\n",
       "      <td>0.748</td>\n",
       "      <td>0.744</td>\n",
       "      <td>0.741</td>\n",
       "      <td>0.748</td>\n",
       "      <td>0.747</td>\n",
       "      <td>0.744</td>\n",
       "    </tr>\n",
       "    <tr>\n",
       "      <th>97</th>\n",
       "      <td>175</td>\n",
       "      <td>Liberia</td>\n",
       "      <td>NaN</td>\n",
       "      <td>NaN</td>\n",
       "      <td>NaN</td>\n",
       "      <td>NaN</td>\n",
       "      <td>NaN</td>\n",
       "      <td>NaN</td>\n",
       "      <td>NaN</td>\n",
       "      <td>NaN</td>\n",
       "      <td>...</td>\n",
       "      <td>0.455</td>\n",
       "      <td>0.472</td>\n",
       "      <td>0.469</td>\n",
       "      <td>0.477</td>\n",
       "      <td>0.478</td>\n",
       "      <td>0.477</td>\n",
       "      <td>0.478</td>\n",
       "      <td>0.481</td>\n",
       "      <td>0.480</td>\n",
       "      <td>0.480</td>\n",
       "    </tr>\n",
       "    <tr>\n",
       "      <th>99</th>\n",
       "      <td>19</td>\n",
       "      <td>Liechtenstein</td>\n",
       "      <td>NaN</td>\n",
       "      <td>NaN</td>\n",
       "      <td>NaN</td>\n",
       "      <td>NaN</td>\n",
       "      <td>NaN</td>\n",
       "      <td>NaN</td>\n",
       "      <td>NaN</td>\n",
       "      <td>NaN</td>\n",
       "      <td>...</td>\n",
       "      <td>0.904</td>\n",
       "      <td>0.909</td>\n",
       "      <td>0.908</td>\n",
       "      <td>0.912</td>\n",
       "      <td>0.911</td>\n",
       "      <td>0.911</td>\n",
       "      <td>0.915</td>\n",
       "      <td>0.916</td>\n",
       "      <td>0.919</td>\n",
       "      <td>0.919</td>\n",
       "    </tr>\n",
       "    <tr>\n",
       "      <th>102</th>\n",
       "      <td>164</td>\n",
       "      <td>Madagascar</td>\n",
       "      <td>NaN</td>\n",
       "      <td>NaN</td>\n",
       "      <td>NaN</td>\n",
       "      <td>NaN</td>\n",
       "      <td>NaN</td>\n",
       "      <td>NaN</td>\n",
       "      <td>NaN</td>\n",
       "      <td>NaN</td>\n",
       "      <td>...</td>\n",
       "      <td>0.511</td>\n",
       "      <td>0.512</td>\n",
       "      <td>0.514</td>\n",
       "      <td>0.517</td>\n",
       "      <td>0.52</td>\n",
       "      <td>0.522</td>\n",
       "      <td>0.523</td>\n",
       "      <td>0.526</td>\n",
       "      <td>0.527</td>\n",
       "      <td>0.528</td>\n",
       "    </tr>\n",
       "    <tr>\n",
       "      <th>105</th>\n",
       "      <td>95</td>\n",
       "      <td>Maldives</td>\n",
       "      <td>NaN</td>\n",
       "      <td>NaN</td>\n",
       "      <td>NaN</td>\n",
       "      <td>NaN</td>\n",
       "      <td>NaN</td>\n",
       "      <td>0.555</td>\n",
       "      <td>0.569</td>\n",
       "      <td>0.584</td>\n",
       "      <td>...</td>\n",
       "      <td>0.685</td>\n",
       "      <td>0.697</td>\n",
       "      <td>0.704</td>\n",
       "      <td>0.709</td>\n",
       "      <td>0.718</td>\n",
       "      <td>0.724</td>\n",
       "      <td>0.728</td>\n",
       "      <td>0.731</td>\n",
       "      <td>0.734</td>\n",
       "      <td>0.740</td>\n",
       "    </tr>\n",
       "    <tr>\n",
       "      <th>108</th>\n",
       "      <td>117</td>\n",
       "      <td>Marshall Islands</td>\n",
       "      <td>NaN</td>\n",
       "      <td>NaN</td>\n",
       "      <td>NaN</td>\n",
       "      <td>NaN</td>\n",
       "      <td>NaN</td>\n",
       "      <td>NaN</td>\n",
       "      <td>NaN</td>\n",
       "      <td>NaN</td>\n",
       "      <td>...</td>\n",
       "      <td>NaN</td>\n",
       "      <td>NaN</td>\n",
       "      <td>NaN</td>\n",
       "      <td>NaN</td>\n",
       "      <td>NaN</td>\n",
       "      <td>NaN</td>\n",
       "      <td>NaN</td>\n",
       "      <td>0.699</td>\n",
       "      <td>0.702</td>\n",
       "      <td>0.704</td>\n",
       "    </tr>\n",
       "    <tr>\n",
       "      <th>112</th>\n",
       "      <td>136</td>\n",
       "      <td>Micronesia (Federated States of)</td>\n",
       "      <td>NaN</td>\n",
       "      <td>NaN</td>\n",
       "      <td>NaN</td>\n",
       "      <td>NaN</td>\n",
       "      <td>NaN</td>\n",
       "      <td>NaN</td>\n",
       "      <td>NaN</td>\n",
       "      <td>NaN</td>\n",
       "      <td>...</td>\n",
       "      <td>0.601</td>\n",
       "      <td>0.604</td>\n",
       "      <td>0.605</td>\n",
       "      <td>0.605</td>\n",
       "      <td>0.604</td>\n",
       "      <td>0.612</td>\n",
       "      <td>0.614</td>\n",
       "      <td>0.616</td>\n",
       "      <td>0.618</td>\n",
       "      <td>0.620</td>\n",
       "    </tr>\n",
       "    <tr>\n",
       "      <th>115</th>\n",
       "      <td>48</td>\n",
       "      <td>Montenegro</td>\n",
       "      <td>NaN</td>\n",
       "      <td>NaN</td>\n",
       "      <td>NaN</td>\n",
       "      <td>NaN</td>\n",
       "      <td>NaN</td>\n",
       "      <td>NaN</td>\n",
       "      <td>NaN</td>\n",
       "      <td>NaN</td>\n",
       "      <td>...</td>\n",
       "      <td>0.802</td>\n",
       "      <td>0.806</td>\n",
       "      <td>0.807</td>\n",
       "      <td>0.811</td>\n",
       "      <td>0.813</td>\n",
       "      <td>0.816</td>\n",
       "      <td>0.818</td>\n",
       "      <td>0.822</td>\n",
       "      <td>0.826</td>\n",
       "      <td>0.829</td>\n",
       "    </tr>\n",
       "    <tr>\n",
       "      <th>125</th>\n",
       "      <td>161</td>\n",
       "      <td>Nigeria</td>\n",
       "      <td>NaN</td>\n",
       "      <td>NaN</td>\n",
       "      <td>NaN</td>\n",
       "      <td>NaN</td>\n",
       "      <td>NaN</td>\n",
       "      <td>NaN</td>\n",
       "      <td>NaN</td>\n",
       "      <td>NaN</td>\n",
       "      <td>...</td>\n",
       "      <td>0.482</td>\n",
       "      <td>0.492</td>\n",
       "      <td>0.5</td>\n",
       "      <td>0.519</td>\n",
       "      <td>0.523</td>\n",
       "      <td>0.526</td>\n",
       "      <td>0.526</td>\n",
       "      <td>0.531</td>\n",
       "      <td>0.534</td>\n",
       "      <td>0.539</td>\n",
       "    </tr>\n",
       "    <tr>\n",
       "      <th>126</th>\n",
       "      <td>82</td>\n",
       "      <td>North Macedonia</td>\n",
       "      <td>NaN</td>\n",
       "      <td>NaN</td>\n",
       "      <td>NaN</td>\n",
       "      <td>NaN</td>\n",
       "      <td>NaN</td>\n",
       "      <td>NaN</td>\n",
       "      <td>NaN</td>\n",
       "      <td>NaN</td>\n",
       "      <td>...</td>\n",
       "      <td>0.743</td>\n",
       "      <td>0.747</td>\n",
       "      <td>0.748</td>\n",
       "      <td>0.751</td>\n",
       "      <td>0.755</td>\n",
       "      <td>0.761</td>\n",
       "      <td>0.765</td>\n",
       "      <td>0.767</td>\n",
       "      <td>0.770</td>\n",
       "      <td>0.774</td>\n",
       "    </tr>\n",
       "    <tr>\n",
       "      <th>128</th>\n",
       "      <td>60</td>\n",
       "      <td>Oman</td>\n",
       "      <td>NaN</td>\n",
       "      <td>NaN</td>\n",
       "      <td>NaN</td>\n",
       "      <td>NaN</td>\n",
       "      <td>NaN</td>\n",
       "      <td>NaN</td>\n",
       "      <td>NaN</td>\n",
       "      <td>NaN</td>\n",
       "      <td>...</td>\n",
       "      <td>0.782</td>\n",
       "      <td>0.782</td>\n",
       "      <td>0.791</td>\n",
       "      <td>0.799</td>\n",
       "      <td>0.802</td>\n",
       "      <td>0.814</td>\n",
       "      <td>0.815</td>\n",
       "      <td>0.819</td>\n",
       "      <td>0.813</td>\n",
       "      <td>0.813</td>\n",
       "    </tr>\n",
       "    <tr>\n",
       "      <th>130</th>\n",
       "      <td>50</td>\n",
       "      <td>Palau</td>\n",
       "      <td>NaN</td>\n",
       "      <td>NaN</td>\n",
       "      <td>NaN</td>\n",
       "      <td>NaN</td>\n",
       "      <td>NaN</td>\n",
       "      <td>NaN</td>\n",
       "      <td>NaN</td>\n",
       "      <td>NaN</td>\n",
       "      <td>...</td>\n",
       "      <td>0.786</td>\n",
       "      <td>0.793</td>\n",
       "      <td>0.795</td>\n",
       "      <td>0.821</td>\n",
       "      <td>0.825</td>\n",
       "      <td>0.82</td>\n",
       "      <td>0.822</td>\n",
       "      <td>0.822</td>\n",
       "      <td>0.822</td>\n",
       "      <td>0.826</td>\n",
       "    </tr>\n",
       "    <tr>\n",
       "      <th>131</th>\n",
       "      <td>115</td>\n",
       "      <td>Palestine, State of</td>\n",
       "      <td>NaN</td>\n",
       "      <td>NaN</td>\n",
       "      <td>NaN</td>\n",
       "      <td>NaN</td>\n",
       "      <td>NaN</td>\n",
       "      <td>NaN</td>\n",
       "      <td>NaN</td>\n",
       "      <td>NaN</td>\n",
       "      <td>...</td>\n",
       "      <td>0.684</td>\n",
       "      <td>0.692</td>\n",
       "      <td>0.698</td>\n",
       "      <td>0.695</td>\n",
       "      <td>0.697</td>\n",
       "      <td>0.701</td>\n",
       "      <td>0.704</td>\n",
       "      <td>0.706</td>\n",
       "      <td>0.708</td>\n",
       "      <td>0.708</td>\n",
       "    </tr>\n",
       "    <tr>\n",
       "      <th>143</th>\n",
       "      <td>74</td>\n",
       "      <td>Saint Kitts and Nevis</td>\n",
       "      <td>NaN</td>\n",
       "      <td>NaN</td>\n",
       "      <td>NaN</td>\n",
       "      <td>NaN</td>\n",
       "      <td>NaN</td>\n",
       "      <td>NaN</td>\n",
       "      <td>NaN</td>\n",
       "      <td>NaN</td>\n",
       "      <td>...</td>\n",
       "      <td>0.746</td>\n",
       "      <td>0.749</td>\n",
       "      <td>0.745</td>\n",
       "      <td>0.764</td>\n",
       "      <td>0.768</td>\n",
       "      <td>0.768</td>\n",
       "      <td>0.771</td>\n",
       "      <td>0.770</td>\n",
       "      <td>0.773</td>\n",
       "      <td>0.779</td>\n",
       "    </tr>\n",
       "    <tr>\n",
       "      <th>144</th>\n",
       "      <td>86</td>\n",
       "      <td>Saint Lucia</td>\n",
       "      <td>NaN</td>\n",
       "      <td>NaN</td>\n",
       "      <td>NaN</td>\n",
       "      <td>NaN</td>\n",
       "      <td>NaN</td>\n",
       "      <td>NaN</td>\n",
       "      <td>NaN</td>\n",
       "      <td>NaN</td>\n",
       "      <td>...</td>\n",
       "      <td>0.73</td>\n",
       "      <td>0.736</td>\n",
       "      <td>0.73</td>\n",
       "      <td>0.732</td>\n",
       "      <td>0.735</td>\n",
       "      <td>0.747</td>\n",
       "      <td>0.752</td>\n",
       "      <td>0.759</td>\n",
       "      <td>0.758</td>\n",
       "      <td>0.759</td>\n",
       "    </tr>\n",
       "    <tr>\n",
       "      <th>145</th>\n",
       "      <td>97</td>\n",
       "      <td>Saint Vincent and the Grenadines</td>\n",
       "      <td>NaN</td>\n",
       "      <td>NaN</td>\n",
       "      <td>NaN</td>\n",
       "      <td>NaN</td>\n",
       "      <td>NaN</td>\n",
       "      <td>NaN</td>\n",
       "      <td>NaN</td>\n",
       "      <td>NaN</td>\n",
       "      <td>...</td>\n",
       "      <td>0.718</td>\n",
       "      <td>0.721</td>\n",
       "      <td>0.72</td>\n",
       "      <td>0.723</td>\n",
       "      <td>0.733</td>\n",
       "      <td>0.733</td>\n",
       "      <td>0.734</td>\n",
       "      <td>0.734</td>\n",
       "      <td>0.736</td>\n",
       "      <td>0.738</td>\n",
       "    </tr>\n",
       "    <tr>\n",
       "      <th>151</th>\n",
       "      <td>67</td>\n",
       "      <td>Seychelles</td>\n",
       "      <td>NaN</td>\n",
       "      <td>NaN</td>\n",
       "      <td>NaN</td>\n",
       "      <td>NaN</td>\n",
       "      <td>NaN</td>\n",
       "      <td>NaN</td>\n",
       "      <td>NaN</td>\n",
       "      <td>NaN</td>\n",
       "      <td>...</td>\n",
       "      <td>0.764</td>\n",
       "      <td>0.767</td>\n",
       "      <td>0.755</td>\n",
       "      <td>0.775</td>\n",
       "      <td>0.775</td>\n",
       "      <td>0.786</td>\n",
       "      <td>0.787</td>\n",
       "      <td>0.789</td>\n",
       "      <td>0.790</td>\n",
       "      <td>0.796</td>\n",
       "    </tr>\n",
       "    <tr>\n",
       "      <th>156</th>\n",
       "      <td>151</td>\n",
       "      <td>Solomon Islands</td>\n",
       "      <td>NaN</td>\n",
       "      <td>NaN</td>\n",
       "      <td>NaN</td>\n",
       "      <td>NaN</td>\n",
       "      <td>NaN</td>\n",
       "      <td>NaN</td>\n",
       "      <td>NaN</td>\n",
       "      <td>NaN</td>\n",
       "      <td>...</td>\n",
       "      <td>0.537</td>\n",
       "      <td>0.541</td>\n",
       "      <td>0.553</td>\n",
       "      <td>0.558</td>\n",
       "      <td>0.559</td>\n",
       "      <td>0.563</td>\n",
       "      <td>0.561</td>\n",
       "      <td>0.562</td>\n",
       "      <td>0.564</td>\n",
       "      <td>0.567</td>\n",
       "    </tr>\n",
       "    <tr>\n",
       "      <th>158</th>\n",
       "      <td>185</td>\n",
       "      <td>South Sudan</td>\n",
       "      <td>NaN</td>\n",
       "      <td>NaN</td>\n",
       "      <td>NaN</td>\n",
       "      <td>NaN</td>\n",
       "      <td>NaN</td>\n",
       "      <td>NaN</td>\n",
       "      <td>NaN</td>\n",
       "      <td>NaN</td>\n",
       "      <td>...</td>\n",
       "      <td>0.41</td>\n",
       "      <td>0.43</td>\n",
       "      <td>0.397</td>\n",
       "      <td>0.428</td>\n",
       "      <td>0.428</td>\n",
       "      <td>0.425</td>\n",
       "      <td>0.421</td>\n",
       "      <td>0.426</td>\n",
       "      <td>0.429</td>\n",
       "      <td>0.433</td>\n",
       "    </tr>\n",
       "    <tr>\n",
       "      <th>162</th>\n",
       "      <td>97</td>\n",
       "      <td>Suriname</td>\n",
       "      <td>NaN</td>\n",
       "      <td>NaN</td>\n",
       "      <td>NaN</td>\n",
       "      <td>NaN</td>\n",
       "      <td>NaN</td>\n",
       "      <td>NaN</td>\n",
       "      <td>NaN</td>\n",
       "      <td>NaN</td>\n",
       "      <td>...</td>\n",
       "      <td>0.71</td>\n",
       "      <td>0.717</td>\n",
       "      <td>0.729</td>\n",
       "      <td>0.734</td>\n",
       "      <td>0.735</td>\n",
       "      <td>0.74</td>\n",
       "      <td>0.735</td>\n",
       "      <td>0.732</td>\n",
       "      <td>0.734</td>\n",
       "      <td>0.738</td>\n",
       "    </tr>\n",
       "    <tr>\n",
       "      <th>169</th>\n",
       "      <td>141</td>\n",
       "      <td>Timor-Leste</td>\n",
       "      <td>NaN</td>\n",
       "      <td>NaN</td>\n",
       "      <td>NaN</td>\n",
       "      <td>NaN</td>\n",
       "      <td>NaN</td>\n",
       "      <td>NaN</td>\n",
       "      <td>NaN</td>\n",
       "      <td>NaN</td>\n",
       "      <td>...</td>\n",
       "      <td>0.628</td>\n",
       "      <td>0.644</td>\n",
       "      <td>0.639</td>\n",
       "      <td>0.63</td>\n",
       "      <td>0.62</td>\n",
       "      <td>0.61</td>\n",
       "      <td>0.598</td>\n",
       "      <td>0.599</td>\n",
       "      <td>0.599</td>\n",
       "      <td>0.606</td>\n",
       "    </tr>\n",
       "    <tr>\n",
       "      <th>175</th>\n",
       "      <td>111</td>\n",
       "      <td>Turkmenistan</td>\n",
       "      <td>NaN</td>\n",
       "      <td>NaN</td>\n",
       "      <td>NaN</td>\n",
       "      <td>NaN</td>\n",
       "      <td>NaN</td>\n",
       "      <td>NaN</td>\n",
       "      <td>NaN</td>\n",
       "      <td>NaN</td>\n",
       "      <td>...</td>\n",
       "      <td>0.666</td>\n",
       "      <td>0.673</td>\n",
       "      <td>0.679</td>\n",
       "      <td>0.685</td>\n",
       "      <td>0.689</td>\n",
       "      <td>0.694</td>\n",
       "      <td>0.699</td>\n",
       "      <td>0.701</td>\n",
       "      <td>0.710</td>\n",
       "      <td>0.715</td>\n",
       "    </tr>\n",
       "    <tr>\n",
       "      <th>182</th>\n",
       "      <td>106</td>\n",
       "      <td>Uzbekistan</td>\n",
       "      <td>NaN</td>\n",
       "      <td>NaN</td>\n",
       "      <td>NaN</td>\n",
       "      <td>NaN</td>\n",
       "      <td>NaN</td>\n",
       "      <td>NaN</td>\n",
       "      <td>NaN</td>\n",
       "      <td>NaN</td>\n",
       "      <td>...</td>\n",
       "      <td>0.669</td>\n",
       "      <td>0.676</td>\n",
       "      <td>0.685</td>\n",
       "      <td>0.692</td>\n",
       "      <td>0.696</td>\n",
       "      <td>0.701</td>\n",
       "      <td>0.705</td>\n",
       "      <td>0.713</td>\n",
       "      <td>0.717</td>\n",
       "      <td>0.720</td>\n",
       "    </tr>\n",
       "    <tr>\n",
       "      <th>183</th>\n",
       "      <td>140</td>\n",
       "      <td>Vanuatu</td>\n",
       "      <td>NaN</td>\n",
       "      <td>NaN</td>\n",
       "      <td>NaN</td>\n",
       "      <td>NaN</td>\n",
       "      <td>NaN</td>\n",
       "      <td>NaN</td>\n",
       "      <td>NaN</td>\n",
       "      <td>NaN</td>\n",
       "      <td>...</td>\n",
       "      <td>0.59</td>\n",
       "      <td>0.591</td>\n",
       "      <td>0.591</td>\n",
       "      <td>0.593</td>\n",
       "      <td>0.594</td>\n",
       "      <td>0.598</td>\n",
       "      <td>0.598</td>\n",
       "      <td>0.601</td>\n",
       "      <td>0.603</td>\n",
       "      <td>0.609</td>\n",
       "    </tr>\n",
       "  </tbody>\n",
       "</table>\n",
       "<p>45 rows × 32 columns</p>\n",
       "</div>"
      ],
      "text/plain": [
       "     HDI Rank                           Country 1990 1991 1992 1993 1994  \\\n",
       "3          36                           Andorra  NaN  NaN  NaN  NaN  NaN   \n",
       "4         148                            Angola  NaN  NaN  NaN  NaN  NaN   \n",
       "5          78               Antigua and Barbuda  NaN  NaN  NaN  NaN  NaN   \n",
       "10         88                        Azerbaijan  NaN  NaN  NaN  NaN  NaN   \n",
       "11         58                           Bahamas  NaN  NaN  NaN  NaN  NaN   \n",
       "15         53                           Belarus  NaN  NaN  NaN  NaN  NaN   \n",
       "19        129                            Bhutan  NaN  NaN  NaN  NaN  NaN   \n",
       "21         73            Bosnia and Herzegovina  NaN  NaN  NaN  NaN  NaN   \n",
       "26        182                      Burkina Faso  NaN  NaN  NaN  NaN  NaN   \n",
       "28        126                        Cabo Verde  NaN  NaN  NaN  NaN  NaN   \n",
       "33        187                              Chad  NaN  NaN  NaN  NaN  NaN   \n",
       "37        156                           Comoros  NaN  NaN  NaN  NaN  NaN   \n",
       "47        166                          Djibouti  NaN  NaN  NaN  NaN  NaN   \n",
       "48         94                          Dominica  NaN  NaN  NaN  NaN  NaN   \n",
       "53        145                 Equatorial Guinea  NaN  NaN  NaN  NaN  NaN   \n",
       "54        180                           Eritrea  NaN  NaN  NaN  NaN  NaN   \n",
       "57        173                          Ethiopia  NaN  NaN  NaN  NaN  NaN   \n",
       "63         61                           Georgia  NaN  NaN  NaN  NaN  NaN   \n",
       "67         74                           Grenada  NaN  NaN  NaN  NaN  NaN   \n",
       "70        175                     Guinea-Bissau  NaN  NaN  NaN  NaN  NaN   \n",
       "89        134                          Kiribati  NaN  NaN  NaN  NaN  NaN   \n",
       "95         92                           Lebanon  NaN  NaN  NaN  NaN  NaN   \n",
       "97        175                           Liberia  NaN  NaN  NaN  NaN  NaN   \n",
       "99         19                     Liechtenstein  NaN  NaN  NaN  NaN  NaN   \n",
       "102       164                        Madagascar  NaN  NaN  NaN  NaN  NaN   \n",
       "105        95                          Maldives  NaN  NaN  NaN  NaN  NaN   \n",
       "108       117                  Marshall Islands  NaN  NaN  NaN  NaN  NaN   \n",
       "112       136  Micronesia (Federated States of)  NaN  NaN  NaN  NaN  NaN   \n",
       "115        48                        Montenegro  NaN  NaN  NaN  NaN  NaN   \n",
       "125       161                           Nigeria  NaN  NaN  NaN  NaN  NaN   \n",
       "126        82                   North Macedonia  NaN  NaN  NaN  NaN  NaN   \n",
       "128        60                              Oman  NaN  NaN  NaN  NaN  NaN   \n",
       "130        50                             Palau  NaN  NaN  NaN  NaN  NaN   \n",
       "131       115               Palestine, State of  NaN  NaN  NaN  NaN  NaN   \n",
       "143        74             Saint Kitts and Nevis  NaN  NaN  NaN  NaN  NaN   \n",
       "144        86                       Saint Lucia  NaN  NaN  NaN  NaN  NaN   \n",
       "145        97  Saint Vincent and the Grenadines  NaN  NaN  NaN  NaN  NaN   \n",
       "151        67                        Seychelles  NaN  NaN  NaN  NaN  NaN   \n",
       "156       151                   Solomon Islands  NaN  NaN  NaN  NaN  NaN   \n",
       "158       185                       South Sudan  NaN  NaN  NaN  NaN  NaN   \n",
       "162        97                          Suriname  NaN  NaN  NaN  NaN  NaN   \n",
       "169       141                       Timor-Leste  NaN  NaN  NaN  NaN  NaN   \n",
       "175       111                      Turkmenistan  NaN  NaN  NaN  NaN  NaN   \n",
       "182       106                        Uzbekistan  NaN  NaN  NaN  NaN  NaN   \n",
       "183       140                           Vanuatu  NaN  NaN  NaN  NaN  NaN   \n",
       "\n",
       "      1995   1996   1997  ...   2010   2011   2012   2013   2014   2015  \\\n",
       "3      NaN    NaN    NaN  ...  0.837  0.836  0.858  0.856  0.863  0.862   \n",
       "4      NaN    NaN    NaN  ...  0.517  0.533  0.544  0.555  0.565  0.572   \n",
       "5      NaN    NaN    NaN  ...  0.763  0.755  0.759   0.76   0.76  0.762   \n",
       "10   0.604  0.605   0.61  ...  0.726  0.727   0.73  0.735   0.74  0.744   \n",
       "11     NaN    NaN    NaN  ...  0.805  0.805  0.807  0.806  0.805  0.808   \n",
       "15    0.66  0.664   0.67  ...  0.795  0.801  0.806  0.811  0.814  0.814   \n",
       "19     NaN    NaN    NaN  ...  0.574  0.585  0.597   0.61  0.618  0.628   \n",
       "21     NaN    NaN    NaN  ...  0.721  0.729  0.748  0.755  0.758  0.761   \n",
       "26     NaN    NaN    NaN  ...  0.384  0.394  0.403   0.41  0.413  0.422   \n",
       "28     NaN    NaN    NaN  ...  0.632  0.639  0.644  0.647  0.654  0.656   \n",
       "33     NaN    NaN    NaN  ...  0.369   0.38  0.388  0.394  0.401  0.398   \n",
       "37     NaN    NaN    NaN  ...  0.521  0.533  0.538  0.542  0.543  0.545   \n",
       "47   0.351  0.349  0.354  ...  0.454  0.463  0.474  0.484  0.492  0.499   \n",
       "48     NaN    NaN    NaN  ...   0.74  0.741  0.739  0.739  0.741  0.739   \n",
       "53     NaN    NaN    NaN  ...  0.576   0.58  0.584  0.585  0.586  0.589   \n",
       "54     NaN    NaN    NaN  ...  0.436  0.436  0.441  0.446  0.457  0.454   \n",
       "57     NaN    NaN    NaN  ...  0.421  0.432  0.438  0.447  0.455  0.462   \n",
       "63     NaN    NaN    NaN  ...  0.751  0.757  0.767  0.775  0.783   0.79   \n",
       "67     NaN    NaN    NaN  ...  0.754  0.756  0.757   0.76  0.766   0.77   \n",
       "70     NaN    NaN    NaN  ...  0.436  0.445  0.448  0.452  0.459  0.464   \n",
       "89     NaN    NaN    NaN  ...  0.593  0.591    0.6  0.608  0.617  0.625   \n",
       "95     NaN    NaN    NaN  ...  0.766  0.768  0.759  0.757  0.748  0.744   \n",
       "97     NaN    NaN    NaN  ...  0.455  0.472  0.469  0.477  0.478  0.477   \n",
       "99     NaN    NaN    NaN  ...  0.904  0.909  0.908  0.912  0.911  0.911   \n",
       "102    NaN    NaN    NaN  ...  0.511  0.512  0.514  0.517   0.52  0.522   \n",
       "105  0.555  0.569  0.584  ...  0.685  0.697  0.704  0.709  0.718  0.724   \n",
       "108    NaN    NaN    NaN  ...    NaN    NaN    NaN    NaN    NaN    NaN   \n",
       "112    NaN    NaN    NaN  ...  0.601  0.604  0.605  0.605  0.604  0.612   \n",
       "115    NaN    NaN    NaN  ...  0.802  0.806  0.807  0.811  0.813  0.816   \n",
       "125    NaN    NaN    NaN  ...  0.482  0.492    0.5  0.519  0.523  0.526   \n",
       "126    NaN    NaN    NaN  ...  0.743  0.747  0.748  0.751  0.755  0.761   \n",
       "128    NaN    NaN    NaN  ...  0.782  0.782  0.791  0.799  0.802  0.814   \n",
       "130    NaN    NaN    NaN  ...  0.786  0.793  0.795  0.821  0.825   0.82   \n",
       "131    NaN    NaN    NaN  ...  0.684  0.692  0.698  0.695  0.697  0.701   \n",
       "143    NaN    NaN    NaN  ...  0.746  0.749  0.745  0.764  0.768  0.768   \n",
       "144    NaN    NaN    NaN  ...   0.73  0.736   0.73  0.732  0.735  0.747   \n",
       "145    NaN    NaN    NaN  ...  0.718  0.721   0.72  0.723  0.733  0.733   \n",
       "151    NaN    NaN    NaN  ...  0.764  0.767  0.755  0.775  0.775  0.786   \n",
       "156    NaN    NaN    NaN  ...  0.537  0.541  0.553  0.558  0.559  0.563   \n",
       "158    NaN    NaN    NaN  ...   0.41   0.43  0.397  0.428  0.428  0.425   \n",
       "162    NaN    NaN    NaN  ...   0.71  0.717  0.729  0.734  0.735   0.74   \n",
       "169    NaN    NaN    NaN  ...  0.628  0.644  0.639   0.63   0.62   0.61   \n",
       "175    NaN    NaN    NaN  ...  0.666  0.673  0.679  0.685  0.689  0.694   \n",
       "182    NaN    NaN    NaN  ...  0.669  0.676  0.685  0.692  0.696  0.701   \n",
       "183    NaN    NaN    NaN  ...   0.59  0.591  0.591  0.593  0.594  0.598   \n",
       "\n",
       "      2016   2017   2018   2019  \n",
       "3    0.866  0.863  0.867  0.868  \n",
       "4    0.578  0.582  0.582  0.581  \n",
       "5    0.765  0.768  0.772  0.778  \n",
       "10   0.751  0.754  0.754  0.756  \n",
       "11    0.81  0.812  0.812  0.814  \n",
       "15   0.815  0.819  0.823  0.823  \n",
       "19   0.637  0.646  0.649  0.654  \n",
       "21   0.772  0.774  0.777  0.780  \n",
       "26   0.428  0.439  0.443  0.452  \n",
       "28   0.657  0.660  0.663  0.665  \n",
       "33   0.393  0.396  0.397  0.398  \n",
       "37   0.547  0.550  0.552  0.554  \n",
       "47   0.505  0.510  0.518  0.524  \n",
       "48    0.74  0.736  0.738  0.742  \n",
       "53   0.588  0.584  0.582  0.592  \n",
       "54   0.456  0.454  0.456  0.459  \n",
       "57   0.467  0.474  0.478  0.485  \n",
       "63   0.792  0.799  0.805  0.812  \n",
       "67   0.771  0.770  0.773  0.779  \n",
       "70   0.468  0.470  0.472  0.480  \n",
       "89   0.622  0.627  0.628  0.630  \n",
       "95   0.741  0.748  0.747  0.744  \n",
       "97   0.478  0.481  0.480  0.480  \n",
       "99   0.915  0.916  0.919  0.919  \n",
       "102  0.523  0.526  0.527  0.528  \n",
       "105  0.728  0.731  0.734  0.740  \n",
       "108    NaN  0.699  0.702  0.704  \n",
       "112  0.614  0.616  0.618  0.620  \n",
       "115  0.818  0.822  0.826  0.829  \n",
       "125  0.526  0.531  0.534  0.539  \n",
       "126  0.765  0.767  0.770  0.774  \n",
       "128  0.815  0.819  0.813  0.813  \n",
       "130  0.822  0.822  0.822  0.826  \n",
       "131  0.704  0.706  0.708  0.708  \n",
       "143  0.771  0.770  0.773  0.779  \n",
       "144  0.752  0.759  0.758  0.759  \n",
       "145  0.734  0.734  0.736  0.738  \n",
       "151  0.787  0.789  0.790  0.796  \n",
       "156  0.561  0.562  0.564  0.567  \n",
       "158  0.421  0.426  0.429  0.433  \n",
       "162  0.735  0.732  0.734  0.738  \n",
       "169  0.598  0.599  0.599  0.606  \n",
       "175  0.699  0.701  0.710  0.715  \n",
       "182  0.705  0.713  0.717  0.720  \n",
       "183  0.598  0.601  0.603  0.609  \n",
       "\n",
       "[45 rows x 32 columns]"
      ]
     },
     "execution_count": 128,
     "metadata": {},
     "output_type": "execute_result"
    }
   ],
   "source": [
    "df[df['1990'].isnull()]"
   ]
  },
  {
   "cell_type": "code",
   "execution_count": 129,
   "metadata": {},
   "outputs": [],
   "source": [
    "for col in columns:\n",
    "    df[col] = pd.to_numeric(df[col])\n",
    "    df[col] = df[col].fillna(df[col].mean())"
   ]
  },
  {
   "cell_type": "code",
   "execution_count": 130,
   "metadata": {},
   "outputs": [
    {
     "data": {
      "text/plain": [
       "HDI Rank    0\n",
       "Country     0\n",
       "1990        0\n",
       "1991        0\n",
       "1992        0\n",
       "1993        0\n",
       "1994        0\n",
       "1995        0\n",
       "1996        0\n",
       "1997        0\n",
       "1998        0\n",
       "1999        0\n",
       "2000        0\n",
       "2001        0\n",
       "2002        0\n",
       "2003        0\n",
       "2004        0\n",
       "2005        0\n",
       "2006        0\n",
       "2007        0\n",
       "2008        0\n",
       "2009        0\n",
       "2010        0\n",
       "2011        0\n",
       "2012        0\n",
       "2013        0\n",
       "2014        0\n",
       "2015        0\n",
       "2016        0\n",
       "2017        0\n",
       "2018        0\n",
       "2019        0\n",
       "dtype: int64"
      ]
     },
     "execution_count": 130,
     "metadata": {},
     "output_type": "execute_result"
    }
   ],
   "source": [
    "df.isnull().sum()"
   ]
  },
  {
   "cell_type": "code",
   "execution_count": 131,
   "metadata": {},
   "outputs": [
    {
     "data": {
      "text/plain": [
       "count    189.000000\n",
       "mean       0.632318\n",
       "std        0.152433\n",
       "min        0.259000\n",
       "25%        0.560000\n",
       "50%        0.632318\n",
       "75%        0.738000\n",
       "max        0.909000\n",
       "Name: 1999, dtype: float64"
      ]
     },
     "execution_count": 131,
     "metadata": {},
     "output_type": "execute_result"
    }
   ],
   "source": [
    "df['1999'].describe()"
   ]
  },
  {
   "cell_type": "code",
   "execution_count": 132,
   "metadata": {},
   "outputs": [
    {
     "data": {
      "text/html": [
       "<div>\n",
       "<style scoped>\n",
       "    .dataframe tbody tr th:only-of-type {\n",
       "        vertical-align: middle;\n",
       "    }\n",
       "\n",
       "    .dataframe tbody tr th {\n",
       "        vertical-align: top;\n",
       "    }\n",
       "\n",
       "    .dataframe thead th {\n",
       "        text-align: right;\n",
       "    }\n",
       "</style>\n",
       "<table border=\"1\" class=\"dataframe\">\n",
       "  <thead>\n",
       "    <tr style=\"text-align: right;\">\n",
       "      <th></th>\n",
       "      <th>HDI Rank</th>\n",
       "      <th>1990</th>\n",
       "      <th>1991</th>\n",
       "      <th>1992</th>\n",
       "      <th>1993</th>\n",
       "      <th>1994</th>\n",
       "      <th>1995</th>\n",
       "      <th>1996</th>\n",
       "      <th>1997</th>\n",
       "      <th>1998</th>\n",
       "      <th>...</th>\n",
       "      <th>2010</th>\n",
       "      <th>2011</th>\n",
       "      <th>2012</th>\n",
       "      <th>2013</th>\n",
       "      <th>2014</th>\n",
       "      <th>2015</th>\n",
       "      <th>2016</th>\n",
       "      <th>2017</th>\n",
       "      <th>2018</th>\n",
       "      <th>2019</th>\n",
       "    </tr>\n",
       "  </thead>\n",
       "  <tbody>\n",
       "    <tr>\n",
       "      <th>count</th>\n",
       "      <td>189.000000</td>\n",
       "      <td>189.000000</td>\n",
       "      <td>189.000000</td>\n",
       "      <td>189.000000</td>\n",
       "      <td>189.000000</td>\n",
       "      <td>189.000000</td>\n",
       "      <td>189.000000</td>\n",
       "      <td>189.000000</td>\n",
       "      <td>189.000000</td>\n",
       "      <td>189.000000</td>\n",
       "      <td>...</td>\n",
       "      <td>189.000000</td>\n",
       "      <td>189.000000</td>\n",
       "      <td>189.000000</td>\n",
       "      <td>189.000000</td>\n",
       "      <td>189.000000</td>\n",
       "      <td>189.000000</td>\n",
       "      <td>189.000000</td>\n",
       "      <td>189.000000</td>\n",
       "      <td>189.000000</td>\n",
       "      <td>189.000000</td>\n",
       "    </tr>\n",
       "    <tr>\n",
       "      <th>mean</th>\n",
       "      <td>94.783069</td>\n",
       "      <td>0.599653</td>\n",
       "      <td>0.601854</td>\n",
       "      <td>0.604187</td>\n",
       "      <td>0.608229</td>\n",
       "      <td>0.612347</td>\n",
       "      <td>0.615669</td>\n",
       "      <td>0.621007</td>\n",
       "      <td>0.626182</td>\n",
       "      <td>0.631446</td>\n",
       "      <td>...</td>\n",
       "      <td>0.687197</td>\n",
       "      <td>0.692713</td>\n",
       "      <td>0.697676</td>\n",
       "      <td>0.702644</td>\n",
       "      <td>0.706777</td>\n",
       "      <td>0.710511</td>\n",
       "      <td>0.713367</td>\n",
       "      <td>0.716783</td>\n",
       "      <td>0.719423</td>\n",
       "      <td>0.722423</td>\n",
       "    </tr>\n",
       "    <tr>\n",
       "      <th>std</th>\n",
       "      <td>54.754486</td>\n",
       "      <td>0.144384</td>\n",
       "      <td>0.144851</td>\n",
       "      <td>0.145492</td>\n",
       "      <td>0.146462</td>\n",
       "      <td>0.148029</td>\n",
       "      <td>0.149182</td>\n",
       "      <td>0.149355</td>\n",
       "      <td>0.149455</td>\n",
       "      <td>0.149789</td>\n",
       "      <td>...</td>\n",
       "      <td>0.156158</td>\n",
       "      <td>0.154685</td>\n",
       "      <td>0.153394</td>\n",
       "      <td>0.152343</td>\n",
       "      <td>0.151631</td>\n",
       "      <td>0.151464</td>\n",
       "      <td>0.151398</td>\n",
       "      <td>0.150598</td>\n",
       "      <td>0.150379</td>\n",
       "      <td>0.149791</td>\n",
       "    </tr>\n",
       "    <tr>\n",
       "      <th>min</th>\n",
       "      <td>1.000000</td>\n",
       "      <td>0.220000</td>\n",
       "      <td>0.220000</td>\n",
       "      <td>0.202000</td>\n",
       "      <td>0.197000</td>\n",
       "      <td>0.192000</td>\n",
       "      <td>0.231000</td>\n",
       "      <td>0.244000</td>\n",
       "      <td>0.248000</td>\n",
       "      <td>0.255000</td>\n",
       "      <td>...</td>\n",
       "      <td>0.331000</td>\n",
       "      <td>0.338000</td>\n",
       "      <td>0.350000</td>\n",
       "      <td>0.357000</td>\n",
       "      <td>0.365000</td>\n",
       "      <td>0.372000</td>\n",
       "      <td>0.378000</td>\n",
       "      <td>0.386000</td>\n",
       "      <td>0.391000</td>\n",
       "      <td>0.394000</td>\n",
       "    </tr>\n",
       "    <tr>\n",
       "      <th>25%</th>\n",
       "      <td>48.000000</td>\n",
       "      <td>0.548000</td>\n",
       "      <td>0.542000</td>\n",
       "      <td>0.552000</td>\n",
       "      <td>0.548000</td>\n",
       "      <td>0.550000</td>\n",
       "      <td>0.549000</td>\n",
       "      <td>0.560000</td>\n",
       "      <td>0.564000</td>\n",
       "      <td>0.571000</td>\n",
       "      <td>...</td>\n",
       "      <td>0.552000</td>\n",
       "      <td>0.565000</td>\n",
       "      <td>0.573000</td>\n",
       "      <td>0.579000</td>\n",
       "      <td>0.579000</td>\n",
       "      <td>0.587000</td>\n",
       "      <td>0.588000</td>\n",
       "      <td>0.595000</td>\n",
       "      <td>0.599000</td>\n",
       "      <td>0.602000</td>\n",
       "    </tr>\n",
       "    <tr>\n",
       "      <th>50%</th>\n",
       "      <td>95.000000</td>\n",
       "      <td>0.599653</td>\n",
       "      <td>0.601854</td>\n",
       "      <td>0.604187</td>\n",
       "      <td>0.608229</td>\n",
       "      <td>0.612347</td>\n",
       "      <td>0.615669</td>\n",
       "      <td>0.621007</td>\n",
       "      <td>0.626182</td>\n",
       "      <td>0.631446</td>\n",
       "      <td>...</td>\n",
       "      <td>0.718000</td>\n",
       "      <td>0.721000</td>\n",
       "      <td>0.728000</td>\n",
       "      <td>0.729000</td>\n",
       "      <td>0.733000</td>\n",
       "      <td>0.737000</td>\n",
       "      <td>0.738000</td>\n",
       "      <td>0.736000</td>\n",
       "      <td>0.738000</td>\n",
       "      <td>0.740000</td>\n",
       "    </tr>\n",
       "    <tr>\n",
       "      <th>75%</th>\n",
       "      <td>142.000000</td>\n",
       "      <td>0.708000</td>\n",
       "      <td>0.706000</td>\n",
       "      <td>0.706000</td>\n",
       "      <td>0.704000</td>\n",
       "      <td>0.704000</td>\n",
       "      <td>0.710000</td>\n",
       "      <td>0.718000</td>\n",
       "      <td>0.727000</td>\n",
       "      <td>0.736000</td>\n",
       "      <td>...</td>\n",
       "      <td>0.803000</td>\n",
       "      <td>0.806000</td>\n",
       "      <td>0.808000</td>\n",
       "      <td>0.815000</td>\n",
       "      <td>0.820000</td>\n",
       "      <td>0.820000</td>\n",
       "      <td>0.822000</td>\n",
       "      <td>0.822000</td>\n",
       "      <td>0.826000</td>\n",
       "      <td>0.829000</td>\n",
       "    </tr>\n",
       "    <tr>\n",
       "      <th>max</th>\n",
       "      <td>189.000000</td>\n",
       "      <td>0.871000</td>\n",
       "      <td>0.871000</td>\n",
       "      <td>0.873000</td>\n",
       "      <td>0.877000</td>\n",
       "      <td>0.883000</td>\n",
       "      <td>0.888000</td>\n",
       "      <td>0.890000</td>\n",
       "      <td>0.893000</td>\n",
       "      <td>0.904000</td>\n",
       "      <td>...</td>\n",
       "      <td>0.941000</td>\n",
       "      <td>0.942000</td>\n",
       "      <td>0.944000</td>\n",
       "      <td>0.946000</td>\n",
       "      <td>0.944000</td>\n",
       "      <td>0.947000</td>\n",
       "      <td>0.950000</td>\n",
       "      <td>0.954000</td>\n",
       "      <td>0.956000</td>\n",
       "      <td>0.957000</td>\n",
       "    </tr>\n",
       "  </tbody>\n",
       "</table>\n",
       "<p>8 rows × 31 columns</p>\n",
       "</div>"
      ],
      "text/plain": [
       "         HDI Rank        1990        1991        1992        1993        1994  \\\n",
       "count  189.000000  189.000000  189.000000  189.000000  189.000000  189.000000   \n",
       "mean    94.783069    0.599653    0.601854    0.604187    0.608229    0.612347   \n",
       "std     54.754486    0.144384    0.144851    0.145492    0.146462    0.148029   \n",
       "min      1.000000    0.220000    0.220000    0.202000    0.197000    0.192000   \n",
       "25%     48.000000    0.548000    0.542000    0.552000    0.548000    0.550000   \n",
       "50%     95.000000    0.599653    0.601854    0.604187    0.608229    0.612347   \n",
       "75%    142.000000    0.708000    0.706000    0.706000    0.704000    0.704000   \n",
       "max    189.000000    0.871000    0.871000    0.873000    0.877000    0.883000   \n",
       "\n",
       "             1995        1996        1997        1998  ...        2010  \\\n",
       "count  189.000000  189.000000  189.000000  189.000000  ...  189.000000   \n",
       "mean     0.615669    0.621007    0.626182    0.631446  ...    0.687197   \n",
       "std      0.149182    0.149355    0.149455    0.149789  ...    0.156158   \n",
       "min      0.231000    0.244000    0.248000    0.255000  ...    0.331000   \n",
       "25%      0.549000    0.560000    0.564000    0.571000  ...    0.552000   \n",
       "50%      0.615669    0.621007    0.626182    0.631446  ...    0.718000   \n",
       "75%      0.710000    0.718000    0.727000    0.736000  ...    0.803000   \n",
       "max      0.888000    0.890000    0.893000    0.904000  ...    0.941000   \n",
       "\n",
       "             2011        2012        2013        2014        2015        2016  \\\n",
       "count  189.000000  189.000000  189.000000  189.000000  189.000000  189.000000   \n",
       "mean     0.692713    0.697676    0.702644    0.706777    0.710511    0.713367   \n",
       "std      0.154685    0.153394    0.152343    0.151631    0.151464    0.151398   \n",
       "min      0.338000    0.350000    0.357000    0.365000    0.372000    0.378000   \n",
       "25%      0.565000    0.573000    0.579000    0.579000    0.587000    0.588000   \n",
       "50%      0.721000    0.728000    0.729000    0.733000    0.737000    0.738000   \n",
       "75%      0.806000    0.808000    0.815000    0.820000    0.820000    0.822000   \n",
       "max      0.942000    0.944000    0.946000    0.944000    0.947000    0.950000   \n",
       "\n",
       "             2017        2018        2019  \n",
       "count  189.000000  189.000000  189.000000  \n",
       "mean     0.716783    0.719423    0.722423  \n",
       "std      0.150598    0.150379    0.149791  \n",
       "min      0.386000    0.391000    0.394000  \n",
       "25%      0.595000    0.599000    0.602000  \n",
       "50%      0.736000    0.738000    0.740000  \n",
       "75%      0.822000    0.826000    0.829000  \n",
       "max      0.954000    0.956000    0.957000  \n",
       "\n",
       "[8 rows x 31 columns]"
      ]
     },
     "execution_count": 132,
     "metadata": {},
     "output_type": "execute_result"
    }
   ],
   "source": [
    "df.describe()"
   ]
  },
  {
   "cell_type": "code",
   "execution_count": 133,
   "metadata": {},
   "outputs": [
    {
     "data": {
      "image/png": "[encoded data removed]",
      "text/plain": [
       "<Figure size 432x288 with 1 Axes>"
      ]
     },
     "metadata": {
      "needs_background": "light"
     },
     "output_type": "display_data"
    }
   ],
   "source": [
    "sns.distplot(df['2018']);"
   ]
  },
  {
   "cell_type": "code",
   "execution_count": 134,
   "metadata": {},
   "outputs": [
    {
     "data": {
      "text/plain": [
       "<AxesSubplot: xlabel='HDI Rank', ylabel='2019'>"
      ]
     },
     "execution_count": 134,
     "metadata": {},
     "output_type": "execute_result"
    },
    {
     "data": {
      "image/png": "[encoded data removed]",
      "text/plain": [
       "<Figure size 432x288 with 1 Axes>"
      ]
     },
     "metadata": {
      "needs_background": "light"
     },
     "output_type": "display_data"
    }
   ],
   "source": [
    "var = 'HDI Rank'\n",
    "data = pd.concat([df[var],df['2019']], axis=1)\n",
    "\n",
    "ax = data.plot.scatter(x=var, y='2019', ylim=(0,1), xlim=(192,-2));\n",
    "ax"
   ]
  },
  {
   "cell_type": "code",
   "execution_count": 135,
   "metadata": {},
   "outputs": [
    {
     "data": {
      "text/html": [
       "<div>\n",
       "<style scoped>\n",
       "    .dataframe tbody tr th:only-of-type {\n",
       "        vertical-align: middle;\n",
       "    }\n",
       "\n",
       "    .dataframe tbody tr th {\n",
       "        vertical-align: top;\n",
       "    }\n",
       "\n",
       "    .dataframe thead th {\n",
       "        text-align: right;\n",
       "    }\n",
       "</style>\n",
       "<table border=\"1\" class=\"dataframe\">\n",
       "  <thead>\n",
       "    <tr style=\"text-align: right;\">\n",
       "      <th></th>\n",
       "      <th>HDI Rank</th>\n",
       "      <th>Country</th>\n",
       "      <th>1990</th>\n",
       "      <th>1991</th>\n",
       "      <th>1992</th>\n",
       "      <th>1993</th>\n",
       "      <th>1994</th>\n",
       "      <th>1995</th>\n",
       "      <th>1996</th>\n",
       "      <th>1997</th>\n",
       "      <th>...</th>\n",
       "      <th>2010</th>\n",
       "      <th>2011</th>\n",
       "      <th>2012</th>\n",
       "      <th>2013</th>\n",
       "      <th>2014</th>\n",
       "      <th>2015</th>\n",
       "      <th>2016</th>\n",
       "      <th>2017</th>\n",
       "      <th>2018</th>\n",
       "      <th>2019</th>\n",
       "    </tr>\n",
       "  </thead>\n",
       "  <tbody>\n",
       "    <tr>\n",
       "      <th>0</th>\n",
       "      <td>169</td>\n",
       "      <td>Afghanistan</td>\n",
       "      <td>0.302</td>\n",
       "      <td>0.307</td>\n",
       "      <td>0.316</td>\n",
       "      <td>0.312</td>\n",
       "      <td>0.307</td>\n",
       "      <td>0.331</td>\n",
       "      <td>0.335</td>\n",
       "      <td>0.339</td>\n",
       "      <td>...</td>\n",
       "      <td>0.472</td>\n",
       "      <td>0.477</td>\n",
       "      <td>0.489</td>\n",
       "      <td>0.496</td>\n",
       "      <td>0.500</td>\n",
       "      <td>0.500</td>\n",
       "      <td>0.502</td>\n",
       "      <td>0.506</td>\n",
       "      <td>0.509</td>\n",
       "      <td>0.511</td>\n",
       "    </tr>\n",
       "    <tr>\n",
       "      <th>1</th>\n",
       "      <td>69</td>\n",
       "      <td>Albania</td>\n",
       "      <td>0.650</td>\n",
       "      <td>0.631</td>\n",
       "      <td>0.615</td>\n",
       "      <td>0.618</td>\n",
       "      <td>0.624</td>\n",
       "      <td>0.637</td>\n",
       "      <td>0.646</td>\n",
       "      <td>0.645</td>\n",
       "      <td>...</td>\n",
       "      <td>0.745</td>\n",
       "      <td>0.764</td>\n",
       "      <td>0.775</td>\n",
       "      <td>0.782</td>\n",
       "      <td>0.787</td>\n",
       "      <td>0.788</td>\n",
       "      <td>0.788</td>\n",
       "      <td>0.790</td>\n",
       "      <td>0.792</td>\n",
       "      <td>0.795</td>\n",
       "    </tr>\n",
       "    <tr>\n",
       "      <th>2</th>\n",
       "      <td>91</td>\n",
       "      <td>Algeria</td>\n",
       "      <td>0.572</td>\n",
       "      <td>0.576</td>\n",
       "      <td>0.582</td>\n",
       "      <td>0.586</td>\n",
       "      <td>0.590</td>\n",
       "      <td>0.595</td>\n",
       "      <td>0.602</td>\n",
       "      <td>0.611</td>\n",
       "      <td>...</td>\n",
       "      <td>0.721</td>\n",
       "      <td>0.728</td>\n",
       "      <td>0.728</td>\n",
       "      <td>0.729</td>\n",
       "      <td>0.736</td>\n",
       "      <td>0.740</td>\n",
       "      <td>0.743</td>\n",
       "      <td>0.745</td>\n",
       "      <td>0.746</td>\n",
       "      <td>0.748</td>\n",
       "    </tr>\n",
       "  </tbody>\n",
       "</table>\n",
       "<p>3 rows × 32 columns</p>\n",
       "</div>"
      ],
      "text/plain": [
       "   HDI Rank      Country   1990   1991   1992   1993   1994   1995   1996  \\\n",
       "0       169  Afghanistan  0.302  0.307  0.316  0.312  0.307  0.331  0.335   \n",
       "1        69      Albania  0.650  0.631  0.615  0.618  0.624  0.637  0.646   \n",
       "2        91      Algeria  0.572  0.576  0.582  0.586  0.590  0.595  0.602   \n",
       "\n",
       "    1997  ...   2010   2011   2012   2013   2014   2015   2016   2017   2018  \\\n",
       "0  0.339  ...  0.472  0.477  0.489  0.496  0.500  0.500  0.502  0.506  0.509   \n",
       "1  0.645  ...  0.745  0.764  0.775  0.782  0.787  0.788  0.788  0.790  0.792   \n",
       "2  0.611  ...  0.721  0.728  0.728  0.729  0.736  0.740  0.743  0.745  0.746   \n",
       "\n",
       "    2019  \n",
       "0  0.511  \n",
       "1  0.795  \n",
       "2  0.748  \n",
       "\n",
       "[3 rows x 32 columns]"
      ]
     },
     "execution_count": 135,
     "metadata": {},
     "output_type": "execute_result"
    }
   ],
   "source": [
    "df.head(3)"
   ]
  },
  {
   "cell_type": "code",
   "execution_count": 136,
   "metadata": {},
   "outputs": [],
   "source": [
    "top10 = df.sort_values(by='HDI Rank')\n",
    "top10 = top10[['HDI Rank','Country']][:10]"
   ]
  },
  {
   "cell_type": "code",
   "execution_count": 137,
   "metadata": {},
   "outputs": [
    {
     "data": {
      "image/png": "[encoded data removed]",
      "text/plain": [
       "<Figure size 864x576 with 1 Axes>"
      ]
     },
     "metadata": {
      "needs_background": "light"
     },
     "output_type": "display_data"
    }
   ],
   "source": [
    "label_font = {'fontsize': '15', 'fontweight' : '3'}\n",
    "title_font = {'fontsize': '25', 'fontweight' : '5'}\n",
    "plt.figure(figsize=(12,8));\n",
    "sns.barplot(x='HDI Rank',y='Country',data=top10,palette='icefire_r');\n",
    "plt.xlabel('Rank of Country',fontdict = label_font);\n",
    "plt.ylabel('Country Name',fontdict = label_font);\n",
    "plt.title('Top 10 Countries',fontdict = title_font);"
   ]
  },
  {
   "cell_type": "code",
   "execution_count": 138,
   "metadata": {},
   "outputs": [],
   "source": [
    "def world_map(col=None,title=None):\n",
    "    '''\n",
    "    Function to plot a choropleth world Map.\n",
    "    Arguments required:\n",
    "    1. Column Name for which distribution is to be plotted.\n",
    "    2. The Title of the Graph.\n",
    "    '''\n",
    "    fig = px.choropleth(df,\n",
    "                  locations='Country',\n",
    "                  locationmode='country names',\n",
    "                  hover_name='Country',\n",
    "                  color=col,\n",
    "                  color_continuous_scale='icefire_r')\n",
    "\n",
    "    fig.update_layout(title_text=title)\n",
    "    fig.show()"
   ]
  },
  {
   "cell_type": "code",
   "execution_count": 139,
   "metadata": {},
   "outputs": [
    {
     "data": {
      "application/vnd.plotly.v1+json": {
       "config": {
        "plotlyServerURL": "https://plot.ly"
       },
       "data": [
        {
         "coloraxis": "coloraxis",
         "geo": "geo",
         "hovertemplate": "<b>%{hovertext}</b><br><br>Country=%{location}<br>1990=%{z}<extra></extra>",
         "hovertext": [
          "Afghanistan",
          "Albania",
          "Algeria",
          "Andorra",
          "Angola",
          "Antigua and Barbuda",
          "Argentina",
          "Armenia",
          "Australia",
          "Austria",
          "Azerbaijan",
          "Bahamas",
          "Bahrain",
          "Bangladesh",
          "Barbados",
          "Belarus",
          "Belgium",
          "Belize",
          "Benin",
          "Bhutan",
          "Bolivia (Plurinational State of)",
          "Bosnia and Herzegovina",
          "Botswana",
          "Brazil",
          "Brunei Darussalam",
          "Bulgaria",
          "Burkina Faso",
          "Burundi",
          "Cabo Verde",
          "Cambodia",
          "Cameroon",
          "Canada",
          "Central African Republic",
          "Chad",
          "Chile",
          "China",
          "Colombia",
          "Comoros",
          "Congo",
          "Congo (Democratic Republic of the)",
          "Costa Rica",
          "Croatia",
          "Cuba",
          "Cyprus",
          "Czechia",
          "Côte d'Ivoire",
          "Denmark",
          "Djibouti",
          "Dominica",
          "Dominican Republic",
          "Ecuador",
          "Egypt",
          "El Salvador",
          "Equatorial Guinea",
          "Eritrea",
          "Estonia",
          "Eswatini (Kingdom of)",
          "Ethiopia",
          "Fiji",
          "Finland",
          "France",
          "Gabon",
          "Gambia",
          "Georgia",
          "Germany",
          "Ghana",
          "Greece",
          "Grenada",
          "Guatemala",
          "Guinea",
          "Guinea-Bissau",
          "Guyana",
          "Haiti",
          "Honduras",
          "Hong Kong, China (SAR)",
          "Hungary",
          "Iceland",
          "India",
          "Indonesia",
          "Iran (Islamic Republic of)",
          "Iraq",
          "Ireland",
          "Israel",
          "Italy",
          "Jamaica",
          "Japan",
          "Jordan",
          "Kazakhstan",
          "Kenya",
          "Kiribati",
          "Korea (Republic of)",
          "Kuwait",
          "Kyrgyzstan",
          "Lao People's Democratic Republic",
          "Latvia",
          "Lebanon",
          "Lesotho",
          "Liberia",
          "Libya",
          "Liechtenstein",
          "Lithuania",
          "Luxembourg",
          "Madagascar",
          "Malawi",
          "Malaysia",
          "Maldives",
          "Mali",
          "Malta",
          "Marshall Islands",
          "Mauritania",
          "Mauritius",
          "Mexico",
          "Micronesia (Federated States of)",
          "Moldova (Republic of)",
          "Mongolia",
          "Montenegro",
          "Morocco",
          "Mozambique",
          "Myanmar",
          "Namibia",
          "Nepal",
          "Netherlands",
          "New Zealand",
          "Nicaragua",
          "Niger",
          "Nigeria",
          "North Macedonia",
          "Norway",
          "Oman",
          "Pakistan",
          "Palau",
          "Palestine, State of",
          "Panama",
          "Papua New Guinea",
          "Paraguay",
          "Peru",
          "Philippines",
          "Poland",
          "Portugal",
          "Qatar",
          "Romania",
          "Russian Federation",
          "Rwanda",
          "Saint Kitts and Nevis",
          "Saint Lucia",
          "Saint Vincent and the Grenadines",
          "Samoa",
          "Sao Tome and Principe",
          "Saudi Arabia",
          "Senegal",
          "Serbia",
          "Seychelles",
          "Sierra Leone",
          "Singapore",
          "Slovakia",
          "Slovenia",
          "Solomon Islands",
          "South Africa",
          "South Sudan",
          "Spain",
          "Sri Lanka",
          "Sudan",
          "Suriname",
          "Sweden",
          "Switzerland",
          "Syrian Arab Republic",
          "Tajikistan",
          "Tanzania (United Republic of)",
          "Thailand",
          "Timor-Leste",
          "Togo",
          "Tonga",
          "Trinidad and Tobago",
          "Tunisia",
          "Turkey",
          "Turkmenistan",
          "Uganda",
          "Ukraine",
          "United Arab Emirates",
          "United Kingdom",
          "United States",
          "Uruguay",
          "Uzbekistan",
          "Vanuatu",
          "Venezuela (Bolivarian Republic of)",
          "Viet Nam",
          "Yemen",
          "Zambia",
          "Zimbabwe"
         ],
         "locationmode": "country names",
         "locations": [
          "Afghanistan",
          "Albania",
          "Algeria",
          "Andorra",
          "Angola",
          "Antigua and Barbuda",
          "Argentina",
          "Armenia",
          "Australia",
          "Austria",
          "Azerbaijan",
          "Bahamas",
          "Bahrain",
          "Bangladesh",
          "Barbados",
          "Belarus",
          "Belgium",
          "Belize",
          "Benin",
          "Bhutan",
          "Bolivia (Plurinational State of)",
          "Bosnia and Herzegovina",
          "Botswana",
          "Brazil",
          "Brunei Darussalam",
          "Bulgaria",
          "Burkina Faso",
          "Burundi",
          "Cabo Verde",
          "Cambodia",
          "Cameroon",
          "Canada",
          "Central African Republic",
          "Chad",
          "Chile",
          "China",
          "Colombia",
          "Comoros",
          "Congo",
          "Congo (Democratic Republic of the)",
          "Costa Rica",
          "Croatia",
          "Cuba",
          "Cyprus",
          "Czechia",
          "Côte d'Ivoire",
          "Denmark",
          "Djibouti",
          "Dominica",
          "Dominican Republic",
          "Ecuador",
          "Egypt",
          "El Salvador",
          "Equatorial Guinea",
          "Eritrea",
          "Estonia",
          "Eswatini (Kingdom of)",
          "Ethiopia",
          "Fiji",
          "Finland",
          "France",
          "Gabon",
          "Gambia",
          "Georgia",
          "Germany",
          "Ghana",
          "Greece",
          "Grenada",
          "Guatemala",
          "Guinea",
          "Guinea-Bissau",
          "Guyana",
          "Haiti",
          "Honduras",
          "Hong Kong, China (SAR)",
          "Hungary",
          "Iceland",
          "India",
          "Indonesia",
          "Iran (Islamic Republic of)",
          "Iraq",
          "Ireland",
          "Israel",
          "Italy",
          "Jamaica",
          "Japan",
          "Jordan",
          "Kazakhstan",
          "Kenya",
          "Kiribati",
          "Korea (Republic of)",
          "Kuwait",
          "Kyrgyzstan",
          "Lao People's Democratic Republic",
          "Latvia",
          "Lebanon",
          "Lesotho",
          "Liberia",
          "Libya",
          "Liechtenstein",
          "Lithuania",
          "Luxembourg",
          "Madagascar",
          "Malawi",
          "Malaysia",
          "Maldives",
          "Mali",
          "Malta",
          "Marshall Islands",
          "Mauritania",
          "Mauritius",
          "Mexico",
          "Micronesia (Federated States of)",
          "Moldova (Republic of)",
          "Mongolia",
          "Montenegro",
          "Morocco",
          "Mozambique",
          "Myanmar",
          "Namibia",
          "Nepal",
          "Netherlands",
          "New Zealand",
          "Nicaragua",
          "Niger",
          "Nigeria",
          "North Macedonia",
          "Norway",
          "Oman",
          "Pakistan",
          "Palau",
          "Palestine, State of",
          "Panama",
          "Papua New Guinea",
          "Paraguay",
          "Peru",
          "Philippines",
          "Poland",
          "Portugal",
          "Qatar",
          "Romania",
          "Russian Federation",
          "Rwanda",
          "Saint Kitts and Nevis",
          "Saint Lucia",
          "Saint Vincent and the Grenadines",
          "Samoa",
          "Sao Tome and Principe",
          "Saudi Arabia",
          "Senegal",
          "Serbia",
          "Seychelles",
          "Sierra Leone",
          "Singapore",
          "Slovakia",
          "Slovenia",
          "Solomon Islands",
          "South Africa",
          "South Sudan",
          "Spain",
          "Sri Lanka",
          "Sudan",
          "Suriname",
          "Sweden",
          "Switzerland",
          "Syrian Arab Republic",
          "Tajikistan",
          "Tanzania (United Republic of)",
          "Thailand",
          "Timor-Leste",
          "Togo",
          "Tonga",
          "Trinidad and Tobago",
          "Tunisia",
          "Turkey",
          "Turkmenistan",
          "Uganda",
          "Ukraine",
          "United Arab Emirates",
          "United Kingdom",
          "United States",
          "Uruguay",
          "Uzbekistan",
          "Vanuatu",
          "Venezuela (Bolivarian Republic of)",
          "Viet Nam",
          "Yemen",
          "Zambia",
          "Zimbabwe"
         ],
         "name": "",
         "type": "choropleth",
         "z": [
          0.302,
          0.65,
          0.572,
          0.5996527777777777,
          0.5996527777777777,
          0.5996527777777777,
          0.718,
          0.654,
          0.871,
          0.803,
          0.5996527777777777,
          0.5996527777777777,
          0.749,
          0.394,
          0.732,
          0.5996527777777777,
          0.813,
          0.61,
          0.364,
          0.5996527777777777,
          0.551,
          0.5996527777777777,
          0.573,
          0.613,
          0.767,
          0.708,
          0.5996527777777777,
          0.299,
          0.5996527777777777,
          0.368,
          0.448,
          0.85,
          0.334,
          0.5996527777777777,
          0.706,
          0.499,
          0.603,
          0.5996527777777777,
          0.5,
          0.369,
          0.665,
          0.677,
          0.68,
          0.735,
          0.738,
          0.404,
          0.806,
          0.5996527777777777,
          0.5996527777777777,
          0.599,
          0.648,
          0.548,
          0.536,
          0.5996527777777777,
          0.5996527777777777,
          0.735,
          0.541,
          0.5996527777777777,
          0.662,
          0.79,
          0.786,
          0.613,
          0.349,
          0.5996527777777777,
          0.808,
          0.465,
          0.761,
          0.5996527777777777,
          0.481,
          0.282,
          0.5996527777777777,
          0.548,
          0.414,
          0.519,
          0.784,
          0.708,
          0.807,
          0.429,
          0.523,
          0.565,
          0.56,
          0.773,
          0.801,
          0.776,
          0.645,
          0.818,
          0.625,
          0.69,
          0.482,
          0.5996527777777777,
          0.732,
          0.705,
          0.64,
          0.405,
          0.711,
          0.5996527777777777,
          0.498,
          0.5996527777777777,
          0.724,
          0.5996527777777777,
          0.738,
          0.797,
          0.5996527777777777,
          0.333,
          0.643,
          0.5996527777777777,
          0.234,
          0.752,
          0.5996527777777777,
          0.397,
          0.624,
          0.656,
          0.5996527777777777,
          0.69,
          0.578,
          0.5996527777777777,
          0.457,
          0.227,
          0.342,
          0.581,
          0.387,
          0.836,
          0.826,
          0.497,
          0.22,
          0.5996527777777777,
          0.5996527777777777,
          0.849,
          0.5996527777777777,
          0.402,
          0.5996527777777777,
          0.5996527777777777,
          0.675,
          0.38,
          0.598,
          0.613,
          0.593,
          0.718,
          0.718,
          0.75,
          0.708,
          0.735,
          0.248,
          0.5996527777777777,
          0.5996527777777777,
          0.5996527777777777,
          0.633,
          0.452,
          0.697,
          0.376,
          0.722,
          0.5996527777777777,
          0.287,
          0.721,
          0.741,
          0.774,
          0.5996527777777777,
          0.627,
          0.5996527777777777,
          0.761,
          0.629,
          0.331,
          0.5996527777777777,
          0.821,
          0.84,
          0.55,
          0.617,
          0.368,
          0.577,
          0.5996527777777777,
          0.406,
          0.654,
          0.668,
          0.567,
          0.583,
          0.5996527777777777,
          0.32,
          0.725,
          0.723,
          0.781,
          0.865,
          0.694,
          0.5996527777777777,
          0.5996527777777777,
          0.644,
          0.483,
          0.401,
          0.421,
          0.478
         ]
        }
       ],
       "layout": {
        "coloraxis": {
         "colorbar": {
          "title": {
           "text": "1990"
          }
         },
         "colorscale": [
          [
           0,
           "#000000"
          ],
          [
           0.0625,
           "#4c0000"
          ],
          [
           0.125,
           "#820000"
          ],
          [
           0.1875,
           "#ac2301"
          ],
          [
           0.25,
           "#c65400"
          ],
          [
           0.3125,
           "#da8200"
          ],
          [
           0.375,
           "#e7b000"
          ],
          [
           0.4375,
           "#f3d573"
          ],
          [
           0.5,
           "#e1e9d1"
          ],
          [
           0.5625,
           "#9be4ef"
          ],
          [
           0.625,
           "#54c8df"
          ],
          [
           0.6875,
           "#30a4ca"
          ],
          [
           0.75,
           "#217eb8"
          ],
          [
           0.8125,
           "#0e58a8"
          ],
          [
           0.875,
           "#003786"
          ],
          [
           0.9375,
           "#001f4d"
          ],
          [
           1,
           "#000000"
          ]
         ]
        },
        "geo": {
         "center": {},
         "domain": {
          "x": [
           0,
           1
          ],
          "y": [
           0,
           1
          ]
         }
        },
        "legend": {
         "tracegroupgap": 0
        },
        "margin": {
         "t": 60
        },
        "template": {
         "data": {
          "bar": [
           {
            "error_x": {
             "color": "#2a3f5f"
            },
            "error_y": {
             "color": "#2a3f5f"
            },
            "marker": {
             "line": {
              "color": "#E5ECF6",
              "width": 0.5
             },
             "pattern": {
              "fillmode": "overlay",
              "size": 10,
              "solidity": 0.2
             }
            },
            "type": "bar"
           }
          ],
          "barpolar": [
           {
            "marker": {
             "line": {
              "color": "#E5ECF6",
              "width": 0.5
             },
             "pattern": {
              "fillmode": "overlay",
              "size": 10,
              "solidity": 0.2
             }
            },
            "type": "barpolar"
           }
          ],
          "carpet": [
           {
            "aaxis": {
             "endlinecolor": "#2a3f5f",
             "gridcolor": "white",
             "linecolor": "white",
             "minorgridcolor": "white",
             "startlinecolor": "#2a3f5f"
            },
            "baxis": {
             "endlinecolor": "#2a3f5f",
             "gridcolor": "white",
             "linecolor": "white",
             "minorgridcolor": "white",
             "startlinecolor": "#2a3f5f"
            },
            "type": "carpet"
           }
          ],
          "choropleth": [
           {
            "colorbar": {
             "outlinewidth": 0,
             "ticks": ""
            },
            "type": "choropleth"
           }
          ],
          "contour": [
           {
            "colorbar": {
             "outlinewidth": 0,
             "ticks": ""
            },
            "colorscale": [
             [
              0,
              "#0d0887"
             ],
             [
              0.1111111111111111,
              "#46039f"
             ],
             [
              0.2222222222222222,
              "#7201a8"
             ],
             [
              0.3333333333333333,
              "#9c179e"
             ],
             [
              0.4444444444444444,
              "#bd3786"
             ],
             [
              0.5555555555555556,
              "#d8576b"
             ],
             [
              0.6666666666666666,
              "#ed7953"
             ],
             [
              0.7777777777777778,
              "#fb9f3a"
             ],
             [
              0.8888888888888888,
              "#fdca26"
             ],
             [
              1,
              "#f0f921"
             ]
            ],
            "type": "contour"
           }
          ],
          "contourcarpet": [
           {
            "colorbar": {
             "outlinewidth": 0,
             "ticks": ""
            },
            "type": "contourcarpet"
           }
          ],
          "heatmap": [
           {
            "colorbar": {
             "outlinewidth": 0,
             "ticks": ""
            },
            "colorscale": [
             [
              0,
              "#0d0887"
             ],
             [
              0.1111111111111111,
              "#46039f"
             ],
             [
              0.2222222222222222,
              "#7201a8"
             ],
             [
              0.3333333333333333,
              "#9c179e"
             ],
             [
              0.4444444444444444,
              "#bd3786"
             ],
             [
              0.5555555555555556,
              "#d8576b"
             ],
             [
              0.6666666666666666,
              "#ed7953"
             ],
             [
              0.7777777777777778,
              "#fb9f3a"
             ],
             [
              0.8888888888888888,
              "#fdca26"
             ],
             [
              1,
              "#f0f921"
             ]
            ],
            "type": "heatmap"
           }
          ],
          "heatmapgl": [
           {
            "colorbar": {
             "outlinewidth": 0,
             "ticks": ""
            },
            "colorscale": [
             [
              0,
              "#0d0887"
             ],
             [
              0.1111111111111111,
              "#46039f"
             ],
             [
              0.2222222222222222,
              "#7201a8"
             ],
             [
              0.3333333333333333,
              "#9c179e"
             ],
             [
              0.4444444444444444,
              "#bd3786"
             ],
             [
              0.5555555555555556,
              "#d8576b"
             ],
             [
              0.6666666666666666,
              "#ed7953"
             ],
             [
              0.7777777777777778,
              "#fb9f3a"
             ],
             [
              0.8888888888888888,
              "#fdca26"
             ],
             [
              1,
              "#f0f921"
             ]
            ],
            "type": "heatmapgl"
           }
          ],
          "histogram": [
           {
            "marker": {
             "pattern": {
              "fillmode": "overlay",
              "size": 10,
              "solidity": 0.2
             }
            },
            "type": "histogram"
           }
          ],
          "histogram2d": [
           {
            "colorbar": {
             "outlinewidth": 0,
             "ticks": ""
            },
            "colorscale": [
             [
              0,
              "#0d0887"
             ],
             [
              0.1111111111111111,
              "#46039f"
             ],
             [
              0.2222222222222222,
              "#7201a8"
             ],
             [
              0.3333333333333333,
              "#9c179e"
             ],
             [
              0.4444444444444444,
              "#bd3786"
             ],
             [
              0.5555555555555556,
              "#d8576b"
             ],
             [
              0.6666666666666666,
              "#ed7953"
             ],
             [
              0.7777777777777778,
              "#fb9f3a"
             ],
             [
              0.8888888888888888,
              "#fdca26"
             ],
             [
              1,
              "#f0f921"
             ]
            ],
            "type": "histogram2d"
           }
          ],
          "histogram2dcontour": [
           {
            "colorbar": {
             "outlinewidth": 0,
             "ticks": ""
            },
            "colorscale": [
             [
              0,
              "#0d0887"
             ],
             [
              0.1111111111111111,
              "#46039f"
             ],
             [
              0.2222222222222222,
              "#7201a8"
             ],
             [
              0.3333333333333333,
              "#9c179e"
             ],
             [
              0.4444444444444444,
              "#bd3786"
             ],
             [
              0.5555555555555556,
              "#d8576b"
             ],
             [
              0.6666666666666666,
              "#ed7953"
             ],
             [
              0.7777777777777778,
              "#fb9f3a"
             ],
             [
              0.8888888888888888,
              "#fdca26"
             ],
             [
              1,
              "#f0f921"
             ]
            ],
            "type": "histogram2dcontour"
           }
          ],
          "mesh3d": [
           {
            "colorbar": {
             "outlinewidth": 0,
             "ticks": ""
            },
            "type": "mesh3d"
           }
          ],
          "parcoords": [
           {
            "line": {
             "colorbar": {
              "outlinewidth": 0,
              "ticks": ""
             }
            },
            "type": "parcoords"
           }
          ],
          "pie": [
           {
            "automargin": true,
            "type": "pie"
           }
          ],
          "scatter": [
           {
            "fillpattern": {
             "fillmode": "overlay",
             "size": 10,
             "solidity": 0.2
            },
            "type": "scatter"
           }
          ],
          "scatter3d": [
           {
            "line": {
             "colorbar": {
              "outlinewidth": 0,
              "ticks": ""
             }
            },
            "marker": {
             "colorbar": {
              "outlinewidth": 0,
              "ticks": ""
             }
            },
            "type": "scatter3d"
           }
          ],
          "scattercarpet": [
           {
            "marker": {
             "colorbar": {
              "outlinewidth": 0,
              "ticks": ""
             }
            },
            "type": "scattercarpet"
           }
          ],
          "scattergeo": [
           {
            "marker": {
             "colorbar": {
              "outlinewidth": 0,
              "ticks": ""
             }
            },
            "type": "scattergeo"
           }
          ],
          "scattergl": [
           {
            "marker": {
             "colorbar": {
              "outlinewidth": 0,
              "ticks": ""
             }
            },
            "type": "scattergl"
           }
          ],
          "scattermapbox": [
           {
            "marker": {
             "colorbar": {
              "outlinewidth": 0,
              "ticks": ""
             }
            },
            "type": "scattermapbox"
           }
          ],
          "scatterpolar": [
           {
            "marker": {
             "colorbar": {
              "outlinewidth": 0,
              "ticks": ""
             }
            },
            "type": "scatterpolar"
           }
          ],
          "scatterpolargl": [
           {
            "marker": {
             "colorbar": {
              "outlinewidth": 0,
              "ticks": ""
             }
            },
            "type": "scatterpolargl"
           }
          ],
          "scatterternary": [
           {
            "marker": {
             "colorbar": {
              "outlinewidth": 0,
              "ticks": ""
             }
            },
            "type": "scatterternary"
           }
          ],
          "surface": [
           {
            "colorbar": {
             "outlinewidth": 0,
             "ticks": ""
            },
            "colorscale": [
             [
              0,
              "#0d0887"
             ],
             [
              0.1111111111111111,
              "#46039f"
             ],
             [
              0.2222222222222222,
              "#7201a8"
             ],
             [
              0.3333333333333333,
              "#9c179e"
             ],
             [
              0.4444444444444444,
              "#bd3786"
             ],
             [
              0.5555555555555556,
              "#d8576b"
             ],
             [
              0.6666666666666666,
              "#ed7953"
             ],
             [
              0.7777777777777778,
              "#fb9f3a"
             ],
             [
              0.8888888888888888,
              "#fdca26"
             ],
             [
              1,
              "#f0f921"
             ]
            ],
            "type": "surface"
           }
          ],
          "table": [
           {
            "cells": {
             "fill": {
              "color": "#EBF0F8"
             },
             "line": {
              "color": "white"
             }
            },
            "header": {
             "fill": {
              "color": "#C8D4E3"
             },
             "line": {
              "color": "white"
             }
            },
            "type": "table"
           }
          ]
         },
         "layout": {
          "annotationdefaults": {
           "arrowcolor": "#2a3f5f",
           "arrowhead": 0,
           "arrowwidth": 1
          },
          "autotypenumbers": "strict",
          "coloraxis": {
           "colorbar": {
            "outlinewidth": 0,
            "ticks": ""
           }
          },
          "colorscale": {
           "diverging": [
            [
             0,
             "#8e0152"
            ],
            [
             0.1,
             "#c51b7d"
            ],
            [
             0.2,
             "#de77ae"
            ],
            [
             0.3,
             "#f1b6da"
            ],
            [
             0.4,
             "#fde0ef"
            ],
            [
             0.5,
             "#f7f7f7"
            ],
            [
             0.6,
             "#e6f5d0"
            ],
            [
             0.7,
             "#b8e186"
            ],
            [
             0.8,
             "#7fbc41"
            ],
            [
             0.9,
             "#4d9221"
            ],
            [
             1,
             "#276419"
            ]
           ],
           "sequential": [
            [
             0,
             "#0d0887"
            ],
            [
             0.1111111111111111,
             "#46039f"
            ],
            [
             0.2222222222222222,
             "#7201a8"
            ],
            [
             0.3333333333333333,
             "#9c179e"
            ],
            [
             0.4444444444444444,
             "#bd3786"
            ],
            [
             0.5555555555555556,
             "#d8576b"
            ],
            [
             0.6666666666666666,
             "#ed7953"
            ],
            [
             0.7777777777777778,
             "#fb9f3a"
            ],
            [
             0.8888888888888888,
             "#fdca26"
            ],
            [
             1,
             "#f0f921"
            ]
           ],
           "sequentialminus": [
            [
             0,
             "#0d0887"
            ],
            [
             0.1111111111111111,
             "#46039f"
            ],
            [
             0.2222222222222222,
             "#7201a8"
            ],
            [
             0.3333333333333333,
             "#9c179e"
            ],
            [
             0.4444444444444444,
             "#bd3786"
            ],
            [
             0.5555555555555556,
             "#d8576b"
            ],
            [
             0.6666666666666666,
             "#ed7953"
            ],
            [
             0.7777777777777778,
             "#fb9f3a"
            ],
            [
             0.8888888888888888,
             "#fdca26"
            ],
            [
             1,
             "#f0f921"
            ]
           ]
          },
          "colorway": [
           "#636efa",
           "#EF553B",
           "#00cc96",
           "#ab63fa",
           "#FFA15A",
           "#19d3f3",
           "#FF6692",
           "#B6E880",
           "#FF97FF",
           "#FECB52"
          ],
          "font": {
           "color": "#2a3f5f"
          },
          "geo": {
           "bgcolor": "white",
           "lakecolor": "white",
           "landcolor": "#E5ECF6",
           "showlakes": true,
           "showland": true,
           "subunitcolor": "white"
          },
          "hoverlabel": {
           "align": "left"
          },
          "hovermode": "closest",
          "mapbox": {
           "style": "light"
          },
          "paper_bgcolor": "white",
          "plot_bgcolor": "#E5ECF6",
          "polar": {
           "angularaxis": {
            "gridcolor": "white",
            "linecolor": "white",
            "ticks": ""
           },
           "bgcolor": "#E5ECF6",
           "radialaxis": {
            "gridcolor": "white",
            "linecolor": "white",
            "ticks": ""
           }
          },
          "scene": {
           "xaxis": {
            "backgroundcolor": "#E5ECF6",
            "gridcolor": "white",
            "gridwidth": 2,
            "linecolor": "white",
            "showbackground": true,
            "ticks": "",
            "zerolinecolor": "white"
           },
           "yaxis": {
            "backgroundcolor": "#E5ECF6",
            "gridcolor": "white",
            "gridwidth": 2,
            "linecolor": "white",
            "showbackground": true,
            "ticks": "",
            "zerolinecolor": "white"
           },
           "zaxis": {
            "backgroundcolor": "#E5ECF6",
            "gridcolor": "white",
            "gridwidth": 2,
            "linecolor": "white",
            "showbackground": true,
            "ticks": "",
            "zerolinecolor": "white"
           }
          },
          "shapedefaults": {
           "line": {
            "color": "#2a3f5f"
           }
          },
          "ternary": {
           "aaxis": {
            "gridcolor": "white",
            "linecolor": "white",
            "ticks": ""
           },
           "baxis": {
            "gridcolor": "white",
            "linecolor": "white",
            "ticks": ""
           },
           "bgcolor": "#E5ECF6",
           "caxis": {
            "gridcolor": "white",
            "linecolor": "white",
            "ticks": ""
           }
          },
          "title": {
           "x": 0.05
          },
          "xaxis": {
           "automargin": true,
           "gridcolor": "white",
           "linecolor": "white",
           "ticks": "",
           "title": {
            "standoff": 15
           },
           "zerolinecolor": "white",
           "zerolinewidth": 2
          },
          "yaxis": {
           "automargin": true,
           "gridcolor": "white",
           "linecolor": "white",
           "ticks": "",
           "title": {
            "standoff": 15
           },
           "zerolinecolor": "white",
           "zerolinewidth": 2
          }
         }
        },
        "title": {
         "text": "Human Development Index 1990"
        }
       }
      }
     },
     "metadata": {},
     "output_type": "display_data"
    },
    {
     "data": {
      "application/vnd.plotly.v1+json": {
       "config": {
        "plotlyServerURL": "https://plot.ly"
       },
       "data": [
        {
         "coloraxis": "coloraxis",
         "geo": "geo",
         "hovertemplate": "<b>%{hovertext}</b><br><br>Country=%{location}<br>2019=%{z}<extra></extra>",
         "hovertext": [
          "Afghanistan",
          "Albania",
          "Algeria",
          "Andorra",
          "Angola",
          "Antigua and Barbuda",
          "Argentina",
          "Armenia",
          "Australia",
          "Austria",
          "Azerbaijan",
          "Bahamas",
          "Bahrain",
          "Bangladesh",
          "Barbados",
          "Belarus",
          "Belgium",
          "Belize",
          "Benin",
          "Bhutan",
          "Bolivia (Plurinational State of)",
          "Bosnia and Herzegovina",
          "Botswana",
          "Brazil",
          "Brunei Darussalam",
          "Bulgaria",
          "Burkina Faso",
          "Burundi",
          "Cabo Verde",
          "Cambodia",
          "Cameroon",
          "Canada",
          "Central African Republic",
          "Chad",
          "Chile",
          "China",
          "Colombia",
          "Comoros",
          "Congo",
          "Congo (Democratic Republic of the)",
          "Costa Rica",
          "Croatia",
          "Cuba",
          "Cyprus",
          "Czechia",
          "Côte d'Ivoire",
          "Denmark",
          "Djibouti",
          "Dominica",
          "Dominican Republic",
          "Ecuador",
          "Egypt",
          "El Salvador",
          "Equatorial Guinea",
          "Eritrea",
          "Estonia",
          "Eswatini (Kingdom of)",
          "Ethiopia",
          "Fiji",
          "Finland",
          "France",
          "Gabon",
          "Gambia",
          "Georgia",
          "Germany",
          "Ghana",
          "Greece",
          "Grenada",
          "Guatemala",
          "Guinea",
          "Guinea-Bissau",
          "Guyana",
          "Haiti",
          "Honduras",
          "Hong Kong, China (SAR)",
          "Hungary",
          "Iceland",
          "India",
          "Indonesia",
          "Iran (Islamic Republic of)",
          "Iraq",
          "Ireland",
          "Israel",
          "Italy",
          "Jamaica",
          "Japan",
          "Jordan",
          "Kazakhstan",
          "Kenya",
          "Kiribati",
          "Korea (Republic of)",
          "Kuwait",
          "Kyrgyzstan",
          "Lao People's Democratic Republic",
          "Latvia",
          "Lebanon",
          "Lesotho",
          "Liberia",
          "Libya",
          "Liechtenstein",
          "Lithuania",
          "Luxembourg",
          "Madagascar",
          "Malawi",
          "Malaysia",
          "Maldives",
          "Mali",
          "Malta",
          "Marshall Islands",
          "Mauritania",
          "Mauritius",
          "Mexico",
          "Micronesia (Federated States of)",
          "Moldova (Republic of)",
          "Mongolia",
          "Montenegro",
          "Morocco",
          "Mozambique",
          "Myanmar",
          "Namibia",
          "Nepal",
          "Netherlands",
          "New Zealand",
          "Nicaragua",
          "Niger",
          "Nigeria",
          "North Macedonia",
          "Norway",
          "Oman",
          "Pakistan",
          "Palau",
          "Palestine, State of",
          "Panama",
          "Papua New Guinea",
          "Paraguay",
          "Peru",
          "Philippines",
          "Poland",
          "Portugal",
          "Qatar",
          "Romania",
          "Russian Federation",
          "Rwanda",
          "Saint Kitts and Nevis",
          "Saint Lucia",
          "Saint Vincent and the Grenadines",
          "Samoa",
          "Sao Tome and Principe",
          "Saudi Arabia",
          "Senegal",
          "Serbia",
          "Seychelles",
          "Sierra Leone",
          "Singapore",
          "Slovakia",
          "Slovenia",
          "Solomon Islands",
          "South Africa",
          "South Sudan",
          "Spain",
          "Sri Lanka",
          "Sudan",
          "Suriname",
          "Sweden",
          "Switzerland",
          "Syrian Arab Republic",
          "Tajikistan",
          "Tanzania (United Republic of)",
          "Thailand",
          "Timor-Leste",
          "Togo",
          "Tonga",
          "Trinidad and Tobago",
          "Tunisia",
          "Turkey",
          "Turkmenistan",
          "Uganda",
          "Ukraine",
          "United Arab Emirates",
          "United Kingdom",
          "United States",
          "Uruguay",
          "Uzbekistan",
          "Vanuatu",
          "Venezuela (Bolivarian Republic of)",
          "Viet Nam",
          "Yemen",
          "Zambia",
          "Zimbabwe"
         ],
         "locationmode": "country names",
         "locations": [
          "Afghanistan",
          "Albania",
          "Algeria",
          "Andorra",
          "Angola",
          "Antigua and Barbuda",
          "Argentina",
          "Armenia",
          "Australia",
          "Austria",
          "Azerbaijan",
          "Bahamas",
          "Bahrain",
          "Bangladesh",
          "Barbados",
          "Belarus",
          "Belgium",
          "Belize",
          "Benin",
          "Bhutan",
          "Bolivia (Plurinational State of)",
          "Bosnia and Herzegovina",
          "Botswana",
          "Brazil",
          "Brunei Darussalam",
          "Bulgaria",
          "Burkina Faso",
          "Burundi",
          "Cabo Verde",
          "Cambodia",
          "Cameroon",
          "Canada",
          "Central African Republic",
          "Chad",
          "Chile",
          "China",
          "Colombia",
          "Comoros",
          "Congo",
          "Congo (Democratic Republic of the)",
          "Costa Rica",
          "Croatia",
          "Cuba",
          "Cyprus",
          "Czechia",
          "Côte d'Ivoire",
          "Denmark",
          "Djibouti",
          "Dominica",
          "Dominican Republic",
          "Ecuador",
          "Egypt",
          "El Salvador",
          "Equatorial Guinea",
          "Eritrea",
          "Estonia",
          "Eswatini (Kingdom of)",
          "Ethiopia",
          "Fiji",
          "Finland",
          "France",
          "Gabon",
          "Gambia",
          "Georgia",
          "Germany",
          "Ghana",
          "Greece",
          "Grenada",
          "Guatemala",
          "Guinea",
          "Guinea-Bissau",
          "Guyana",
          "Haiti",
          "Honduras",
          "Hong Kong, China (SAR)",
          "Hungary",
          "Iceland",
          "India",
          "Indonesia",
          "Iran (Islamic Republic of)",
          "Iraq",
          "Ireland",
          "Israel",
          "Italy",
          "Jamaica",
          "Japan",
          "Jordan",
          "Kazakhstan",
          "Kenya",
          "Kiribati",
          "Korea (Republic of)",
          "Kuwait",
          "Kyrgyzstan",
          "Lao People's Democratic Republic",
          "Latvia",
          "Lebanon",
          "Lesotho",
          "Liberia",
          "Libya",
          "Liechtenstein",
          "Lithuania",
          "Luxembourg",
          "Madagascar",
          "Malawi",
          "Malaysia",
          "Maldives",
          "Mali",
          "Malta",
          "Marshall Islands",
          "Mauritania",
          "Mauritius",
          "Mexico",
          "Micronesia (Federated States of)",
          "Moldova (Republic of)",
          "Mongolia",
          "Montenegro",
          "Morocco",
          "Mozambique",
          "Myanmar",
          "Namibia",
          "Nepal",
          "Netherlands",
          "New Zealand",
          "Nicaragua",
          "Niger",
          "Nigeria",
          "North Macedonia",
          "Norway",
          "Oman",
          "Pakistan",
          "Palau",
          "Palestine, State of",
          "Panama",
          "Papua New Guinea",
          "Paraguay",
          "Peru",
          "Philippines",
          "Poland",
          "Portugal",
          "Qatar",
          "Romania",
          "Russian Federation",
          "Rwanda",
          "Saint Kitts and Nevis",
          "Saint Lucia",
          "Saint Vincent and the Grenadines",
          "Samoa",
          "Sao Tome and Principe",
          "Saudi Arabia",
          "Senegal",
          "Serbia",
          "Seychelles",
          "Sierra Leone",
          "Singapore",
          "Slovakia",
          "Slovenia",
          "Solomon Islands",
          "South Africa",
          "South Sudan",
          "Spain",
          "Sri Lanka",
          "Sudan",
          "Suriname",
          "Sweden",
          "Switzerland",
          "Syrian Arab Republic",
          "Tajikistan",
          "Tanzania (United Republic of)",
          "Thailand",
          "Timor-Leste",
          "Togo",
          "Tonga",
          "Trinidad and Tobago",
          "Tunisia",
          "Turkey",
          "Turkmenistan",
          "Uganda",
          "Ukraine",
          "United Arab Emirates",
          "United Kingdom",
          "United States",
          "Uruguay",
          "Uzbekistan",
          "Vanuatu",
          "Venezuela (Bolivarian Republic of)",
          "Viet Nam",
          "Yemen",
          "Zambia",
          "Zimbabwe"
         ],
         "name": "",
         "type": "choropleth",
         "z": [
          0.511,
          0.795,
          0.748,
          0.868,
          0.581,
          0.778,
          0.845,
          0.776,
          0.944,
          0.922,
          0.756,
          0.814,
          0.852,
          0.632,
          0.814,
          0.823,
          0.931,
          0.716,
          0.545,
          0.654,
          0.718,
          0.78,
          0.735,
          0.765,
          0.838,
          0.816,
          0.452,
          0.433,
          0.665,
          0.594,
          0.563,
          0.929,
          0.397,
          0.398,
          0.851,
          0.761,
          0.767,
          0.554,
          0.574,
          0.48,
          0.81,
          0.851,
          0.783,
          0.887,
          0.9,
          0.538,
          0.94,
          0.524,
          0.742,
          0.756,
          0.759,
          0.707,
          0.673,
          0.592,
          0.459,
          0.892,
          0.611,
          0.485,
          0.743,
          0.938,
          0.901,
          0.703,
          0.496,
          0.812,
          0.947,
          0.611,
          0.888,
          0.779,
          0.663,
          0.477,
          0.48,
          0.682,
          0.51,
          0.634,
          0.949,
          0.854,
          0.949,
          0.645,
          0.718,
          0.783,
          0.674,
          0.955,
          0.919,
          0.892,
          0.734,
          0.919,
          0.729,
          0.825,
          0.601,
          0.63,
          0.916,
          0.806,
          0.697,
          0.613,
          0.866,
          0.744,
          0.527,
          0.48,
          0.724,
          0.919,
          0.882,
          0.916,
          0.528,
          0.483,
          0.81,
          0.74,
          0.434,
          0.895,
          0.704,
          0.546,
          0.804,
          0.779,
          0.62,
          0.75,
          0.737,
          0.829,
          0.686,
          0.456,
          0.583,
          0.646,
          0.602,
          0.944,
          0.931,
          0.66,
          0.394,
          0.539,
          0.774,
          0.957,
          0.813,
          0.557,
          0.826,
          0.708,
          0.815,
          0.555,
          0.728,
          0.777,
          0.718,
          0.88,
          0.864,
          0.848,
          0.828,
          0.824,
          0.543,
          0.779,
          0.759,
          0.738,
          0.715,
          0.625,
          0.854,
          0.512,
          0.806,
          0.796,
          0.452,
          0.938,
          0.86,
          0.917,
          0.567,
          0.709,
          0.433,
          0.904,
          0.782,
          0.51,
          0.738,
          0.945,
          0.955,
          0.567,
          0.668,
          0.529,
          0.777,
          0.606,
          0.515,
          0.725,
          0.796,
          0.74,
          0.82,
          0.715,
          0.544,
          0.779,
          0.89,
          0.932,
          0.926,
          0.817,
          0.72,
          0.609,
          0.711,
          0.704,
          0.47,
          0.584,
          0.571
         ]
        }
       ],
       "layout": {
        "coloraxis": {
         "colorbar": {
          "title": {
           "text": "2019"
          }
         },
         "colorscale": [
          [
           0,
           "#000000"
          ],
          [
           0.0625,
           "#4c0000"
          ],
          [
           0.125,
           "#820000"
          ],
          [
           0.1875,
           "#ac2301"
          ],
          [
           0.25,
           "#c65400"
          ],
          [
           0.3125,
           "#da8200"
          ],
          [
           0.375,
           "#e7b000"
          ],
          [
           0.4375,
           "#f3d573"
          ],
          [
           0.5,
           "#e1e9d1"
          ],
          [
           0.5625,
           "#9be4ef"
          ],
          [
           0.625,
           "#54c8df"
          ],
          [
           0.6875,
           "#30a4ca"
          ],
          [
           0.75,
           "#217eb8"
          ],
          [
           0.8125,
           "#0e58a8"
          ],
          [
           0.875,
           "#003786"
          ],
          [
           0.9375,
           "#001f4d"
          ],
          [
           1,
           "#000000"
          ]
         ]
        },
        "geo": {
         "center": {},
         "domain": {
          "x": [
           0,
           1
          ],
          "y": [
           0,
           1
          ]
         }
        },
        "legend": {
         "tracegroupgap": 0
        },
        "margin": {
         "t": 60
        },
        "template": {
         "data": {
          "bar": [
           {
            "error_x": {
             "color": "#2a3f5f"
            },
            "error_y": {
             "color": "#2a3f5f"
            },
            "marker": {
             "line": {
              "color": "#E5ECF6",
              "width": 0.5
             },
             "pattern": {
              "fillmode": "overlay",
              "size": 10,
              "solidity": 0.2
             }
            },
            "type": "bar"
           }
          ],
          "barpolar": [
           {
            "marker": {
             "line": {
              "color": "#E5ECF6",
              "width": 0.5
             },
             "pattern": {
              "fillmode": "overlay",
              "size": 10,
              "solidity": 0.2
             }
            },
            "type": "barpolar"
           }
          ],
          "carpet": [
           {
            "aaxis": {
             "endlinecolor": "#2a3f5f",
             "gridcolor": "white",
             "linecolor": "white",
             "minorgridcolor": "white",
             "startlinecolor": "#2a3f5f"
            },
            "baxis": {
             "endlinecolor": "#2a3f5f",
             "gridcolor": "white",
             "linecolor": "white",
             "minorgridcolor": "white",
             "startlinecolor": "#2a3f5f"
            },
            "type": "carpet"
           }
          ],
          "choropleth": [
           {
            "colorbar": {
             "outlinewidth": 0,
             "ticks": ""
            },
            "type": "choropleth"
           }
          ],
          "contour": [
           {
            "colorbar": {
             "outlinewidth": 0,
             "ticks": ""
            },
            "colorscale": [
             [
              0,
              "#0d0887"
             ],
             [
              0.1111111111111111,
              "#46039f"
             ],
             [
              0.2222222222222222,
              "#7201a8"
             ],
             [
              0.3333333333333333,
              "#9c179e"
             ],
             [
              0.4444444444444444,
              "#bd3786"
             ],
             [
              0.5555555555555556,
              "#d8576b"
             ],
             [
              0.6666666666666666,
              "#ed7953"
             ],
             [
              0.7777777777777778,
              "#fb9f3a"
             ],
             [
              0.8888888888888888,
              "#fdca26"
             ],
             [
              1,
              "#f0f921"
             ]
            ],
            "type": "contour"
           }
          ],
          "contourcarpet": [
           {
            "colorbar": {
             "outlinewidth": 0,
             "ticks": ""
            },
            "type": "contourcarpet"
           }
          ],
          "heatmap": [
           {
            "colorbar": {
             "outlinewidth": 0,
             "ticks": ""
            },
            "colorscale": [
             [
              0,
              "#0d0887"
             ],
             [
              0.1111111111111111,
              "#46039f"
             ],
             [
              0.2222222222222222,
              "#7201a8"
             ],
             [
              0.3333333333333333,
              "#9c179e"
             ],
             [
              0.4444444444444444,
              "#bd3786"
             ],
             [
              0.5555555555555556,
              "#d8576b"
             ],
             [
              0.6666666666666666,
              "#ed7953"
             ],
             [
              0.7777777777777778,
              "#fb9f3a"
             ],
             [
              0.8888888888888888,
              "#fdca26"
             ],
             [
              1,
              "#f0f921"
             ]
            ],
            "type": "heatmap"
           }
          ],
          "heatmapgl": [
           {
            "colorbar": {
             "outlinewidth": 0,
             "ticks": ""
            },
            "colorscale": [
             [
              0,
              "#0d0887"
             ],
             [
              0.1111111111111111,
              "#46039f"
             ],
             [
              0.2222222222222222,
              "#7201a8"
             ],
             [
              0.3333333333333333,
              "#9c179e"
             ],
             [
              0.4444444444444444,
              "#bd3786"
             ],
             [
              0.5555555555555556,
              "#d8576b"
             ],
             [
              0.6666666666666666,
              "#ed7953"
             ],
             [
              0.7777777777777778,
              "#fb9f3a"
             ],
             [
              0.8888888888888888,
              "#fdca26"
             ],
             [
              1,
              "#f0f921"
             ]
            ],
            "type": "heatmapgl"
           }
          ],
          "histogram": [
           {
            "marker": {
             "pattern": {
              "fillmode": "overlay",
              "size": 10,
              "solidity": 0.2
             }
            },
            "type": "histogram"
           }
          ],
          "histogram2d": [
           {
            "colorbar": {
             "outlinewidth": 0,
             "ticks": ""
            },
            "colorscale": [
             [
              0,
              "#0d0887"
             ],
             [
              0.1111111111111111,
              "#46039f"
             ],
             [
              0.2222222222222222,
              "#7201a8"
             ],
             [
              0.3333333333333333,
              "#9c179e"
             ],
             [
              0.4444444444444444,
              "#bd3786"
             ],
             [
              0.5555555555555556,
              "#d8576b"
             ],
             [
              0.6666666666666666,
              "#ed7953"
             ],
             [
              0.7777777777777778,
              "#fb9f3a"
             ],
             [
              0.8888888888888888,
              "#fdca26"
             ],
             [
              1,
              "#f0f921"
             ]
            ],
            "type": "histogram2d"
           }
          ],
          "histogram2dcontour": [
           {
            "colorbar": {
             "outlinewidth": 0,
             "ticks": ""
            },
            "colorscale": [
             [
              0,
              "#0d0887"
             ],
             [
              0.1111111111111111,
              "#46039f"
             ],
             [
              0.2222222222222222,
              "#7201a8"
             ],
             [
              0.3333333333333333,
              "#9c179e"
             ],
             [
              0.4444444444444444,
              "#bd3786"
             ],
             [
              0.5555555555555556,
              "#d8576b"
             ],
             [
              0.6666666666666666,
              "#ed7953"
             ],
             [
              0.7777777777777778,
              "#fb9f3a"
             ],
             [
              0.8888888888888888,
              "#fdca26"
             ],
             [
              1,
              "#f0f921"
             ]
            ],
            "type": "histogram2dcontour"
           }
          ],
          "mesh3d": [
           {
            "colorbar": {
             "outlinewidth": 0,
             "ticks": ""
            },
            "type": "mesh3d"
           }
          ],
          "parcoords": [
           {
            "line": {
             "colorbar": {
              "outlinewidth": 0,
              "ticks": ""
             }
            },
            "type": "parcoords"
           }
          ],
          "pie": [
           {
            "automargin": true,
            "type": "pie"
           }
          ],
          "scatter": [
           {
            "fillpattern": {
             "fillmode": "overlay",
             "size": 10,
             "solidity": 0.2
            },
            "type": "scatter"
           }
          ],
          "scatter3d": [
           {
            "line": {
             "colorbar": {
              "outlinewidth": 0,
              "ticks": ""
             }
            },
            "marker": {
             "colorbar": {
              "outlinewidth": 0,
              "ticks": ""
             }
            },
            "type": "scatter3d"
           }
          ],
          "scattercarpet": [
           {
            "marker": {
             "colorbar": {
              "outlinewidth": 0,
              "ticks": ""
             }
            },
            "type": "scattercarpet"
           }
          ],
          "scattergeo": [
           {
            "marker": {
             "colorbar": {
              "outlinewidth": 0,
              "ticks": ""
             }
            },
            "type": "scattergeo"
           }
          ],
          "scattergl": [
           {
            "marker": {
             "colorbar": {
              "outlinewidth": 0,
              "ticks": ""
             }
            },
            "type": "scattergl"
           }
          ],
          "scattermapbox": [
           {
            "marker": {
             "colorbar": {
              "outlinewidth": 0,
              "ticks": ""
             }
            },
            "type": "scattermapbox"
           }
          ],
          "scatterpolar": [
           {
            "marker": {
             "colorbar": {
              "outlinewidth": 0,
              "ticks": ""
             }
            },
            "type": "scatterpolar"
           }
          ],
          "scatterpolargl": [
           {
            "marker": {
             "colorbar": {
              "outlinewidth": 0,
              "ticks": ""
             }
            },
            "type": "scatterpolargl"
           }
          ],
          "scatterternary": [
           {
            "marker": {
             "colorbar": {
              "outlinewidth": 0,
              "ticks": ""
             }
            },
            "type": "scatterternary"
           }
          ],
          "surface": [
           {
            "colorbar": {
             "outlinewidth": 0,
             "ticks": ""
            },
            "colorscale": [
             [
              0,
              "#0d0887"
             ],
             [
              0.1111111111111111,
              "#46039f"
             ],
             [
              0.2222222222222222,
              "#7201a8"
             ],
             [
              0.3333333333333333,
              "#9c179e"
             ],
             [
              0.4444444444444444,
              "#bd3786"
             ],
             [
              0.5555555555555556,
              "#d8576b"
             ],
             [
              0.6666666666666666,
              "#ed7953"
             ],
             [
              0.7777777777777778,
              "#fb9f3a"
             ],
             [
              0.8888888888888888,
              "#fdca26"
             ],
             [
              1,
              "#f0f921"
             ]
            ],
            "type": "surface"
           }
          ],
          "table": [
           {
            "cells": {
             "fill": {
              "color": "#EBF0F8"
             },
             "line": {
              "color": "white"
             }
            },
            "header": {
             "fill": {
              "color": "#C8D4E3"
             },
             "line": {
              "color": "white"
             }
            },
            "type": "table"
           }
          ]
         },
         "layout": {
          "annotationdefaults": {
           "arrowcolor": "#2a3f5f",
           "arrowhead": 0,
           "arrowwidth": 1
          },
          "autotypenumbers": "strict",
          "coloraxis": {
           "colorbar": {
            "outlinewidth": 0,
            "ticks": ""
           }
          },
          "colorscale": {
           "diverging": [
            [
             0,
             "#8e0152"
            ],
            [
             0.1,
             "#c51b7d"
            ],
            [
             0.2,
             "#de77ae"
            ],
            [
             0.3,
             "#f1b6da"
            ],
            [
             0.4,
             "#fde0ef"
            ],
            [
             0.5,
             "#f7f7f7"
            ],
            [
             0.6,
             "#e6f5d0"
            ],
            [
             0.7,
             "#b8e186"
            ],
            [
             0.8,
             "#7fbc41"
            ],
            [
             0.9,
             "#4d9221"
            ],
            [
             1,
             "#276419"
            ]
           ],
           "sequential": [
            [
             0,
             "#0d0887"
            ],
            [
             0.1111111111111111,
             "#46039f"
            ],
            [
             0.2222222222222222,
             "#7201a8"
            ],
            [
             0.3333333333333333,
             "#9c179e"
            ],
            [
             0.4444444444444444,
             "#bd3786"
            ],
            [
             0.5555555555555556,
             "#d8576b"
            ],
            [
             0.6666666666666666,
             "#ed7953"
            ],
            [
             0.7777777777777778,
             "#fb9f3a"
            ],
            [
             0.8888888888888888,
             "#fdca26"
            ],
            [
             1,
             "#f0f921"
            ]
           ],
           "sequentialminus": [
            [
             0,
             "#0d0887"
            ],
            [
             0.1111111111111111,
             "#46039f"
            ],
            [
             0.2222222222222222,
             "#7201a8"
            ],
            [
             0.3333333333333333,
             "#9c179e"
            ],
            [
             0.4444444444444444,
             "#bd3786"
            ],
            [
             0.5555555555555556,
             "#d8576b"
            ],
            [
             0.6666666666666666,
             "#ed7953"
            ],
            [
             0.7777777777777778,
             "#fb9f3a"
            ],
            [
             0.8888888888888888,
             "#fdca26"
            ],
            [
             1,
             "#f0f921"
            ]
           ]
          },
          "colorway": [
           "#636efa",
           "#EF553B",
           "#00cc96",
           "#ab63fa",
           "#FFA15A",
           "#19d3f3",
           "#FF6692",
           "#B6E880",
           "#FF97FF",
           "#FECB52"
          ],
          "font": {
           "color": "#2a3f5f"
          },
          "geo": {
           "bgcolor": "white",
           "lakecolor": "white",
           "landcolor": "#E5ECF6",
           "showlakes": true,
           "showland": true,
           "subunitcolor": "white"
          },
          "hoverlabel": {
           "align": "left"
          },
          "hovermode": "closest",
          "mapbox": {
           "style": "light"
          },
          "paper_bgcolor": "white",
          "plot_bgcolor": "#E5ECF6",
          "polar": {
           "angularaxis": {
            "gridcolor": "white",
            "linecolor": "white",
            "ticks": ""
           },
           "bgcolor": "#E5ECF6",
           "radialaxis": {
            "gridcolor": "white",
            "linecolor": "white",
            "ticks": ""
           }
          },
          "scene": {
           "xaxis": {
            "backgroundcolor": "#E5ECF6",
            "gridcolor": "white",
            "gridwidth": 2,
            "linecolor": "white",
            "showbackground": true,
            "ticks": "",
            "zerolinecolor": "white"
           },
           "yaxis": {
            "backgroundcolor": "#E5ECF6",
            "gridcolor": "white",
            "gridwidth": 2,
            "linecolor": "white",
            "showbackground": true,
            "ticks": "",
            "zerolinecolor": "white"
           },
           "zaxis": {
            "backgroundcolor": "#E5ECF6",
            "gridcolor": "white",
            "gridwidth": 2,
            "linecolor": "white",
            "showbackground": true,
            "ticks": "",
            "zerolinecolor": "white"
           }
          },
          "shapedefaults": {
           "line": {
            "color": "#2a3f5f"
           }
          },
          "ternary": {
           "aaxis": {
            "gridcolor": "white",
            "linecolor": "white",
            "ticks": ""
           },
           "baxis": {
            "gridcolor": "white",
            "linecolor": "white",
            "ticks": ""
           },
           "bgcolor": "#E5ECF6",
           "caxis": {
            "gridcolor": "white",
            "linecolor": "white",
            "ticks": ""
           }
          },
          "title": {
           "x": 0.05
          },
          "xaxis": {
           "automargin": true,
           "gridcolor": "white",
           "linecolor": "white",
           "ticks": "",
           "title": {
            "standoff": 15
           },
           "zerolinecolor": "white",
           "zerolinewidth": 2
          },
          "yaxis": {
           "automargin": true,
           "gridcolor": "white",
           "linecolor": "white",
           "ticks": "",
           "title": {
            "standoff": 15
           },
           "zerolinecolor": "white",
           "zerolinewidth": 2
          }
         }
        },
        "title": {
         "text": "Human Development Index 2019"
        }
       }
      }
     },
     "metadata": {},
     "output_type": "display_data"
    }
   ],
   "source": [
    "world_map(col = '1990',title = 'Human Development Index 1990')\n",
    "world_map(col = '2019',title = 'Human Development Index 2019')"
   ]
  },
  {
   "cell_type": "code",
   "execution_count": 140,
   "metadata": {},
   "outputs": [
    {
     "data": {
      "application/vnd.plotly.v1+json": {
       "config": {
        "plotlyServerURL": "https://plot.ly"
       },
       "data": [
        {
         "coloraxis": "coloraxis",
         "geo": "geo",
         "hovertemplate": "<b>%{hovertext}</b><br><br>Country=%{location}<br>2000-2019=%{z}<extra></extra>",
         "hovertext": [
          "Afghanistan",
          "Albania",
          "Algeria",
          "Andorra",
          "Angola",
          "Antigua and Barbuda",
          "Argentina",
          "Armenia",
          "Australia",
          "Austria",
          "Azerbaijan",
          "Bahamas",
          "Bahrain",
          "Bangladesh",
          "Barbados",
          "Belarus",
          "Belgium",
          "Belize",
          "Benin",
          "Bhutan",
          "Bolivia (Plurinational State of)",
          "Bosnia and Herzegovina",
          "Botswana",
          "Brazil",
          "Brunei Darussalam",
          "Bulgaria",
          "Burkina Faso",
          "Burundi",
          "Cabo Verde",
          "Cambodia",
          "Cameroon",
          "Canada",
          "Central African Republic",
          "Chad",
          "Chile",
          "China",
          "Colombia",
          "Comoros",
          "Congo",
          "Congo (Democratic Republic of the)",
          "Costa Rica",
          "Croatia",
          "Cuba",
          "Cyprus",
          "Czechia",
          "Côte d'Ivoire",
          "Denmark",
          "Djibouti",
          "Dominica",
          "Dominican Republic",
          "Ecuador",
          "Egypt",
          "El Salvador",
          "Equatorial Guinea",
          "Eritrea",
          "Estonia",
          "Eswatini (Kingdom of)",
          "Ethiopia",
          "Fiji",
          "Finland",
          "France",
          "Gabon",
          "Gambia",
          "Georgia",
          "Germany",
          "Ghana",
          "Greece",
          "Grenada",
          "Guatemala",
          "Guinea",
          "Guinea-Bissau",
          "Guyana",
          "Haiti",
          "Honduras",
          "Hong Kong, China (SAR)",
          "Hungary",
          "Iceland",
          "India",
          "Indonesia",
          "Iran (Islamic Republic of)",
          "Iraq",
          "Ireland",
          "Israel",
          "Italy",
          "Jamaica",
          "Japan",
          "Jordan",
          "Kazakhstan",
          "Kenya",
          "Kiribati",
          "Korea (Republic of)",
          "Kuwait",
          "Kyrgyzstan",
          "Lao People's Democratic Republic",
          "Latvia",
          "Lebanon",
          "Lesotho",
          "Liberia",
          "Libya",
          "Liechtenstein",
          "Lithuania",
          "Luxembourg",
          "Madagascar",
          "Malawi",
          "Malaysia",
          "Maldives",
          "Mali",
          "Malta",
          "Marshall Islands",
          "Mauritania",
          "Mauritius",
          "Mexico",
          "Micronesia (Federated States of)",
          "Moldova (Republic of)",
          "Mongolia",
          "Montenegro",
          "Morocco",
          "Mozambique",
          "Myanmar",
          "Namibia",
          "Nepal",
          "Netherlands",
          "New Zealand",
          "Nicaragua",
          "Niger",
          "Nigeria",
          "North Macedonia",
          "Norway",
          "Oman",
          "Pakistan",
          "Palau",
          "Palestine, State of",
          "Panama",
          "Papua New Guinea",
          "Paraguay",
          "Peru",
          "Philippines",
          "Poland",
          "Portugal",
          "Qatar",
          "Romania",
          "Russian Federation",
          "Rwanda",
          "Saint Kitts and Nevis",
          "Saint Lucia",
          "Saint Vincent and the Grenadines",
          "Samoa",
          "Sao Tome and Principe",
          "Saudi Arabia",
          "Senegal",
          "Serbia",
          "Seychelles",
          "Sierra Leone",
          "Singapore",
          "Slovakia",
          "Slovenia",
          "Solomon Islands",
          "South Africa",
          "South Sudan",
          "Spain",
          "Sri Lanka",
          "Sudan",
          "Suriname",
          "Sweden",
          "Switzerland",
          "Syrian Arab Republic",
          "Tajikistan",
          "Tanzania (United Republic of)",
          "Thailand",
          "Timor-Leste",
          "Togo",
          "Tonga",
          "Trinidad and Tobago",
          "Tunisia",
          "Turkey",
          "Turkmenistan",
          "Uganda",
          "Ukraine",
          "United Arab Emirates",
          "United Kingdom",
          "United States",
          "Uruguay",
          "Uzbekistan",
          "Vanuatu",
          "Venezuela (Bolivarian Republic of)",
          "Viet Nam",
          "Yemen",
          "Zambia",
          "Zimbabwe"
         ],
         "locationmode": "country names",
         "locations": [
          "Afghanistan",
          "Albania",
          "Algeria",
          "Andorra",
          "Angola",
          "Antigua and Barbuda",
          "Argentina",
          "Armenia",
          "Australia",
          "Austria",
          "Azerbaijan",
          "Bahamas",
          "Bahrain",
          "Bangladesh",
          "Barbados",
          "Belarus",
          "Belgium",
          "Belize",
          "Benin",
          "Bhutan",
          "Bolivia (Plurinational State of)",
          "Bosnia and Herzegovina",
          "Botswana",
          "Brazil",
          "Brunei Darussalam",
          "Bulgaria",
          "Burkina Faso",
          "Burundi",
          "Cabo Verde",
          "Cambodia",
          "Cameroon",
          "Canada",
          "Central African Republic",
          "Chad",
          "Chile",
          "China",
          "Colombia",
          "Comoros",
          "Congo",
          "Congo (Democratic Republic of the)",
          "Costa Rica",
          "Croatia",
          "Cuba",
          "Cyprus",
          "Czechia",
          "Côte d'Ivoire",
          "Denmark",
          "Djibouti",
          "Dominica",
          "Dominican Republic",
          "Ecuador",
          "Egypt",
          "El Salvador",
          "Equatorial Guinea",
          "Eritrea",
          "Estonia",
          "Eswatini (Kingdom of)",
          "Ethiopia",
          "Fiji",
          "Finland",
          "France",
          "Gabon",
          "Gambia",
          "Georgia",
          "Germany",
          "Ghana",
          "Greece",
          "Grenada",
          "Guatemala",
          "Guinea",
          "Guinea-Bissau",
          "Guyana",
          "Haiti",
          "Honduras",
          "Hong Kong, China (SAR)",
          "Hungary",
          "Iceland",
          "India",
          "Indonesia",
          "Iran (Islamic Republic of)",
          "Iraq",
          "Ireland",
          "Israel",
          "Italy",
          "Jamaica",
          "Japan",
          "Jordan",
          "Kazakhstan",
          "Kenya",
          "Kiribati",
          "Korea (Republic of)",
          "Kuwait",
          "Kyrgyzstan",
          "Lao People's Democratic Republic",
          "Latvia",
          "Lebanon",
          "Lesotho",
          "Liberia",
          "Libya",
          "Liechtenstein",
          "Lithuania",
          "Luxembourg",
          "Madagascar",
          "Malawi",
          "Malaysia",
          "Maldives",
          "Mali",
          "Malta",
          "Marshall Islands",
          "Mauritania",
          "Mauritius",
          "Mexico",
          "Micronesia (Federated States of)",
          "Moldova (Republic of)",
          "Mongolia",
          "Montenegro",
          "Morocco",
          "Mozambique",
          "Myanmar",
          "Namibia",
          "Nepal",
          "Netherlands",
          "New Zealand",
          "Nicaragua",
          "Niger",
          "Nigeria",
          "North Macedonia",
          "Norway",
          "Oman",
          "Pakistan",
          "Palau",
          "Palestine, State of",
          "Panama",
          "Papua New Guinea",
          "Paraguay",
          "Peru",
          "Philippines",
          "Poland",
          "Portugal",
          "Qatar",
          "Romania",
          "Russian Federation",
          "Rwanda",
          "Saint Kitts and Nevis",
          "Saint Lucia",
          "Saint Vincent and the Grenadines",
          "Samoa",
          "Sao Tome and Principe",
          "Saudi Arabia",
          "Senegal",
          "Serbia",
          "Seychelles",
          "Sierra Leone",
          "Singapore",
          "Slovakia",
          "Slovenia",
          "Solomon Islands",
          "South Africa",
          "South Sudan",
          "Spain",
          "Sri Lanka",
          "Sudan",
          "Suriname",
          "Sweden",
          "Switzerland",
          "Syrian Arab Republic",
          "Tajikistan",
          "Tanzania (United Republic of)",
          "Thailand",
          "Timor-Leste",
          "Togo",
          "Tonga",
          "Trinidad and Tobago",
          "Tunisia",
          "Turkey",
          "Turkmenistan",
          "Uganda",
          "Ukraine",
          "United Arab Emirates",
          "United Kingdom",
          "United States",
          "Uruguay",
          "Uzbekistan",
          "Vanuatu",
          "Venezuela (Bolivarian Republic of)",
          "Viet Nam",
          "Yemen",
          "Zambia",
          "Zimbabwe"
         ],
         "name": "",
         "type": "choropleth",
         "z": [
          0.16100000000000003,
          0.124,
          0.11099999999999999,
          0.05500000000000005,
          0.18099999999999994,
          0.1452241379310345,
          0.06399999999999995,
          0.10699999999999998,
          0.040999999999999925,
          0.07500000000000007,
          0.121,
          0.016999999999999904,
          0.05699999999999994,
          0.15400000000000003,
          0.04299999999999993,
          0.1369999999999999,
          0.051000000000000045,
          0.07599999999999996,
          0.12900000000000006,
          0.021224137931034504,
          0.09099999999999997,
          0.10099999999999998,
          0.15400000000000003,
          0.07999999999999996,
          0.03599999999999992,
          0.09599999999999997,
          0.15900000000000003,
          0.133,
          0.09600000000000009,
          0.16999999999999998,
          0.12299999999999994,
          0.062000000000000055,
          0.07200000000000001,
          0.10500000000000004,
          0.09499999999999997,
          0.17300000000000004,
          0.10099999999999998,
          0.08900000000000002,
          0.11299999999999993,
          0.131,
          0.08900000000000008,
          0.09399999999999997,
          0.09200000000000008,
          0.08299999999999996,
          0.09599999999999997,
          0.11700000000000005,
          0.06999999999999995,
          0.16400000000000003,
          0.039000000000000035,
          0.09699999999999998,
          0.08399999999999996,
          0.09399999999999997,
          0.05800000000000005,
          0.06699999999999995,
          -0.1737758620689655,
          0.10499999999999998,
          0.14599999999999996,
          0.193,
          0.04800000000000004,
          0.07399999999999995,
          0.052000000000000046,
          0.08199999999999996,
          0.09299999999999997,
          0.12200000000000011,
          0.07099999999999995,
          0.11699999999999999,
          0.08399999999999996,
          0.1462241379310345,
          0.11399999999999999,
          0.13699999999999996,
          -0.15277586206896554,
          0.06600000000000006,
          0.068,
          0.06800000000000006,
          0.119,
          0.08199999999999996,
          0.08199999999999996,
          0.15000000000000002,
          0.11499999999999999,
          0.125,
          0.07900000000000007,
          0.08799999999999997,
          0.05800000000000005,
          0.05400000000000005,
          0.05599999999999994,
          0.061000000000000054,
          0.018000000000000016,
          0.1399999999999999,
          0.13999999999999996,
          0.07699999999999996,
          0.09300000000000008,
          0.025000000000000022,
          0.07699999999999996,
          0.14200000000000002,
          0.131,
          0.11122413793103447,
          0.068,
          0.044999999999999984,
          -0.05600000000000005,
          0.05700000000000005,
          0.12,
          0.05600000000000005,
          0.066,
          0.09499999999999997,
          0.08700000000000008,
          0.118,
          0.122,
          0.09999999999999998,
          0.07122413793103444,
          0.08200000000000002,
          0.126,
          0.07100000000000006,
          0.07399999999999995,
          0.10699999999999998,
          0.14900000000000002,
          0.19622413793103444,
          0.15700000000000003,
          0.14900000000000002,
          0.16899999999999998,
          0.10199999999999998,
          0.14899999999999997,
          0.061999999999999944,
          0.05500000000000005,
          0.08300000000000007,
          0.132,
          -0.09377586206896549,
          0.09699999999999998,
          0.041999999999999926,
          0.12,
          0.11000000000000004,
          0.08199999999999996,
          0.07522413793103444,
          0.07999999999999996,
          0.10500000000000004,
          0.08499999999999996,
          0.09799999999999998,
          0.08599999999999997,
          0.08999999999999997,
          0.07199999999999995,
          0.03200000000000003,
          0.11199999999999999,
          0.10199999999999998,
          0.202,
          0.1462241379310345,
          0.06400000000000006,
          0.05699999999999994,
          0.06399999999999995,
          0.127,
          0.11099999999999999,
          0.122,
          0.09000000000000008,
          0.08200000000000007,
          0.15700000000000003,
          0.11699999999999999,
          0.09499999999999997,
          0.08500000000000008,
          0.09199999999999997,
          0.07799999999999996,
          -0.19977586206896553,
          0.07200000000000006,
          0.09100000000000008,
          0.10699999999999998,
          0.10522413793103447,
          0.041999999999999926,
          0.05699999999999994,
          -0.03300000000000003,
          0.11299999999999999,
          0.139,
          0.125,
          0.122,
          0.08800000000000002,
          0.04999999999999993,
          0.07900000000000007,
          0.08899999999999997,
          0.15999999999999992,
          0.08222413793103445,
          0.14,
          0.08500000000000008,
          0.10799999999999998,
          0.05800000000000005,
          0.040000000000000036,
          0.07399999999999995,
          0.121,
          -0.023775862068965536,
          0.03499999999999992,
          0.118,
          0.025999999999999968,
          0.15899999999999997,
          0.14099999999999996
         ]
        }
       ],
       "layout": {
        "coloraxis": {
         "colorbar": {
          "title": {
           "text": "2000-2019"
          }
         },
         "colorscale": [
          [
           0,
           "#000000"
          ],
          [
           0.0625,
           "#4c0000"
          ],
          [
           0.125,
           "#820000"
          ],
          [
           0.1875,
           "#ac2301"
          ],
          [
           0.25,
           "#c65400"
          ],
          [
           0.3125,
           "#da8200"
          ],
          [
           0.375,
           "#e7b000"
          ],
          [
           0.4375,
           "#f3d573"
          ],
          [
           0.5,
           "#e1e9d1"
          ],
          [
           0.5625,
           "#9be4ef"
          ],
          [
           0.625,
           "#54c8df"
          ],
          [
           0.6875,
           "#30a4ca"
          ],
          [
           0.75,
           "#217eb8"
          ],
          [
           0.8125,
           "#0e58a8"
          ],
          [
           0.875,
           "#003786"
          ],
          [
           0.9375,
           "#001f4d"
          ],
          [
           1,
           "#000000"
          ]
         ]
        },
        "geo": {
         "center": {},
         "domain": {
          "x": [
           0,
           1
          ],
          "y": [
           0,
           1
          ]
         }
        },
        "legend": {
         "tracegroupgap": 0
        },
        "margin": {
         "t": 60
        },
        "template": {
         "data": {
          "bar": [
           {
            "error_x": {
             "color": "#2a3f5f"
            },
            "error_y": {
             "color": "#2a3f5f"
            },
            "marker": {
             "line": {
              "color": "#E5ECF6",
              "width": 0.5
             },
             "pattern": {
              "fillmode": "overlay",
              "size": 10,
              "solidity": 0.2
             }
            },
            "type": "bar"
           }
          ],
          "barpolar": [
           {
            "marker": {
             "line": {
              "color": "#E5ECF6",
              "width": 0.5
             },
             "pattern": {
              "fillmode": "overlay",
              "size": 10,
              "solidity": 0.2
             }
            },
            "type": "barpolar"
           }
          ],
          "carpet": [
           {
            "aaxis": {
             "endlinecolor": "#2a3f5f",
             "gridcolor": "white",
             "linecolor": "white",
             "minorgridcolor": "white",
             "startlinecolor": "#2a3f5f"
            },
            "baxis": {
             "endlinecolor": "#2a3f5f",
             "gridcolor": "white",
             "linecolor": "white",
             "minorgridcolor": "white",
             "startlinecolor": "#2a3f5f"
            },
            "type": "carpet"
           }
          ],
          "choropleth": [
           {
            "colorbar": {
             "outlinewidth": 0,
             "ticks": ""
            },
            "type": "choropleth"
           }
          ],
          "contour": [
           {
            "colorbar": {
             "outlinewidth": 0,
             "ticks": ""
            },
            "colorscale": [
             [
              0,
              "#0d0887"
             ],
             [
              0.1111111111111111,
              "#46039f"
             ],
             [
              0.2222222222222222,
              "#7201a8"
             ],
             [
              0.3333333333333333,
              "#9c179e"
             ],
             [
              0.4444444444444444,
              "#bd3786"
             ],
             [
              0.5555555555555556,
              "#d8576b"
             ],
             [
              0.6666666666666666,
              "#ed7953"
             ],
             [
              0.7777777777777778,
              "#fb9f3a"
             ],
             [
              0.8888888888888888,
              "#fdca26"
             ],
             [
              1,
              "#f0f921"
             ]
            ],
            "type": "contour"
           }
          ],
          "contourcarpet": [
           {
            "colorbar": {
             "outlinewidth": 0,
             "ticks": ""
            },
            "type": "contourcarpet"
           }
          ],
          "heatmap": [
           {
            "colorbar": {
             "outlinewidth": 0,
             "ticks": ""
            },
            "colorscale": [
             [
              0,
              "#0d0887"
             ],
             [
              0.1111111111111111,
              "#46039f"
             ],
             [
              0.2222222222222222,
              "#7201a8"
             ],
             [
              0.3333333333333333,
              "#9c179e"
             ],
             [
              0.4444444444444444,
              "#bd3786"
             ],
             [
              0.5555555555555556,
              "#d8576b"
             ],
             [
              0.6666666666666666,
              "#ed7953"
             ],
             [
              0.7777777777777778,
              "#fb9f3a"
             ],
             [
              0.8888888888888888,
              "#fdca26"
             ],
             [
              1,
              "#f0f921"
             ]
            ],
            "type": "heatmap"
           }
          ],
          "heatmapgl": [
           {
            "colorbar": {
             "outlinewidth": 0,
             "ticks": ""
            },
            "colorscale": [
             [
              0,
              "#0d0887"
             ],
             [
              0.1111111111111111,
              "#46039f"
             ],
             [
              0.2222222222222222,
              "#7201a8"
             ],
             [
              0.3333333333333333,
              "#9c179e"
             ],
             [
              0.4444444444444444,
              "#bd3786"
             ],
             [
              0.5555555555555556,
              "#d8576b"
             ],
             [
              0.6666666666666666,
              "#ed7953"
             ],
             [
              0.7777777777777778,
              "#fb9f3a"
             ],
             [
              0.8888888888888888,
              "#fdca26"
             ],
             [
              1,
              "#f0f921"
             ]
            ],
            "type": "heatmapgl"
           }
          ],
          "histogram": [
           {
            "marker": {
             "pattern": {
              "fillmode": "overlay",
              "size": 10,
              "solidity": 0.2
             }
            },
            "type": "histogram"
           }
          ],
          "histogram2d": [
           {
            "colorbar": {
             "outlinewidth": 0,
             "ticks": ""
            },
            "colorscale": [
             [
              0,
              "#0d0887"
             ],
             [
              0.1111111111111111,
              "#46039f"
             ],
             [
              0.2222222222222222,
              "#7201a8"
             ],
             [
              0.3333333333333333,
              "#9c179e"
             ],
             [
              0.4444444444444444,
              "#bd3786"
             ],
             [
              0.5555555555555556,
              "#d8576b"
             ],
             [
              0.6666666666666666,
              "#ed7953"
             ],
             [
              0.7777777777777778,
              "#fb9f3a"
             ],
             [
              0.8888888888888888,
              "#fdca26"
             ],
             [
              1,
              "#f0f921"
             ]
            ],
            "type": "histogram2d"
           }
          ],
          "histogram2dcontour": [
           {
            "colorbar": {
             "outlinewidth": 0,
             "ticks": ""
            },
            "colorscale": [
             [
              0,
              "#0d0887"
             ],
             [
              0.1111111111111111,
              "#46039f"
             ],
             [
              0.2222222222222222,
              "#7201a8"
             ],
             [
              0.3333333333333333,
              "#9c179e"
             ],
             [
              0.4444444444444444,
              "#bd3786"
             ],
             [
              0.5555555555555556,
              "#d8576b"
             ],
             [
              0.6666666666666666,
              "#ed7953"
             ],
             [
              0.7777777777777778,
              "#fb9f3a"
             ],
             [
              0.8888888888888888,
              "#fdca26"
             ],
             [
              1,
              "#f0f921"
             ]
            ],
            "type": "histogram2dcontour"
           }
          ],
          "mesh3d": [
           {
            "colorbar": {
             "outlinewidth": 0,
             "ticks": ""
            },
            "type": "mesh3d"
           }
          ],
          "parcoords": [
           {
            "line": {
             "colorbar": {
              "outlinewidth": 0,
              "ticks": ""
             }
            },
            "type": "parcoords"
           }
          ],
          "pie": [
           {
            "automargin": true,
            "type": "pie"
           }
          ],
          "scatter": [
           {
            "fillpattern": {
             "fillmode": "overlay",
             "size": 10,
             "solidity": 0.2
            },
            "type": "scatter"
           }
          ],
          "scatter3d": [
           {
            "line": {
             "colorbar": {
              "outlinewidth": 0,
              "ticks": ""
             }
            },
            "marker": {
             "colorbar": {
              "outlinewidth": 0,
              "ticks": ""
             }
            },
            "type": "scatter3d"
           }
          ],
          "scattercarpet": [
           {
            "marker": {
             "colorbar": {
              "outlinewidth": 0,
              "ticks": ""
             }
            },
            "type": "scattercarpet"
           }
          ],
          "scattergeo": [
           {
            "marker": {
             "colorbar": {
              "outlinewidth": 0,
              "ticks": ""
             }
            },
            "type": "scattergeo"
           }
          ],
          "scattergl": [
           {
            "marker": {
             "colorbar": {
              "outlinewidth": 0,
              "ticks": ""
             }
            },
            "type": "scattergl"
           }
          ],
          "scattermapbox": [
           {
            "marker": {
             "colorbar": {
              "outlinewidth": 0,
              "ticks": ""
             }
            },
            "type": "scattermapbox"
           }
          ],
          "scatterpolar": [
           {
            "marker": {
             "colorbar": {
              "outlinewidth": 0,
              "ticks": ""
             }
            },
            "type": "scatterpolar"
           }
          ],
          "scatterpolargl": [
           {
            "marker": {
             "colorbar": {
              "outlinewidth": 0,
              "ticks": ""
             }
            },
            "type": "scatterpolargl"
           }
          ],
          "scatterternary": [
           {
            "marker": {
             "colorbar": {
              "outlinewidth": 0,
              "ticks": ""
             }
            },
            "type": "scatterternary"
           }
          ],
          "surface": [
           {
            "colorbar": {
             "outlinewidth": 0,
             "ticks": ""
            },
            "colorscale": [
             [
              0,
              "#0d0887"
             ],
             [
              0.1111111111111111,
              "#46039f"
             ],
             [
              0.2222222222222222,
              "#7201a8"
             ],
             [
              0.3333333333333333,
              "#9c179e"
             ],
             [
              0.4444444444444444,
              "#bd3786"
             ],
             [
              0.5555555555555556,
              "#d8576b"
             ],
             [
              0.6666666666666666,
              "#ed7953"
             ],
             [
              0.7777777777777778,
              "#fb9f3a"
             ],
             [
              0.8888888888888888,
              "#fdca26"
             ],
             [
              1,
              "#f0f921"
             ]
            ],
            "type": "surface"
           }
          ],
          "table": [
           {
            "cells": {
             "fill": {
              "color": "#EBF0F8"
             },
             "line": {
              "color": "white"
             }
            },
            "header": {
             "fill": {
              "color": "#C8D4E3"
             },
             "line": {
              "color": "white"
             }
            },
            "type": "table"
           }
          ]
         },
         "layout": {
          "annotationdefaults": {
           "arrowcolor": "#2a3f5f",
           "arrowhead": 0,
           "arrowwidth": 1
          },
          "autotypenumbers": "strict",
          "coloraxis": {
           "colorbar": {
            "outlinewidth": 0,
            "ticks": ""
           }
          },
          "colorscale": {
           "diverging": [
            [
             0,
             "#8e0152"
            ],
            [
             0.1,
             "#c51b7d"
            ],
            [
             0.2,
             "#de77ae"
            ],
            [
             0.3,
             "#f1b6da"
            ],
            [
             0.4,
             "#fde0ef"
            ],
            [
             0.5,
             "#f7f7f7"
            ],
            [
             0.6,
             "#e6f5d0"
            ],
            [
             0.7,
             "#b8e186"
            ],
            [
             0.8,
             "#7fbc41"
            ],
            [
             0.9,
             "#4d9221"
            ],
            [
             1,
             "#276419"
            ]
           ],
           "sequential": [
            [
             0,
             "#0d0887"
            ],
            [
             0.1111111111111111,
             "#46039f"
            ],
            [
             0.2222222222222222,
             "#7201a8"
            ],
            [
             0.3333333333333333,
             "#9c179e"
            ],
            [
             0.4444444444444444,
             "#bd3786"
            ],
            [
             0.5555555555555556,
             "#d8576b"
            ],
            [
             0.6666666666666666,
             "#ed7953"
            ],
            [
             0.7777777777777778,
             "#fb9f3a"
            ],
            [
             0.8888888888888888,
             "#fdca26"
            ],
            [
             1,
             "#f0f921"
            ]
           ],
           "sequentialminus": [
            [
             0,
             "#0d0887"
            ],
            [
             0.1111111111111111,
             "#46039f"
            ],
            [
             0.2222222222222222,
             "#7201a8"
            ],
            [
             0.3333333333333333,
             "#9c179e"
            ],
            [
             0.4444444444444444,
             "#bd3786"
            ],
            [
             0.5555555555555556,
             "#d8576b"
            ],
            [
             0.6666666666666666,
             "#ed7953"
            ],
            [
             0.7777777777777778,
             "#fb9f3a"
            ],
            [
             0.8888888888888888,
             "#fdca26"
            ],
            [
             1,
             "#f0f921"
            ]
           ]
          },
          "colorway": [
           "#636efa",
           "#EF553B",
           "#00cc96",
           "#ab63fa",
           "#FFA15A",
           "#19d3f3",
           "#FF6692",
           "#B6E880",
           "#FF97FF",
           "#FECB52"
          ],
          "font": {
           "color": "#2a3f5f"
          },
          "geo": {
           "bgcolor": "white",
           "lakecolor": "white",
           "landcolor": "#E5ECF6",
           "showlakes": true,
           "showland": true,
           "subunitcolor": "white"
          },
          "hoverlabel": {
           "align": "left"
          },
          "hovermode": "closest",
          "mapbox": {
           "style": "light"
          },
          "paper_bgcolor": "white",
          "plot_bgcolor": "#E5ECF6",
          "polar": {
           "angularaxis": {
            "gridcolor": "white",
            "linecolor": "white",
            "ticks": ""
           },
           "bgcolor": "#E5ECF6",
           "radialaxis": {
            "gridcolor": "white",
            "linecolor": "white",
            "ticks": ""
           }
          },
          "scene": {
           "xaxis": {
            "backgroundcolor": "#E5ECF6",
            "gridcolor": "white",
            "gridwidth": 2,
            "linecolor": "white",
            "showbackground": true,
            "ticks": "",
            "zerolinecolor": "white"
           },
           "yaxis": {
            "backgroundcolor": "#E5ECF6",
            "gridcolor": "white",
            "gridwidth": 2,
            "linecolor": "white",
            "showbackground": true,
            "ticks": "",
            "zerolinecolor": "white"
           },
           "zaxis": {
            "backgroundcolor": "#E5ECF6",
            "gridcolor": "white",
            "gridwidth": 2,
            "linecolor": "white",
            "showbackground": true,
            "ticks": "",
            "zerolinecolor": "white"
           }
          },
          "shapedefaults": {
           "line": {
            "color": "#2a3f5f"
           }
          },
          "ternary": {
           "aaxis": {
            "gridcolor": "white",
            "linecolor": "white",
            "ticks": ""
           },
           "baxis": {
            "gridcolor": "white",
            "linecolor": "white",
            "ticks": ""
           },
           "bgcolor": "#E5ECF6",
           "caxis": {
            "gridcolor": "white",
            "linecolor": "white",
            "ticks": ""
           }
          },
          "title": {
           "x": 0.05
          },
          "xaxis": {
           "automargin": true,
           "gridcolor": "white",
           "linecolor": "white",
           "ticks": "",
           "title": {
            "standoff": 15
           },
           "zerolinecolor": "white",
           "zerolinewidth": 2
          },
          "yaxis": {
           "automargin": true,
           "gridcolor": "white",
           "linecolor": "white",
           "ticks": "",
           "title": {
            "standoff": 15
           },
           "zerolinecolor": "white",
           "zerolinewidth": 2
          }
         }
        },
        "title": {
         "text": "Human Development Index Growth from 2000 to 2019"
        }
       }
      }
     },
     "metadata": {},
     "output_type": "display_data"
    }
   ],
   "source": [
    "df['2000-2019'] =df['2019']-df['2000']\n",
    "world_map(col = '2000-2019',title = 'Human Development Index Growth from 2000 to 2019')"
   ]
  },
  {
   "cell_type": "code",
   "execution_count": 141,
   "metadata": {},
   "outputs": [
    {
     "data": {
      "application/vnd.plotly.v1+json": {
       "config": {
        "plotlyServerURL": "https://plot.ly"
       },
       "data": [
        {
         "coloraxis": "coloraxis",
         "geo": "geo",
         "hovertemplate": "<b>%{hovertext}</b><br><br>Country=%{location}<br>2010-2019=%{z}<extra></extra>",
         "hovertext": [
          "Afghanistan",
          "Albania",
          "Algeria",
          "Andorra",
          "Angola",
          "Antigua and Barbuda",
          "Argentina",
          "Armenia",
          "Australia",
          "Austria",
          "Azerbaijan",
          "Bahamas",
          "Bahrain",
          "Bangladesh",
          "Barbados",
          "Belarus",
          "Belgium",
          "Belize",
          "Benin",
          "Bhutan",
          "Bolivia (Plurinational State of)",
          "Bosnia and Herzegovina",
          "Botswana",
          "Brazil",
          "Brunei Darussalam",
          "Bulgaria",
          "Burkina Faso",
          "Burundi",
          "Cabo Verde",
          "Cambodia",
          "Cameroon",
          "Canada",
          "Central African Republic",
          "Chad",
          "Chile",
          "China",
          "Colombia",
          "Comoros",
          "Congo",
          "Congo (Democratic Republic of the)",
          "Costa Rica",
          "Croatia",
          "Cuba",
          "Cyprus",
          "Czechia",
          "Côte d'Ivoire",
          "Denmark",
          "Djibouti",
          "Dominica",
          "Dominican Republic",
          "Ecuador",
          "Egypt",
          "El Salvador",
          "Equatorial Guinea",
          "Eritrea",
          "Estonia",
          "Eswatini (Kingdom of)",
          "Ethiopia",
          "Fiji",
          "Finland",
          "France",
          "Gabon",
          "Gambia",
          "Georgia",
          "Germany",
          "Ghana",
          "Greece",
          "Grenada",
          "Guatemala",
          "Guinea",
          "Guinea-Bissau",
          "Guyana",
          "Haiti",
          "Honduras",
          "Hong Kong, China (SAR)",
          "Hungary",
          "Iceland",
          "India",
          "Indonesia",
          "Iran (Islamic Republic of)",
          "Iraq",
          "Ireland",
          "Israel",
          "Italy",
          "Jamaica",
          "Japan",
          "Jordan",
          "Kazakhstan",
          "Kenya",
          "Kiribati",
          "Korea (Republic of)",
          "Kuwait",
          "Kyrgyzstan",
          "Lao People's Democratic Republic",
          "Latvia",
          "Lebanon",
          "Lesotho",
          "Liberia",
          "Libya",
          "Liechtenstein",
          "Lithuania",
          "Luxembourg",
          "Madagascar",
          "Malawi",
          "Malaysia",
          "Maldives",
          "Mali",
          "Malta",
          "Marshall Islands",
          "Mauritania",
          "Mauritius",
          "Mexico",
          "Micronesia (Federated States of)",
          "Moldova (Republic of)",
          "Mongolia",
          "Montenegro",
          "Morocco",
          "Mozambique",
          "Myanmar",
          "Namibia",
          "Nepal",
          "Netherlands",
          "New Zealand",
          "Nicaragua",
          "Niger",
          "Nigeria",
          "North Macedonia",
          "Norway",
          "Oman",
          "Pakistan",
          "Palau",
          "Palestine, State of",
          "Panama",
          "Papua New Guinea",
          "Paraguay",
          "Peru",
          "Philippines",
          "Poland",
          "Portugal",
          "Qatar",
          "Romania",
          "Russian Federation",
          "Rwanda",
          "Saint Kitts and Nevis",
          "Saint Lucia",
          "Saint Vincent and the Grenadines",
          "Samoa",
          "Sao Tome and Principe",
          "Saudi Arabia",
          "Senegal",
          "Serbia",
          "Seychelles",
          "Sierra Leone",
          "Singapore",
          "Slovakia",
          "Slovenia",
          "Solomon Islands",
          "South Africa",
          "South Sudan",
          "Spain",
          "Sri Lanka",
          "Sudan",
          "Suriname",
          "Sweden",
          "Switzerland",
          "Syrian Arab Republic",
          "Tajikistan",
          "Tanzania (United Republic of)",
          "Thailand",
          "Timor-Leste",
          "Togo",
          "Tonga",
          "Trinidad and Tobago",
          "Tunisia",
          "Turkey",
          "Turkmenistan",
          "Uganda",
          "Ukraine",
          "United Arab Emirates",
          "United Kingdom",
          "United States",
          "Uruguay",
          "Uzbekistan",
          "Vanuatu",
          "Venezuela (Bolivarian Republic of)",
          "Viet Nam",
          "Yemen",
          "Zambia",
          "Zimbabwe"
         ],
         "locationmode": "country names",
         "locations": [
          "Afghanistan",
          "Albania",
          "Algeria",
          "Andorra",
          "Angola",
          "Antigua and Barbuda",
          "Argentina",
          "Armenia",
          "Australia",
          "Austria",
          "Azerbaijan",
          "Bahamas",
          "Bahrain",
          "Bangladesh",
          "Barbados",
          "Belarus",
          "Belgium",
          "Belize",
          "Benin",
          "Bhutan",
          "Bolivia (Plurinational State of)",
          "Bosnia and Herzegovina",
          "Botswana",
          "Brazil",
          "Brunei Darussalam",
          "Bulgaria",
          "Burkina Faso",
          "Burundi",
          "Cabo Verde",
          "Cambodia",
          "Cameroon",
          "Canada",
          "Central African Republic",
          "Chad",
          "Chile",
          "China",
          "Colombia",
          "Comoros",
          "Congo",
          "Congo (Democratic Republic of the)",
          "Costa Rica",
          "Croatia",
          "Cuba",
          "Cyprus",
          "Czechia",
          "Côte d'Ivoire",
          "Denmark",
          "Djibouti",
          "Dominica",
          "Dominican Republic",
          "Ecuador",
          "Egypt",
          "El Salvador",
          "Equatorial Guinea",
          "Eritrea",
          "Estonia",
          "Eswatini (Kingdom of)",
          "Ethiopia",
          "Fiji",
          "Finland",
          "France",
          "Gabon",
          "Gambia",
          "Georgia",
          "Germany",
          "Ghana",
          "Greece",
          "Grenada",
          "Guatemala",
          "Guinea",
          "Guinea-Bissau",
          "Guyana",
          "Haiti",
          "Honduras",
          "Hong Kong, China (SAR)",
          "Hungary",
          "Iceland",
          "India",
          "Indonesia",
          "Iran (Islamic Republic of)",
          "Iraq",
          "Ireland",
          "Israel",
          "Italy",
          "Jamaica",
          "Japan",
          "Jordan",
          "Kazakhstan",
          "Kenya",
          "Kiribati",
          "Korea (Republic of)",
          "Kuwait",
          "Kyrgyzstan",
          "Lao People's Democratic Republic",
          "Latvia",
          "Lebanon",
          "Lesotho",
          "Liberia",
          "Libya",
          "Liechtenstein",
          "Lithuania",
          "Luxembourg",
          "Madagascar",
          "Malawi",
          "Malaysia",
          "Maldives",
          "Mali",
          "Malta",
          "Marshall Islands",
          "Mauritania",
          "Mauritius",
          "Mexico",
          "Micronesia (Federated States of)",
          "Moldova (Republic of)",
          "Mongolia",
          "Montenegro",
          "Morocco",
          "Mozambique",
          "Myanmar",
          "Namibia",
          "Nepal",
          "Netherlands",
          "New Zealand",
          "Nicaragua",
          "Niger",
          "Nigeria",
          "North Macedonia",
          "Norway",
          "Oman",
          "Pakistan",
          "Palau",
          "Palestine, State of",
          "Panama",
          "Papua New Guinea",
          "Paraguay",
          "Peru",
          "Philippines",
          "Poland",
          "Portugal",
          "Qatar",
          "Romania",
          "Russian Federation",
          "Rwanda",
          "Saint Kitts and Nevis",
          "Saint Lucia",
          "Saint Vincent and the Grenadines",
          "Samoa",
          "Sao Tome and Principe",
          "Saudi Arabia",
          "Senegal",
          "Serbia",
          "Seychelles",
          "Sierra Leone",
          "Singapore",
          "Slovakia",
          "Slovenia",
          "Solomon Islands",
          "South Africa",
          "South Sudan",
          "Spain",
          "Sri Lanka",
          "Sudan",
          "Suriname",
          "Sweden",
          "Switzerland",
          "Syrian Arab Republic",
          "Tajikistan",
          "Tanzania (United Republic of)",
          "Thailand",
          "Timor-Leste",
          "Togo",
          "Tonga",
          "Trinidad and Tobago",
          "Tunisia",
          "Turkey",
          "Turkmenistan",
          "Uganda",
          "Ukraine",
          "United Arab Emirates",
          "United Kingdom",
          "United States",
          "Uruguay",
          "Uzbekistan",
          "Vanuatu",
          "Venezuela (Bolivarian Republic of)",
          "Viet Nam",
          "Yemen",
          "Zambia",
          "Zimbabwe"
         ],
         "name": "",
         "type": "choropleth",
         "z": [
          0.039000000000000035,
          0.050000000000000044,
          0.027000000000000024,
          0.031000000000000028,
          0.06399999999999995,
          0.015000000000000013,
          0.016000000000000014,
          0.029000000000000026,
          0.013999999999999901,
          0.018000000000000016,
          0.030000000000000027,
          0.008999999999999897,
          0.051999999999999935,
          0.07499999999999996,
          0.016999999999999904,
          0.027999999999999914,
          0.02100000000000002,
          0.02100000000000002,
          0.051000000000000045,
          0.08000000000000007,
          0.050999999999999934,
          0.05900000000000005,
          0.07199999999999995,
          0.038000000000000034,
          0.01100000000000001,
          0.027999999999999914,
          0.068,
          0.02200000000000002,
          0.03300000000000003,
          0.05499999999999994,
          0.05799999999999994,
          0.028000000000000025,
          0.03200000000000003,
          0.029000000000000026,
          0.04799999999999993,
          0.062000000000000055,
          0.038000000000000034,
          0.03300000000000003,
          0.05399999999999994,
          0.044999999999999984,
          0.04500000000000004,
          0.03600000000000003,
          0.0020000000000000018,
          0.031000000000000028,
          0.030000000000000027,
          0.07,
          0.02299999999999991,
          0.07,
          0.0020000000000000018,
          0.050000000000000044,
          0.03300000000000003,
          0.038999999999999924,
          0.0050000000000000044,
          0.016000000000000014,
          0.02300000000000002,
          0.040000000000000036,
          0.10099999999999998,
          0.064,
          0.028000000000000025,
          0.02199999999999991,
          0.02200000000000002,
          0.050999999999999934,
          0.03699999999999998,
          0.061000000000000054,
          0.019999999999999907,
          0.04600000000000004,
          0.02300000000000002,
          0.025000000000000022,
          0.05700000000000005,
          0.061,
          0.043999999999999984,
          0.03300000000000003,
          0.039000000000000035,
          0.02400000000000002,
          0.04499999999999993,
          0.02300000000000002,
          0.050999999999999934,
          0.06600000000000006,
          0.052999999999999936,
          0.041000000000000036,
          0.038000000000000034,
          0.05399999999999994,
          0.02400000000000002,
          0.013000000000000012,
          0.0020000000000000018,
          0.03200000000000003,
          -0.008000000000000007,
          0.06099999999999994,
          0.04999999999999993,
          0.03700000000000003,
          0.027000000000000024,
          0.018000000000000016,
          0.03499999999999992,
          0.06099999999999994,
          0.04200000000000004,
          -0.02200000000000002,
          0.067,
          0.024999999999999967,
          -0.07400000000000007,
          0.015000000000000013,
          0.051000000000000045,
          0.018000000000000016,
          0.017000000000000015,
          0.05199999999999999,
          0.038000000000000034,
          0.05499999999999994,
          0.026000000000000023,
          0.04200000000000004,
          0.016803191489361713,
          0.041000000000000036,
          0.05300000000000005,
          0.031000000000000028,
          0.019000000000000017,
          0.03700000000000003,
          0.041000000000000036,
          0.026999999999999913,
          0.07000000000000006,
          0.05499999999999999,
          0.06799999999999995,
          0.05700000000000005,
          0.06499999999999995,
          0.026999999999999913,
          0.025000000000000022,
          0.038000000000000034,
          0.063,
          0.05700000000000005,
          0.031000000000000028,
          0.017000000000000015,
          0.030999999999999917,
          0.04500000000000004,
          0.039999999999999925,
          0.02399999999999991,
          0.040999999999999925,
          0.03300000000000003,
          0.03200000000000003,
          0.05600000000000005,
          0.04699999999999993,
          0.040000000000000036,
          0.03500000000000003,
          0.014000000000000012,
          0.02299999999999991,
          0.04299999999999993,
          0.051000000000000045,
          0.03300000000000003,
          0.029000000000000026,
          0.020000000000000018,
          0.017000000000000015,
          0.06399999999999995,
          0.04499999999999993,
          0.043999999999999984,
          0.040000000000000036,
          0.03200000000000003,
          0.05299999999999999,
          0.028999999999999915,
          0.029000000000000026,
          0.028000000000000025,
          0.029999999999999916,
          0.04499999999999993,
          0.02300000000000002,
          0.03200000000000003,
          0.028000000000000025,
          0.041000000000000036,
          0.028000000000000025,
          0.03399999999999992,
          0.014000000000000012,
          -0.1050000000000001,
          0.030000000000000027,
          0.04800000000000004,
          0.05300000000000005,
          -0.02200000000000002,
          0.04899999999999999,
          0.026000000000000023,
          0.01200000000000001,
          0.02400000000000002,
          0.08099999999999996,
          0.04899999999999993,
          0.04600000000000004,
          0.02400000000000002,
          0.07000000000000006,
          0.020000000000000018,
          0.010000000000000009,
          0.03499999999999992,
          0.050999999999999934,
          0.019000000000000017,
          -0.04600000000000004,
          0.04299999999999993,
          -0.03600000000000003,
          0.05699999999999994,
          0.08899999999999997
         ]
        }
       ],
       "layout": {
        "coloraxis": {
         "colorbar": {
          "title": {
           "text": "2010-2019"
          }
         },
         "colorscale": [
          [
           0,
           "#000000"
          ],
          [
           0.0625,
           "#4c0000"
          ],
          [
           0.125,
           "#820000"
          ],
          [
           0.1875,
           "#ac2301"
          ],
          [
           0.25,
           "#c65400"
          ],
          [
           0.3125,
           "#da8200"
          ],
          [
           0.375,
           "#e7b000"
          ],
          [
           0.4375,
           "#f3d573"
          ],
          [
           0.5,
           "#e1e9d1"
          ],
          [
           0.5625,
           "#9be4ef"
          ],
          [
           0.625,
           "#54c8df"
          ],
          [
           0.6875,
           "#30a4ca"
          ],
          [
           0.75,
           "#217eb8"
          ],
          [
           0.8125,
           "#0e58a8"
          ],
          [
           0.875,
           "#003786"
          ],
          [
           0.9375,
           "#001f4d"
          ],
          [
           1,
           "#000000"
          ]
         ]
        },
        "geo": {
         "center": {},
         "domain": {
          "x": [
           0,
           1
          ],
          "y": [
           0,
           1
          ]
         }
        },
        "legend": {
         "tracegroupgap": 0
        },
        "margin": {
         "t": 60
        },
        "template": {
         "data": {
          "bar": [
           {
            "error_x": {
             "color": "#2a3f5f"
            },
            "error_y": {
             "color": "#2a3f5f"
            },
            "marker": {
             "line": {
              "color": "#E5ECF6",
              "width": 0.5
             },
             "pattern": {
              "fillmode": "overlay",
              "size": 10,
              "solidity": 0.2
             }
            },
            "type": "bar"
           }
          ],
          "barpolar": [
           {
            "marker": {
             "line": {
              "color": "#E5ECF6",
              "width": 0.5
             },
             "pattern": {
              "fillmode": "overlay",
              "size": 10,
              "solidity": 0.2
             }
            },
            "type": "barpolar"
           }
          ],
          "carpet": [
           {
            "aaxis": {
             "endlinecolor": "#2a3f5f",
             "gridcolor": "white",
             "linecolor": "white",
             "minorgridcolor": "white",
             "startlinecolor": "#2a3f5f"
            },
            "baxis": {
             "endlinecolor": "#2a3f5f",
             "gridcolor": "white",
             "linecolor": "white",
             "minorgridcolor": "white",
             "startlinecolor": "#2a3f5f"
            },
            "type": "carpet"
           }
          ],
          "choropleth": [
           {
            "colorbar": {
             "outlinewidth": 0,
             "ticks": ""
            },
            "type": "choropleth"
           }
          ],
          "contour": [
           {
            "colorbar": {
             "outlinewidth": 0,
             "ticks": ""
            },
            "colorscale": [
             [
              0,
              "#0d0887"
             ],
             [
              0.1111111111111111,
              "#46039f"
             ],
             [
              0.2222222222222222,
              "#7201a8"
             ],
             [
              0.3333333333333333,
              "#9c179e"
             ],
             [
              0.4444444444444444,
              "#bd3786"
             ],
             [
              0.5555555555555556,
              "#d8576b"
             ],
             [
              0.6666666666666666,
              "#ed7953"
             ],
             [
              0.7777777777777778,
              "#fb9f3a"
             ],
             [
              0.8888888888888888,
              "#fdca26"
             ],
             [
              1,
              "#f0f921"
             ]
            ],
            "type": "contour"
           }
          ],
          "contourcarpet": [
           {
            "colorbar": {
             "outlinewidth": 0,
             "ticks": ""
            },
            "type": "contourcarpet"
           }
          ],
          "heatmap": [
           {
            "colorbar": {
             "outlinewidth": 0,
             "ticks": ""
            },
            "colorscale": [
             [
              0,
              "#0d0887"
             ],
             [
              0.1111111111111111,
              "#46039f"
             ],
             [
              0.2222222222222222,
              "#7201a8"
             ],
             [
              0.3333333333333333,
              "#9c179e"
             ],
             [
              0.4444444444444444,
              "#bd3786"
             ],
             [
              0.5555555555555556,
              "#d8576b"
             ],
             [
              0.6666666666666666,
              "#ed7953"
             ],
             [
              0.7777777777777778,
              "#fb9f3a"
             ],
             [
              0.8888888888888888,
              "#fdca26"
             ],
             [
              1,
              "#f0f921"
             ]
            ],
            "type": "heatmap"
           }
          ],
          "heatmapgl": [
           {
            "colorbar": {
             "outlinewidth": 0,
             "ticks": ""
            },
            "colorscale": [
             [
              0,
              "#0d0887"
             ],
             [
              0.1111111111111111,
              "#46039f"
             ],
             [
              0.2222222222222222,
              "#7201a8"
             ],
             [
              0.3333333333333333,
              "#9c179e"
             ],
             [
              0.4444444444444444,
              "#bd3786"
             ],
             [
              0.5555555555555556,
              "#d8576b"
             ],
             [
              0.6666666666666666,
              "#ed7953"
             ],
             [
              0.7777777777777778,
              "#fb9f3a"
             ],
             [
              0.8888888888888888,
              "#fdca26"
             ],
             [
              1,
              "#f0f921"
             ]
            ],
            "type": "heatmapgl"
           }
          ],
          "histogram": [
           {
            "marker": {
             "pattern": {
              "fillmode": "overlay",
              "size": 10,
              "solidity": 0.2
             }
            },
            "type": "histogram"
           }
          ],
          "histogram2d": [
           {
            "colorbar": {
             "outlinewidth": 0,
             "ticks": ""
            },
            "colorscale": [
             [
              0,
              "#0d0887"
             ],
             [
              0.1111111111111111,
              "#46039f"
             ],
             [
              0.2222222222222222,
              "#7201a8"
             ],
             [
              0.3333333333333333,
              "#9c179e"
             ],
             [
              0.4444444444444444,
              "#bd3786"
             ],
             [
              0.5555555555555556,
              "#d8576b"
             ],
             [
              0.6666666666666666,
              "#ed7953"
             ],
             [
              0.7777777777777778,
              "#fb9f3a"
             ],
             [
              0.8888888888888888,
              "#fdca26"
             ],
             [
              1,
              "#f0f921"
             ]
            ],
            "type": "histogram2d"
           }
          ],
          "histogram2dcontour": [
           {
            "colorbar": {
             "outlinewidth": 0,
             "ticks": ""
            },
            "colorscale": [
             [
              0,
              "#0d0887"
             ],
             [
              0.1111111111111111,
              "#46039f"
             ],
             [
              0.2222222222222222,
              "#7201a8"
             ],
             [
              0.3333333333333333,
              "#9c179e"
             ],
             [
              0.4444444444444444,
              "#bd3786"
             ],
             [
              0.5555555555555556,
              "#d8576b"
             ],
             [
              0.6666666666666666,
              "#ed7953"
             ],
             [
              0.7777777777777778,
              "#fb9f3a"
             ],
             [
              0.8888888888888888,
              "#fdca26"
             ],
             [
              1,
              "#f0f921"
             ]
            ],
            "type": "histogram2dcontour"
           }
          ],
          "mesh3d": [
           {
            "colorbar": {
             "outlinewidth": 0,
             "ticks": ""
            },
            "type": "mesh3d"
           }
          ],
          "parcoords": [
           {
            "line": {
             "colorbar": {
              "outlinewidth": 0,
              "ticks": ""
             }
            },
            "type": "parcoords"
           }
          ],
          "pie": [
           {
            "automargin": true,
            "type": "pie"
           }
          ],
          "scatter": [
           {
            "fillpattern": {
             "fillmode": "overlay",
             "size": 10,
             "solidity": 0.2
            },
            "type": "scatter"
           }
          ],
          "scatter3d": [
           {
            "line": {
             "colorbar": {
              "outlinewidth": 0,
              "ticks": ""
             }
            },
            "marker": {
             "colorbar": {
              "outlinewidth": 0,
              "ticks": ""
             }
            },
            "type": "scatter3d"
           }
          ],
          "scattercarpet": [
           {
            "marker": {
             "colorbar": {
              "outlinewidth": 0,
              "ticks": ""
             }
            },
            "type": "scattercarpet"
           }
          ],
          "scattergeo": [
           {
            "marker": {
             "colorbar": {
              "outlinewidth": 0,
              "ticks": ""
             }
            },
            "type": "scattergeo"
           }
          ],
          "scattergl": [
           {
            "marker": {
             "colorbar": {
              "outlinewidth": 0,
              "ticks": ""
             }
            },
            "type": "scattergl"
           }
          ],
          "scattermapbox": [
           {
            "marker": {
             "colorbar": {
              "outlinewidth": 0,
              "ticks": ""
             }
            },
            "type": "scattermapbox"
           }
          ],
          "scatterpolar": [
           {
            "marker": {
             "colorbar": {
              "outlinewidth": 0,
              "ticks": ""
             }
            },
            "type": "scatterpolar"
           }
          ],
          "scatterpolargl": [
           {
            "marker": {
             "colorbar": {
              "outlinewidth": 0,
              "ticks": ""
             }
            },
            "type": "scatterpolargl"
           }
          ],
          "scatterternary": [
           {
            "marker": {
             "colorbar": {
              "outlinewidth": 0,
              "ticks": ""
             }
            },
            "type": "scatterternary"
           }
          ],
          "surface": [
           {
            "colorbar": {
             "outlinewidth": 0,
             "ticks": ""
            },
            "colorscale": [
             [
              0,
              "#0d0887"
             ],
             [
              0.1111111111111111,
              "#46039f"
             ],
             [
              0.2222222222222222,
              "#7201a8"
             ],
             [
              0.3333333333333333,
              "#9c179e"
             ],
             [
              0.4444444444444444,
              "#bd3786"
             ],
             [
              0.5555555555555556,
              "#d8576b"
             ],
             [
              0.6666666666666666,
              "#ed7953"
             ],
             [
              0.7777777777777778,
              "#fb9f3a"
             ],
             [
              0.8888888888888888,
              "#fdca26"
             ],
             [
              1,
              "#f0f921"
             ]
            ],
            "type": "surface"
           }
          ],
          "table": [
           {
            "cells": {
             "fill": {
              "color": "#EBF0F8"
             },
             "line": {
              "color": "white"
             }
            },
            "header": {
             "fill": {
              "color": "#C8D4E3"
             },
             "line": {
              "color": "white"
             }
            },
            "type": "table"
           }
          ]
         },
         "layout": {
          "annotationdefaults": {
           "arrowcolor": "#2a3f5f",
           "arrowhead": 0,
           "arrowwidth": 1
          },
          "autotypenumbers": "strict",
          "coloraxis": {
           "colorbar": {
            "outlinewidth": 0,
            "ticks": ""
           }
          },
          "colorscale": {
           "diverging": [
            [
             0,
             "#8e0152"
            ],
            [
             0.1,
             "#c51b7d"
            ],
            [
             0.2,
             "#de77ae"
            ],
            [
             0.3,
             "#f1b6da"
            ],
            [
             0.4,
             "#fde0ef"
            ],
            [
             0.5,
             "#f7f7f7"
            ],
            [
             0.6,
             "#e6f5d0"
            ],
            [
             0.7,
             "#b8e186"
            ],
            [
             0.8,
             "#7fbc41"
            ],
            [
             0.9,
             "#4d9221"
            ],
            [
             1,
             "#276419"
            ]
           ],
           "sequential": [
            [
             0,
             "#0d0887"
            ],
            [
             0.1111111111111111,
             "#46039f"
            ],
            [
             0.2222222222222222,
             "#7201a8"
            ],
            [
             0.3333333333333333,
             "#9c179e"
            ],
            [
             0.4444444444444444,
             "#bd3786"
            ],
            [
             0.5555555555555556,
             "#d8576b"
            ],
            [
             0.6666666666666666,
             "#ed7953"
            ],
            [
             0.7777777777777778,
             "#fb9f3a"
            ],
            [
             0.8888888888888888,
             "#fdca26"
            ],
            [
             1,
             "#f0f921"
            ]
           ],
           "sequentialminus": [
            [
             0,
             "#0d0887"
            ],
            [
             0.1111111111111111,
             "#46039f"
            ],
            [
             0.2222222222222222,
             "#7201a8"
            ],
            [
             0.3333333333333333,
             "#9c179e"
            ],
            [
             0.4444444444444444,
             "#bd3786"
            ],
            [
             0.5555555555555556,
             "#d8576b"
            ],
            [
             0.6666666666666666,
             "#ed7953"
            ],
            [
             0.7777777777777778,
             "#fb9f3a"
            ],
            [
             0.8888888888888888,
             "#fdca26"
            ],
            [
             1,
             "#f0f921"
            ]
           ]
          },
          "colorway": [
           "#636efa",
           "#EF553B",
           "#00cc96",
           "#ab63fa",
           "#FFA15A",
           "#19d3f3",
           "#FF6692",
           "#B6E880",
           "#FF97FF",
           "#FECB52"
          ],
          "font": {
           "color": "#2a3f5f"
          },
          "geo": {
           "bgcolor": "white",
           "lakecolor": "white",
           "landcolor": "#E5ECF6",
           "showlakes": true,
           "showland": true,
           "subunitcolor": "white"
          },
          "hoverlabel": {
           "align": "left"
          },
          "hovermode": "closest",
          "mapbox": {
           "style": "light"
          },
          "paper_bgcolor": "white",
          "plot_bgcolor": "#E5ECF6",
          "polar": {
           "angularaxis": {
            "gridcolor": "white",
            "linecolor": "white",
            "ticks": ""
           },
           "bgcolor": "#E5ECF6",
           "radialaxis": {
            "gridcolor": "white",
            "linecolor": "white",
            "ticks": ""
           }
          },
          "scene": {
           "xaxis": {
            "backgroundcolor": "#E5ECF6",
            "gridcolor": "white",
            "gridwidth": 2,
            "linecolor": "white",
            "showbackground": true,
            "ticks": "",
            "zerolinecolor": "white"
           },
           "yaxis": {
            "backgroundcolor": "#E5ECF6",
            "gridcolor": "white",
            "gridwidth": 2,
            "linecolor": "white",
            "showbackground": true,
            "ticks": "",
            "zerolinecolor": "white"
           },
           "zaxis": {
            "backgroundcolor": "#E5ECF6",
            "gridcolor": "white",
            "gridwidth": 2,
            "linecolor": "white",
            "showbackground": true,
            "ticks": "",
            "zerolinecolor": "white"
           }
          },
          "shapedefaults": {
           "line": {
            "color": "#2a3f5f"
           }
          },
          "ternary": {
           "aaxis": {
            "gridcolor": "white",
            "linecolor": "white",
            "ticks": ""
           },
           "baxis": {
            "gridcolor": "white",
            "linecolor": "white",
            "ticks": ""
           },
           "bgcolor": "#E5ECF6",
           "caxis": {
            "gridcolor": "white",
            "linecolor": "white",
            "ticks": ""
           }
          },
          "title": {
           "x": 0.05
          },
          "xaxis": {
           "automargin": true,
           "gridcolor": "white",
           "linecolor": "white",
           "ticks": "",
           "title": {
            "standoff": 15
           },
           "zerolinecolor": "white",
           "zerolinewidth": 2
          },
          "yaxis": {
           "automargin": true,
           "gridcolor": "white",
           "linecolor": "white",
           "ticks": "",
           "title": {
            "standoff": 15
           },
           "zerolinecolor": "white",
           "zerolinewidth": 2
          }
         }
        },
        "title": {
         "text": "Human Development Index Growth from 2010 to 2019"
        }
       }
      }
     },
     "metadata": {},
     "output_type": "display_data"
    }
   ],
   "source": [
    "df['2010-2019'] = df['2019']-df['2010']\n",
    "world_map(col = '2010-2019',title = 'Human Development Index Growth from 2010 to 2019')"
   ]
  },
  {
   "cell_type": "code",
   "execution_count": 142,
   "metadata": {},
   "outputs": [
    {
     "data": {
      "text/plain": [
       "<AxesSubplot: xlabel='2001', ylabel='2019'>"
      ]
     },
     "execution_count": 142,
     "metadata": {},
     "output_type": "execute_result"
    },
    {
     "data": {
      "image/png": "[encoded data removed]",
      "text/plain": [
       "<Figure size 432x288 with 1 Axes>"
      ]
     },
     "metadata": {
      "needs_background": "light"
     },
     "output_type": "display_data"
    }
   ],
   "source": [
    "var = '2001'\n",
    "data = pd.concat([df[var],df['2019']], axis=1)\n",
    "\n",
    "ax = data.plot.scatter(x=var, y='2019', ylim=(0,1), xlim=(0,1));\n",
    "ax"
   ]
  },
  {
   "cell_type": "code",
   "execution_count": 143,
   "metadata": {},
   "outputs": [
    {
     "data": {
      "image/png": "[encoded data removed]",
      "text/plain": [
       "<Figure size 864x576 with 1 Axes>"
      ]
     },
     "metadata": {
      "needs_background": "light"
     },
     "output_type": "display_data"
    }
   ],
   "source": [
    "#graph of values for all countries in 2019\n",
    "plt.figure(figsize=(12,8));\n",
    "sns.distplot(df['2019'],color='red');\n",
    "plt.xlabel('HDI',fontdict = label_font);\n",
    "plt.ylabel('Frequency',fontdict = label_font);\n",
    "plt.title('Distribution of HDI in 2019',fontdict = title_font);\n"
   ]
  },
  {
   "cell_type": "code",
   "execution_count": 144,
   "metadata": {},
   "outputs": [],
   "source": [
    "#sort values of 2019 in ascending order and save it in a new dataframe\n",
    "df_2019 = df.sort_values(by='2019')\n"
   ]
  },
  {
   "cell_type": "code",
   "execution_count": 145,
   "metadata": {},
   "outputs": [
    {
     "data": {
      "image/png": "[encoded data removed]",
      "text/plain": [
       "<Figure size 864x3024 with 1 Axes>"
      ]
     },
     "metadata": {
      "needs_background": "light"
     },
     "output_type": "display_data"
    }
   ],
   "source": [
    "plt.figure(figsize=(12,42));\n",
    "sns.scatterplot(x='2019',y='Country',data=df_2019,palette='icefire_r');\n",
    "plt.xlabel('HDI Value',fontdict = label_font);\n",
    "plt.ylabel('Country Name',fontdict = label_font);\n",
    "plt.title('HDI Value for all Countries in 2019',fontdict = title_font);\n"
   ]
  },
  {
   "cell_type": "code",
   "execution_count": 149,
   "metadata": {},
   "outputs": [
    {
     "data": {
      "image/png": "[encoded data removed]",
      "text/plain": [
       "<Figure size 1152x576 with 1 Axes>"
      ]
     },
     "metadata": {
      "needs_background": "light"
     },
     "output_type": "display_data"
    }
   ],
   "source": [
    "#plot values for niger from 1990 to 2019, changing the data length to 27 to match the number of years\n",
    "plt.figure(figsize=(16,8));\n",
    "sns.swarmplot(x=columns,y=df.loc[187,columns],color='red');\n",
    "plt.xlabel('Year',fontdict = label_font);\n",
    "plt.ylabel('HDI Value',fontdict = label_font);\n",
    "plt.title('HDI Value for Niger from 1990 to 2019',fontdict = title_font);\n",
    "\n",
    "\n",
    "\n",
    "\n",
    "\n"
   ]
  },
  {
   "cell_type": "code",
   "execution_count": 183,
   "metadata": {},
   "outputs": [
    {
     "name": "stdout",
     "output_type": "stream",
     "text": [
      "Average HDI Growth for Niger from 2010 to 2019 : 0.01\n",
      "Average HDI Growth for Niger from 2010 to 2019 : 0.84 %\n",
      "Total HDI Growth for Niger from 2010 to 2019 : 0.16\n",
      "Total HDI Growth for Niger from 2010 to 2019 : 15.90 %\n"
     ]
    }
   ],
   "source": [
    "# find average hdi growth for niger from 2010 to 2019\n",
    "niger = df.loc[187,columns]\n",
    "niger = niger[10:]\n",
    "niger = niger.reset_index(drop=True)\n",
    "niger = niger.diff()\n",
    "niger = niger.mean()\n",
    "print(\"Average HDI Growth for Niger from 2010 to 2019 : {:.2f}\".format(niger))\n",
    "#print in percentage\n",
    "print(\"Average HDI Growth for Niger from 2010 to 2019 : {:.2f} %\".format(niger*100))\n",
    "#calculate total hdi growth for niger from 2010 to 2019\n",
    "niger = df.loc[187,columns]\n",
    "niger = niger[10:]\n",
    "niger = niger.reset_index(drop=True)\n",
    "niger = niger.diff()\n",
    "niger = niger.sum()\n",
    "print(\"Total HDI Growth for Niger from 2010 to 2019 : {:.2f}\".format(niger))\n",
    "#print in percentage\n",
    "print(\"Total HDI Growth for Niger from 2010 to 2019 : {:.2f} %\".format(niger*100))\n",
    "\n"
   ]
  },
  {
   "cell_type": "code",
   "execution_count": 181,
   "metadata": {},
   "outputs": [
    {
     "name": "stdout",
     "output_type": "stream",
     "text": [
      "Predicted HDI Value for Niger in 2030 : 0.67\n"
     ]
    }
   ],
   "source": [
    "#predict hdi value for niger in 2030\n",
    "niger = df.loc[187,columns]\n",
    "niger = niger[10:]\n",
    "niger = niger.reset_index(drop=True)\n",
    "niger = niger.diff()\n",
    "niger = niger.mean()\n",
    "niger = df.loc[187,'2019'] + (niger*10)\n",
    "print(\"Predicted HDI Value for Niger in 2030 : {:.2f}\".format(niger))"
   ]
  }
 ],
 "metadata": {
  "kernelspec": {
   "display_name": "Python 3 (ipykernel)",
   "language": "python",
   "name": "python3"
  },
  "language_info": {
   "codemirror_mode": {
    "name": "ipython",
    "version": 3
   },
   "file_extension": ".py",
   "mimetype": "text/x-python",
   "name": "python",
   "nbconvert_exporter": "python",
   "pygments_lexer": "ipython3",
   "version": "3.9.13"
  }
 },
 "nbformat": 4,
 "nbformat_minor": 2
}
