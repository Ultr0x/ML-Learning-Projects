{
 "cells": [
  {
   "cell_type": "code",
   "execution_count": 414,
   "id": "a2c399f1",
   "metadata": {},
   "outputs": [
    {
     "name": "stdout",
     "output_type": "stream",
     "text": [
      "2.10.0\n"
     ]
    }
   ],
   "source": [
    "import tensorflow as tf\n",
    "from tensorflow import keras\n",
    "from keras import layers\n",
    "import numpy as np\n",
    "import matplotlib.pyplot as plt\n",
    "import pandas as pd\n",
    "import seaborn as sns\n",
    "import sklearn as sk\n",
    "from scipy.stats import norm\n",
    "from sklearn.preprocessing import StandardScaler\n",
    "from scipy import stats\n",
    "from sklearn.model_selection import train_test_split\n",
    "from sklearn.preprocessing import OneHotEncoder\n",
    "from sklearn.preprocessing import LabelEncoder\n",
    "from keras.models import Sequential\n",
    "from keras.layers import Dense\n",
    "import warnings\n",
    "warnings.filterwarnings('ignore')\n",
    "print(tf.__version__)"
   ]
  },
  {
   "cell_type": "code",
   "execution_count": 415,
   "id": "9e015ffc",
   "metadata": {},
   "outputs": [],
   "source": [
    "df_train = pd.read_csv('./input/train.csv')\n",
    "df_test = pd.read_csv('./input/test.csv')"
   ]
  },
  {
   "cell_type": "code",
   "execution_count": 416,
   "id": "7d8e008a",
   "metadata": {},
   "outputs": [
    {
     "data": {
      "text/plain": [
       "Index(['Id', 'MSSubClass', 'MSZoning', 'LotFrontage', 'LotArea', 'Street',\n",
       "       'Alley', 'LotShape', 'LandContour', 'Utilities', 'LotConfig',\n",
       "       'LandSlope', 'Neighborhood', 'Condition1', 'Condition2', 'BldgType',\n",
       "       'HouseStyle', 'OverallQual', 'OverallCond', 'YearBuilt', 'YearRemodAdd',\n",
       "       'RoofStyle', 'RoofMatl', 'Exterior1st', 'Exterior2nd', 'MasVnrType',\n",
       "       'MasVnrArea', 'ExterQual', 'ExterCond', 'Foundation', 'BsmtQual',\n",
       "       'BsmtCond', 'BsmtExposure', 'BsmtFinType1', 'BsmtFinSF1',\n",
       "       'BsmtFinType2', 'BsmtFinSF2', 'BsmtUnfSF', 'TotalBsmtSF', 'Heating',\n",
       "       'HeatingQC', 'CentralAir', 'Electrical', '1stFlrSF', '2ndFlrSF',\n",
       "       'LowQualFinSF', 'GrLivArea', 'BsmtFullBath', 'BsmtHalfBath', 'FullBath',\n",
       "       'HalfBath', 'BedroomAbvGr', 'KitchenAbvGr', 'KitchenQual',\n",
       "       'TotRmsAbvGrd', 'Functional', 'Fireplaces', 'FireplaceQu', 'GarageType',\n",
       "       'GarageYrBlt', 'GarageFinish', 'GarageCars', 'GarageArea', 'GarageQual',\n",
       "       'GarageCond', 'PavedDrive', 'WoodDeckSF', 'OpenPorchSF',\n",
       "       'EnclosedPorch', '3SsnPorch', 'ScreenPorch', 'PoolArea', 'PoolQC',\n",
       "       'Fence', 'MiscFeature', 'MiscVal', 'MoSold', 'YrSold', 'SaleType',\n",
       "       'SaleCondition', 'SalePrice'],\n",
       "      dtype='object')"
      ]
     },
     "execution_count": 416,
     "metadata": {},
     "output_type": "execute_result"
    }
   ],
   "source": [
    "df_train.columns"
   ]
  },
  {
   "cell_type": "code",
   "execution_count": 417,
   "id": "39791c28",
   "metadata": {},
   "outputs": [
    {
     "data": {
      "text/html": [
       "<div>\n",
       "<style scoped>\n",
       "    .dataframe tbody tr th:only-of-type {\n",
       "        vertical-align: middle;\n",
       "    }\n",
       "\n",
       "    .dataframe tbody tr th {\n",
       "        vertical-align: top;\n",
       "    }\n",
       "\n",
       "    .dataframe thead th {\n",
       "        text-align: right;\n",
       "    }\n",
       "</style>\n",
       "<table border=\"1\" class=\"dataframe\">\n",
       "  <thead>\n",
       "    <tr style=\"text-align: right;\">\n",
       "      <th></th>\n",
       "      <th>Id</th>\n",
       "      <th>MSSubClass</th>\n",
       "      <th>MSZoning</th>\n",
       "      <th>LotFrontage</th>\n",
       "      <th>LotArea</th>\n",
       "      <th>Street</th>\n",
       "      <th>Alley</th>\n",
       "      <th>LotShape</th>\n",
       "      <th>LandContour</th>\n",
       "      <th>Utilities</th>\n",
       "      <th>...</th>\n",
       "      <th>PoolArea</th>\n",
       "      <th>PoolQC</th>\n",
       "      <th>Fence</th>\n",
       "      <th>MiscFeature</th>\n",
       "      <th>MiscVal</th>\n",
       "      <th>MoSold</th>\n",
       "      <th>YrSold</th>\n",
       "      <th>SaleType</th>\n",
       "      <th>SaleCondition</th>\n",
       "      <th>SalePrice</th>\n",
       "    </tr>\n",
       "  </thead>\n",
       "  <tbody>\n",
       "    <tr>\n",
       "      <th>0</th>\n",
       "      <td>1</td>\n",
       "      <td>60</td>\n",
       "      <td>RL</td>\n",
       "      <td>65.0</td>\n",
       "      <td>8450</td>\n",
       "      <td>Pave</td>\n",
       "      <td>NaN</td>\n",
       "      <td>Reg</td>\n",
       "      <td>Lvl</td>\n",
       "      <td>AllPub</td>\n",
       "      <td>...</td>\n",
       "      <td>0</td>\n",
       "      <td>NaN</td>\n",
       "      <td>NaN</td>\n",
       "      <td>NaN</td>\n",
       "      <td>0</td>\n",
       "      <td>2</td>\n",
       "      <td>2008</td>\n",
       "      <td>WD</td>\n",
       "      <td>Normal</td>\n",
       "      <td>208500</td>\n",
       "    </tr>\n",
       "    <tr>\n",
       "      <th>1</th>\n",
       "      <td>2</td>\n",
       "      <td>20</td>\n",
       "      <td>RL</td>\n",
       "      <td>80.0</td>\n",
       "      <td>9600</td>\n",
       "      <td>Pave</td>\n",
       "      <td>NaN</td>\n",
       "      <td>Reg</td>\n",
       "      <td>Lvl</td>\n",
       "      <td>AllPub</td>\n",
       "      <td>...</td>\n",
       "      <td>0</td>\n",
       "      <td>NaN</td>\n",
       "      <td>NaN</td>\n",
       "      <td>NaN</td>\n",
       "      <td>0</td>\n",
       "      <td>5</td>\n",
       "      <td>2007</td>\n",
       "      <td>WD</td>\n",
       "      <td>Normal</td>\n",
       "      <td>181500</td>\n",
       "    </tr>\n",
       "    <tr>\n",
       "      <th>2</th>\n",
       "      <td>3</td>\n",
       "      <td>60</td>\n",
       "      <td>RL</td>\n",
       "      <td>68.0</td>\n",
       "      <td>11250</td>\n",
       "      <td>Pave</td>\n",
       "      <td>NaN</td>\n",
       "      <td>IR1</td>\n",
       "      <td>Lvl</td>\n",
       "      <td>AllPub</td>\n",
       "      <td>...</td>\n",
       "      <td>0</td>\n",
       "      <td>NaN</td>\n",
       "      <td>NaN</td>\n",
       "      <td>NaN</td>\n",
       "      <td>0</td>\n",
       "      <td>9</td>\n",
       "      <td>2008</td>\n",
       "      <td>WD</td>\n",
       "      <td>Normal</td>\n",
       "      <td>223500</td>\n",
       "    </tr>\n",
       "    <tr>\n",
       "      <th>3</th>\n",
       "      <td>4</td>\n",
       "      <td>70</td>\n",
       "      <td>RL</td>\n",
       "      <td>60.0</td>\n",
       "      <td>9550</td>\n",
       "      <td>Pave</td>\n",
       "      <td>NaN</td>\n",
       "      <td>IR1</td>\n",
       "      <td>Lvl</td>\n",
       "      <td>AllPub</td>\n",
       "      <td>...</td>\n",
       "      <td>0</td>\n",
       "      <td>NaN</td>\n",
       "      <td>NaN</td>\n",
       "      <td>NaN</td>\n",
       "      <td>0</td>\n",
       "      <td>2</td>\n",
       "      <td>2006</td>\n",
       "      <td>WD</td>\n",
       "      <td>Abnorml</td>\n",
       "      <td>140000</td>\n",
       "    </tr>\n",
       "    <tr>\n",
       "      <th>4</th>\n",
       "      <td>5</td>\n",
       "      <td>60</td>\n",
       "      <td>RL</td>\n",
       "      <td>84.0</td>\n",
       "      <td>14260</td>\n",
       "      <td>Pave</td>\n",
       "      <td>NaN</td>\n",
       "      <td>IR1</td>\n",
       "      <td>Lvl</td>\n",
       "      <td>AllPub</td>\n",
       "      <td>...</td>\n",
       "      <td>0</td>\n",
       "      <td>NaN</td>\n",
       "      <td>NaN</td>\n",
       "      <td>NaN</td>\n",
       "      <td>0</td>\n",
       "      <td>12</td>\n",
       "      <td>2008</td>\n",
       "      <td>WD</td>\n",
       "      <td>Normal</td>\n",
       "      <td>250000</td>\n",
       "    </tr>\n",
       "  </tbody>\n",
       "</table>\n",
       "<p>5 rows × 81 columns</p>\n",
       "</div>"
      ],
      "text/plain": [
       "   Id  MSSubClass MSZoning  LotFrontage  LotArea Street Alley LotShape  \\\n",
       "0   1          60       RL         65.0     8450   Pave   NaN      Reg   \n",
       "1   2          20       RL         80.0     9600   Pave   NaN      Reg   \n",
       "2   3          60       RL         68.0    11250   Pave   NaN      IR1   \n",
       "3   4          70       RL         60.0     9550   Pave   NaN      IR1   \n",
       "4   5          60       RL         84.0    14260   Pave   NaN      IR1   \n",
       "\n",
       "  LandContour Utilities  ... PoolArea PoolQC Fence MiscFeature MiscVal MoSold  \\\n",
       "0         Lvl    AllPub  ...        0    NaN   NaN         NaN       0      2   \n",
       "1         Lvl    AllPub  ...        0    NaN   NaN         NaN       0      5   \n",
       "2         Lvl    AllPub  ...        0    NaN   NaN         NaN       0      9   \n",
       "3         Lvl    AllPub  ...        0    NaN   NaN         NaN       0      2   \n",
       "4         Lvl    AllPub  ...        0    NaN   NaN         NaN       0     12   \n",
       "\n",
       "  YrSold  SaleType  SaleCondition  SalePrice  \n",
       "0   2008        WD         Normal     208500  \n",
       "1   2007        WD         Normal     181500  \n",
       "2   2008        WD         Normal     223500  \n",
       "3   2006        WD        Abnorml     140000  \n",
       "4   2008        WD         Normal     250000  \n",
       "\n",
       "[5 rows x 81 columns]"
      ]
     },
     "execution_count": 417,
     "metadata": {},
     "output_type": "execute_result"
    }
   ],
   "source": [
    "df_train.head()"
   ]
  },
  {
   "cell_type": "code",
   "execution_count": 418,
   "id": "64991cb5",
   "metadata": {},
   "outputs": [
    {
     "data": {
      "text/html": [
       "<div>\n",
       "<style scoped>\n",
       "    .dataframe tbody tr th:only-of-type {\n",
       "        vertical-align: middle;\n",
       "    }\n",
       "\n",
       "    .dataframe tbody tr th {\n",
       "        vertical-align: top;\n",
       "    }\n",
       "\n",
       "    .dataframe thead th {\n",
       "        text-align: right;\n",
       "    }\n",
       "</style>\n",
       "<table border=\"1\" class=\"dataframe\">\n",
       "  <thead>\n",
       "    <tr style=\"text-align: right;\">\n",
       "      <th></th>\n",
       "      <th>Total</th>\n",
       "      <th>Percent</th>\n",
       "    </tr>\n",
       "  </thead>\n",
       "  <tbody>\n",
       "    <tr>\n",
       "      <th>PoolQC</th>\n",
       "      <td>1453</td>\n",
       "      <td>0.995205</td>\n",
       "    </tr>\n",
       "    <tr>\n",
       "      <th>MiscFeature</th>\n",
       "      <td>1406</td>\n",
       "      <td>0.963014</td>\n",
       "    </tr>\n",
       "    <tr>\n",
       "      <th>Alley</th>\n",
       "      <td>1369</td>\n",
       "      <td>0.937671</td>\n",
       "    </tr>\n",
       "    <tr>\n",
       "      <th>Fence</th>\n",
       "      <td>1179</td>\n",
       "      <td>0.807534</td>\n",
       "    </tr>\n",
       "    <tr>\n",
       "      <th>FireplaceQu</th>\n",
       "      <td>690</td>\n",
       "      <td>0.472603</td>\n",
       "    </tr>\n",
       "    <tr>\n",
       "      <th>LotFrontage</th>\n",
       "      <td>259</td>\n",
       "      <td>0.177397</td>\n",
       "    </tr>\n",
       "    <tr>\n",
       "      <th>GarageYrBlt</th>\n",
       "      <td>81</td>\n",
       "      <td>0.055479</td>\n",
       "    </tr>\n",
       "    <tr>\n",
       "      <th>GarageCond</th>\n",
       "      <td>81</td>\n",
       "      <td>0.055479</td>\n",
       "    </tr>\n",
       "    <tr>\n",
       "      <th>GarageType</th>\n",
       "      <td>81</td>\n",
       "      <td>0.055479</td>\n",
       "    </tr>\n",
       "    <tr>\n",
       "      <th>GarageFinish</th>\n",
       "      <td>81</td>\n",
       "      <td>0.055479</td>\n",
       "    </tr>\n",
       "    <tr>\n",
       "      <th>GarageQual</th>\n",
       "      <td>81</td>\n",
       "      <td>0.055479</td>\n",
       "    </tr>\n",
       "    <tr>\n",
       "      <th>BsmtFinType2</th>\n",
       "      <td>38</td>\n",
       "      <td>0.026027</td>\n",
       "    </tr>\n",
       "    <tr>\n",
       "      <th>BsmtExposure</th>\n",
       "      <td>38</td>\n",
       "      <td>0.026027</td>\n",
       "    </tr>\n",
       "    <tr>\n",
       "      <th>BsmtQual</th>\n",
       "      <td>37</td>\n",
       "      <td>0.025342</td>\n",
       "    </tr>\n",
       "    <tr>\n",
       "      <th>BsmtCond</th>\n",
       "      <td>37</td>\n",
       "      <td>0.025342</td>\n",
       "    </tr>\n",
       "    <tr>\n",
       "      <th>BsmtFinType1</th>\n",
       "      <td>37</td>\n",
       "      <td>0.025342</td>\n",
       "    </tr>\n",
       "    <tr>\n",
       "      <th>MasVnrArea</th>\n",
       "      <td>8</td>\n",
       "      <td>0.005479</td>\n",
       "    </tr>\n",
       "    <tr>\n",
       "      <th>MasVnrType</th>\n",
       "      <td>8</td>\n",
       "      <td>0.005479</td>\n",
       "    </tr>\n",
       "    <tr>\n",
       "      <th>Electrical</th>\n",
       "      <td>1</td>\n",
       "      <td>0.000685</td>\n",
       "    </tr>\n",
       "    <tr>\n",
       "      <th>Id</th>\n",
       "      <td>0</td>\n",
       "      <td>0.000000</td>\n",
       "    </tr>\n",
       "  </tbody>\n",
       "</table>\n",
       "</div>"
      ],
      "text/plain": [
       "              Total   Percent\n",
       "PoolQC         1453  0.995205\n",
       "MiscFeature    1406  0.963014\n",
       "Alley          1369  0.937671\n",
       "Fence          1179  0.807534\n",
       "FireplaceQu     690  0.472603\n",
       "LotFrontage     259  0.177397\n",
       "GarageYrBlt      81  0.055479\n",
       "GarageCond       81  0.055479\n",
       "GarageType       81  0.055479\n",
       "GarageFinish     81  0.055479\n",
       "GarageQual       81  0.055479\n",
       "BsmtFinType2     38  0.026027\n",
       "BsmtExposure     38  0.026027\n",
       "BsmtQual         37  0.025342\n",
       "BsmtCond         37  0.025342\n",
       "BsmtFinType1     37  0.025342\n",
       "MasVnrArea        8  0.005479\n",
       "MasVnrType        8  0.005479\n",
       "Electrical        1  0.000685\n",
       "Id                0  0.000000"
      ]
     },
     "execution_count": 418,
     "metadata": {},
     "output_type": "execute_result"
    }
   ],
   "source": [
    "#missing data\n",
    "total = df_train.isnull().sum().sort_values(ascending=False)\n",
    "percent = (df_train.isnull().sum()/df_train.isnull().count()).sort_values(ascending=False)\n",
    "missing_data = pd.concat([total, percent], axis=1, keys=['Total', 'Percent'])\n",
    "missing_data.head(20)"
   ]
  },
  {
   "cell_type": "code",
   "execution_count": 419,
   "id": "68ca82cc",
   "metadata": {},
   "outputs": [
    {
     "data": {
      "text/plain": [
       "0"
      ]
     },
     "execution_count": 419,
     "metadata": {},
     "output_type": "execute_result"
    }
   ],
   "source": [
    "#dealing with missing data\n",
    "df_train = df_train.drop((missing_data[missing_data['Total'] > 1]).index,1)\n",
    "df_train = df_train.drop(df_train.loc[df_train['Electrical'].isnull()].index)\n",
    "df_train.isnull().sum().max() #just checking that there's no missing data missing..."
   ]
  },
  {
   "cell_type": "code",
   "execution_count": 420,
   "id": "9035d4b1",
   "metadata": {},
   "outputs": [],
   "source": [
    "def to_one_hot(labels, dimension=46):\n",
    "    results = np.zeros((len(labels), dimension))\n",
    "    for i, label in enumerate(labels):\n",
    "        results[i, label] = 1.\n",
    "    return results\n",
    "y_train = to_one_hot(train_labels)\n",
    "y_test = to_one_hot(test_labels)"
   ]
  },
  {
   "cell_type": "code",
   "execution_count": 421,
   "id": "9e2982ce",
   "metadata": {},
   "outputs": [],
   "source": [
    "import numpy as np\n",
    "def vectorize_sequences(sequences, dimension=10000):\n",
    "    results = np.zeros((len(sequences), dimension))\n",
    "    for i, sequence in enumerate(sequences):\n",
    "        for j in sequence:\n",
    "            results[i, j] = 1.\n",
    "    return results\n",
    "x_train = vectorize_sequences(train_data)\n",
    "x_test = vectorize_sequences(test_data)"
   ]
  },
  {
   "cell_type": "code",
   "execution_count": 422,
   "id": "c46d6f63",
   "metadata": {},
   "outputs": [],
   "source": [
    "\n",
    "# load the dataset\n",
    "def load_dataset(filename):\n",
    " # load the dataset as a pandas DataFrame\n",
    " data = pd.read_csv(filename, header=None,skiprows=1)\n",
    " # retrieve numpy array\n",
    " dataset = data.values\n",
    " # split into input (X) and output (y) variables\n",
    " X = dataset[:, :-1]\n",
    " y = dataset[:,-1]\n",
    " # format all fields as string\n",
    " X = X.astype(str)\n",
    " # reshape target to be a 2d array\n",
    " y = y.reshape((len(y), 1))\n",
    " return X, y"
   ]
  },
  {
   "cell_type": "code",
   "execution_count": 470,
   "id": "f3c8b2c7",
   "metadata": {},
   "outputs": [],
   "source": [
    "# load to check\n",
    "def load_dataset_check(filename):\n",
    " # load the dataset as a pandas DataFrame\n",
    " data = pd.read_csv(filename, header=None,skiprows=1)\n",
    " # retrieve numpy array\n",
    " dataset = data.values\n",
    " # split into input (X) and output (y) variables\n",
    " X = dataset[:]\n",
    " y = dataset[:,-1]\n",
    " # format all fields as string\n",
    " X = X.astype(str)\n",
    " # reshape target to be a 2d array\n",
    " y = y.reshape((len(y), 1))\n",
    " return X, y"
   ]
  },
  {
   "cell_type": "code",
   "execution_count": 495,
   "id": "ae5b0174",
   "metadata": {},
   "outputs": [
    {
     "name": "stdout",
     "output_type": "stream",
     "text": [
      "['133' '20' 'RL' '75.0' '7388' 'Pave' 'nan' 'Reg' 'Lvl' 'AllPub' 'Corner'\n",
      " 'Gtl' 'NAmes' 'Norm' 'Norm' '1Fam' '1Story' '5' '6' '1959' '2002' 'Gable'\n",
      " 'CompShg' 'MetalSd' 'MetalSd' 'None' '0.0' 'TA' 'TA' 'CBlock' 'TA' 'TA'\n",
      " 'No' 'Rec' '405' 'Unf' '0' '658' '1063' 'GasA' 'Gd' 'Y' 'SBrkr' '1327'\n",
      " '0' '0' '1327' '1' '0' '1' '0' '3' '1' 'Gd' '7' 'Typ' '0' 'nan' 'Detchd'\n",
      " '1974.0' 'Unf' '2' '624' 'TA' 'TA' 'Y' '0' '0' '0' '0' '0' '0' 'nan'\n",
      " 'nan' 'nan' '0' '7' '2007' 'WD' 'Normal' '150750']\n"
     ]
    }
   ],
   "source": [
    "# load the dataset\n",
    "X, y = load_dataset('./input/train.csv')\n",
    "# split into train and test sets\n",
    "X_train, X_test, y_train, y_test = train_test_split(X, y, test_size=0.1, random_state=4)\n",
    "X_check, y_check = load_dataset_check('./input/train.csv')\n",
    "X_train_check, X_test_check, y_train_check, y_test_check = train_test_split(X_check, y_check, test_size=0.1, random_state=4)\n",
    "print( X_test_check[2])\n",
    "\n",
    "X_train_copy = X_train"
   ]
  },
  {
   "cell_type": "code",
   "execution_count": 424,
   "id": "56ca9a56",
   "metadata": {},
   "outputs": [
    {
     "name": "stdout",
     "output_type": "stream",
     "text": [
      "Train (1314, 80) (1314, 1)\n",
      "Test (146, 80) (146, 1)\n"
     ]
    }
   ],
   "source": [
    "# summarize\n",
    "print('Train', X_train.shape, y_train.shape)\n",
    "print('Test', X_test.shape, y_test.shape)"
   ]
  },
  {
   "cell_type": "code",
   "execution_count": 425,
   "id": "ea3dc39b",
   "metadata": {},
   "outputs": [],
   "source": [
    "ohe = OneHotEncoder(handle_unknown='ignore')\n",
    "ohe.fit(X_train)\n",
    "X_train_enc = ohe.transform(X_train)\n",
    "X_test_enc = ohe.transform(X_test)\n"
   ]
  },
  {
   "cell_type": "code",
   "execution_count": 426,
   "id": "f7f462e5",
   "metadata": {},
   "outputs": [
    {
     "data": {
      "text/plain": [
       "scipy.sparse._csr.csr_matrix"
      ]
     },
     "execution_count": 426,
     "metadata": {},
     "output_type": "execute_result"
    }
   ],
   "source": [
    "type(X_train_enc)\n"
   ]
  },
  {
   "cell_type": "code",
   "execution_count": 427,
   "id": "a1e1f2ee",
   "metadata": {},
   "outputs": [
    {
     "data": {
      "text/plain": [
       "numpy.ndarray"
      ]
     },
     "execution_count": 427,
     "metadata": {},
     "output_type": "execute_result"
    }
   ],
   "source": [
    "type(y_train)"
   ]
  },
  {
   "cell_type": "code",
   "execution_count": 428,
   "id": "01757762",
   "metadata": {},
   "outputs": [],
   "source": [
    "def convert_sparse_matrix_to_sparse_tensor(X):\n",
    "    coo = X.tocoo()\n",
    "    indices = np.mat([coo.row, coo.col]).transpose()\n",
    "    return tf.SparseTensor(indices, coo.data, coo.shape)\n",
    "\n",
    "X_train_enc = convert_sparse_matrix_to_sparse_tensor(X_train_enc)\n",
    "X_test_enc = convert_sparse_matrix_to_sparse_tensor(X_test_enc)\n"
   ]
  },
  {
   "cell_type": "code",
   "execution_count": 429,
   "id": "29d38ac9",
   "metadata": {},
   "outputs": [],
   "source": [
    "#change the type of y_train and y_test to float\n",
    "y_train = y_train.astype('float32')\n",
    "y_test = y_test.astype('float32')"
   ]
  },
  {
   "cell_type": "code",
   "execution_count": 430,
   "id": "39b93f86",
   "metadata": {},
   "outputs": [
    {
     "data": {
      "text/plain": [
       "numpy.ndarray"
      ]
     },
     "execution_count": 430,
     "metadata": {},
     "output_type": "execute_result"
    }
   ],
   "source": [
    "type(X_train_enc)\n",
    "type(y_train)"
   ]
  },
  {
   "cell_type": "code",
   "execution_count": 431,
   "id": "ae641074",
   "metadata": {},
   "outputs": [],
   "source": [
    "# define the keras model for regression to predict the price of a house\n",
    "model = Sequential()\n",
    "model.add(Dense(12, activation='relu'))\n",
    "model.add(Dense(8, activation='relu'))\n",
    "model.add(Dense(1, activation='linear'))\n"
   ]
  },
  {
   "cell_type": "code",
   "execution_count": 432,
   "id": "d21755e9",
   "metadata": {},
   "outputs": [],
   "source": [
    "# compile the regression model\n",
    "model.compile(loss='mean_squared_error', optimizer='adam', metrics=['mean_squared_error'])"
   ]
  },
  {
   "cell_type": "code",
   "execution_count": 433,
   "id": "51cf16fe",
   "metadata": {},
   "outputs": [
    {
     "name": "stdout",
     "output_type": "stream",
     "text": [
      "Epoch 1/100\n",
      "132/132 [==============================] - 1s 6ms/step - loss: 39170740224.0000 - mean_squared_error: 39170740224.0000\n",
      "Epoch 2/100\n",
      "132/132 [==============================] - 1s 5ms/step - loss: 39159685120.0000 - mean_squared_error: 39159685120.0000\n",
      "Epoch 3/100\n",
      "132/132 [==============================] - 1s 5ms/step - loss: 39121997824.0000 - mean_squared_error: 39121997824.0000\n",
      "Epoch 4/100\n",
      "132/132 [==============================] - 1s 5ms/step - loss: 39044067328.0000 - mean_squared_error: 39044067328.0000\n",
      "Epoch 5/100\n",
      "132/132 [==============================] - 1s 5ms/step - loss: 38913753088.0000 - mean_squared_error: 38913753088.0000\n",
      "Epoch 6/100\n",
      "132/132 [==============================] - 1s 5ms/step - loss: 38719758336.0000 - mean_squared_error: 38719758336.0000\n",
      "Epoch 7/100\n",
      "132/132 [==============================] - 1s 5ms/step - loss: 38453735424.0000 - mean_squared_error: 38453735424.0000\n",
      "Epoch 8/100\n",
      "132/132 [==============================] - 1s 5ms/step - loss: 38108438528.0000 - mean_squared_error: 38108438528.0000\n",
      "Epoch 9/100\n",
      "132/132 [==============================] - 1s 4ms/step - loss: 37677613056.0000 - mean_squared_error: 37677613056.0000\n",
      "Epoch 10/100\n",
      "132/132 [==============================] - 1s 5ms/step - loss: 37160927232.0000 - mean_squared_error: 37160927232.0000\n",
      "Epoch 11/100\n",
      "132/132 [==============================] - 1s 4ms/step - loss: 36554203136.0000 - mean_squared_error: 36554203136.0000\n",
      "Epoch 12/100\n",
      "132/132 [==============================] - 1s 4ms/step - loss: 35858722816.0000 - mean_squared_error: 35858722816.0000\n",
      "Epoch 13/100\n",
      "132/132 [==============================] - 1s 5ms/step - loss: 35075223552.0000 - mean_squared_error: 35075223552.0000\n",
      "Epoch 14/100\n",
      "132/132 [==============================] - 1s 5ms/step - loss: 34206107648.0000 - mean_squared_error: 34206107648.0000\n",
      "Epoch 15/100\n",
      "132/132 [==============================] - 1s 5ms/step - loss: 33256583168.0000 - mean_squared_error: 33256579072.0000\n",
      "Epoch 16/100\n",
      "132/132 [==============================] - 1s 5ms/step - loss: 32232585216.0000 - mean_squared_error: 32232585216.0000\n",
      "Epoch 17/100\n",
      "132/132 [==============================] - 1s 5ms/step - loss: 31135711232.0000 - mean_squared_error: 31135711232.0000\n",
      "Epoch 18/100\n",
      "132/132 [==============================] - 1s 4ms/step - loss: 29975394304.0000 - mean_squared_error: 29975394304.0000\n",
      "Epoch 19/100\n",
      "132/132 [==============================] - 1s 4ms/step - loss: 28761524224.0000 - mean_squared_error: 28761524224.0000\n",
      "Epoch 20/100\n",
      "132/132 [==============================] - 1s 4ms/step - loss: 27504023552.0000 - mean_squared_error: 27504023552.0000\n",
      "Epoch 21/100\n",
      "132/132 [==============================] - 1s 5ms/step - loss: 26209935360.0000 - mean_squared_error: 26209935360.0000\n",
      "Epoch 22/100\n",
      "132/132 [==============================] - 1s 5ms/step - loss: 24890206208.0000 - mean_squared_error: 24890206208.0000\n",
      "Epoch 23/100\n",
      "132/132 [==============================] - 1s 5ms/step - loss: 23555573760.0000 - mean_squared_error: 23555575808.0000\n",
      "Epoch 24/100\n",
      "132/132 [==============================] - 1s 5ms/step - loss: 22220029952.0000 - mean_squared_error: 22220029952.0000\n",
      "Epoch 25/100\n",
      "132/132 [==============================] - 1s 5ms/step - loss: 20888864768.0000 - mean_squared_error: 20888864768.0000\n",
      "Epoch 26/100\n",
      "132/132 [==============================] - 1s 5ms/step - loss: 19572580352.0000 - mean_squared_error: 19572580352.0000\n",
      "Epoch 27/100\n",
      "132/132 [==============================] - 1s 5ms/step - loss: 18286411776.0000 - mean_squared_error: 18286411776.0000\n",
      "Epoch 28/100\n",
      "132/132 [==============================] - 1s 5ms/step - loss: 17036499968.0000 - mean_squared_error: 17036499968.0000\n",
      "Epoch 29/100\n",
      "132/132 [==============================] - 1s 4ms/step - loss: 15836544000.0000 - mean_squared_error: 15836544000.0000\n",
      "Epoch 30/100\n",
      "132/132 [==============================] - 1s 5ms/step - loss: 14695371776.0000 - mean_squared_error: 14695371776.0000\n",
      "Epoch 31/100\n",
      "132/132 [==============================] - 1s 4ms/step - loss: 13617197056.0000 - mean_squared_error: 13617197056.0000\n",
      "Epoch 32/100\n",
      "132/132 [==============================] - 1s 5ms/step - loss: 12610856960.0000 - mean_squared_error: 12610856960.0000\n",
      "Epoch 33/100\n",
      "132/132 [==============================] - 1s 5ms/step - loss: 11683361792.0000 - mean_squared_error: 11683361792.0000\n",
      "Epoch 34/100\n",
      "132/132 [==============================] - 1s 5ms/step - loss: 10835649536.0000 - mean_squared_error: 10835649536.0000\n",
      "Epoch 35/100\n",
      "132/132 [==============================] - 1s 5ms/step - loss: 10071586816.0000 - mean_squared_error: 10071586816.0000\n",
      "Epoch 36/100\n",
      "132/132 [==============================] - 1s 5ms/step - loss: 9390317568.0000 - mean_squared_error: 9390317568.0000\n",
      "Epoch 37/100\n",
      "132/132 [==============================] - 1s 5ms/step - loss: 8791750656.0000 - mean_squared_error: 8791750656.0000\n",
      "Epoch 38/100\n",
      "132/132 [==============================] - 1s 5ms/step - loss: 8270517248.0000 - mean_squared_error: 8270517248.0000\n",
      "Epoch 39/100\n",
      "132/132 [==============================] - 1s 5ms/step - loss: 7818541056.0000 - mean_squared_error: 7818541056.0000\n",
      "Epoch 40/100\n",
      "132/132 [==============================] - 1s 5ms/step - loss: 7435680768.0000 - mean_squared_error: 7435680768.0000\n",
      "Epoch 41/100\n",
      "132/132 [==============================] - 1s 5ms/step - loss: 7115321344.0000 - mean_squared_error: 7115321344.0000\n",
      "Epoch 42/100\n",
      "132/132 [==============================] - 1s 5ms/step - loss: 6848091136.0000 - mean_squared_error: 6848091136.0000\n",
      "Epoch 43/100\n",
      "132/132 [==============================] - 1s 5ms/step - loss: 6623851520.0000 - mean_squared_error: 6623851520.0000\n",
      "Epoch 44/100\n",
      "132/132 [==============================] - 1s 5ms/step - loss: 6433933312.0000 - mean_squared_error: 6433933312.0000\n",
      "Epoch 45/100\n",
      "132/132 [==============================] - 1s 5ms/step - loss: 6272996864.0000 - mean_squared_error: 6272996352.0000\n",
      "Epoch 46/100\n",
      "132/132 [==============================] - 1s 4ms/step - loss: 6135990784.0000 - mean_squared_error: 6135990784.0000\n",
      "Epoch 47/100\n",
      "132/132 [==============================] - 0s 4ms/step - loss: 6017073664.0000 - mean_squared_error: 6017073664.0000\n",
      "Epoch 48/100\n",
      "132/132 [==============================] - 0s 4ms/step - loss: 5911704576.0000 - mean_squared_error: 5911704576.0000\n",
      "Epoch 49/100\n",
      "132/132 [==============================] - 1s 4ms/step - loss: 5817309696.0000 - mean_squared_error: 5817309696.0000\n",
      "Epoch 50/100\n",
      "132/132 [==============================] - 1s 4ms/step - loss: 5732740608.0000 - mean_squared_error: 5732740608.0000\n",
      "Epoch 51/100\n",
      "132/132 [==============================] - 1s 5ms/step - loss: 5652555776.0000 - mean_squared_error: 5652555776.0000\n",
      "Epoch 52/100\n",
      "132/132 [==============================] - 1s 5ms/step - loss: 5578001920.0000 - mean_squared_error: 5578001920.0000\n",
      "Epoch 53/100\n",
      "132/132 [==============================] - 1s 5ms/step - loss: 5506657280.0000 - mean_squared_error: 5506657280.0000\n",
      "Epoch 54/100\n",
      "132/132 [==============================] - 1s 5ms/step - loss: 5438610432.0000 - mean_squared_error: 5438609920.0000\n",
      "Epoch 55/100\n",
      "132/132 [==============================] - 1s 5ms/step - loss: 5372156416.0000 - mean_squared_error: 5372156416.0000\n",
      "Epoch 56/100\n",
      "132/132 [==============================] - 1s 5ms/step - loss: 5307795968.0000 - mean_squared_error: 5307795456.0000\n",
      "Epoch 57/100\n",
      "132/132 [==============================] - 1s 5ms/step - loss: 5244644352.0000 - mean_squared_error: 5244644352.0000\n",
      "Epoch 58/100\n",
      "132/132 [==============================] - 1s 5ms/step - loss: 5182264320.0000 - mean_squared_error: 5182264320.0000\n",
      "Epoch 59/100\n",
      "132/132 [==============================] - 1s 5ms/step - loss: 5120745984.0000 - mean_squared_error: 5120745984.0000\n",
      "Epoch 60/100\n",
      "132/132 [==============================] - 1s 5ms/step - loss: 5061640192.0000 - mean_squared_error: 5061640192.0000\n",
      "Epoch 61/100\n",
      "132/132 [==============================] - 1s 4ms/step - loss: 5002675200.0000 - mean_squared_error: 5002675200.0000\n",
      "Epoch 62/100\n",
      "132/132 [==============================] - 1s 4ms/step - loss: 4945118720.0000 - mean_squared_error: 4945118720.0000\n",
      "Epoch 63/100\n",
      "132/132 [==============================] - 1s 4ms/step - loss: 4887042048.0000 - mean_squared_error: 4887042560.0000\n",
      "Epoch 64/100\n",
      "132/132 [==============================] - 1s 4ms/step - loss: 4829347840.0000 - mean_squared_error: 4829347840.0000\n",
      "Epoch 65/100\n",
      "132/132 [==============================] - 1s 5ms/step - loss: 4774021632.0000 - mean_squared_error: 4774021632.0000\n",
      "Epoch 66/100\n",
      "132/132 [==============================] - 1s 5ms/step - loss: 4718021120.0000 - mean_squared_error: 4718021120.0000\n",
      "Epoch 67/100\n",
      "132/132 [==============================] - 1s 5ms/step - loss: 4663450624.0000 - mean_squared_error: 4663450624.0000\n",
      "Epoch 68/100\n",
      "132/132 [==============================] - 1s 4ms/step - loss: 4608381952.0000 - mean_squared_error: 4608381952.0000\n",
      "Epoch 69/100\n",
      "132/132 [==============================] - 1s 4ms/step - loss: 4554882048.0000 - mean_squared_error: 4554882048.0000\n",
      "Epoch 70/100\n",
      "132/132 [==============================] - 1s 4ms/step - loss: 4502201344.0000 - mean_squared_error: 4502201344.0000\n",
      "Epoch 71/100\n",
      "132/132 [==============================] - 1s 4ms/step - loss: 4450716160.0000 - mean_squared_error: 4450716160.0000\n",
      "Epoch 72/100\n",
      "132/132 [==============================] - 1s 5ms/step - loss: 4398827008.0000 - mean_squared_error: 4398827008.0000\n",
      "Epoch 73/100\n",
      "132/132 [==============================] - 1s 5ms/step - loss: 4347534336.0000 - mean_squared_error: 4347534336.0000\n",
      "Epoch 74/100\n",
      "132/132 [==============================] - 1s 5ms/step - loss: 4296817664.0000 - mean_squared_error: 4296817664.0000\n",
      "Epoch 75/100\n",
      "132/132 [==============================] - 1s 5ms/step - loss: 4247489280.0000 - mean_squared_error: 4247489280.0000\n",
      "Epoch 76/100\n",
      "132/132 [==============================] - 1s 5ms/step - loss: 4196168448.0000 - mean_squared_error: 4196168448.0000\n",
      "Epoch 77/100\n",
      "132/132 [==============================] - 1s 4ms/step - loss: 4147275264.0000 - mean_squared_error: 4147275264.0000\n",
      "Epoch 78/100\n",
      "132/132 [==============================] - 1s 4ms/step - loss: 4098721280.0000 - mean_squared_error: 4098721280.0000\n",
      "Epoch 79/100\n",
      "132/132 [==============================] - 1s 4ms/step - loss: 4050515456.0000 - mean_squared_error: 4050515456.0000\n",
      "Epoch 80/100\n",
      "132/132 [==============================] - 1s 4ms/step - loss: 4002715392.0000 - mean_squared_error: 4002715392.0000\n",
      "Epoch 81/100\n",
      "132/132 [==============================] - 1s 4ms/step - loss: 3955515136.0000 - mean_squared_error: 3955514880.0000\n",
      "Epoch 82/100\n",
      "132/132 [==============================] - 1s 4ms/step - loss: 3907974144.0000 - mean_squared_error: 3907974144.0000\n",
      "Epoch 83/100\n",
      "132/132 [==============================] - 1s 5ms/step - loss: 3861994752.0000 - mean_squared_error: 3861994752.0000\n",
      "Epoch 84/100\n",
      "132/132 [==============================] - 1s 4ms/step - loss: 3816125952.0000 - mean_squared_error: 3816125952.0000\n",
      "Epoch 85/100\n",
      "132/132 [==============================] - 0s 4ms/step - loss: 3771567872.0000 - mean_squared_error: 3771567872.0000\n",
      "Epoch 86/100\n",
      "132/132 [==============================] - 0s 4ms/step - loss: 3726116096.0000 - mean_squared_error: 3726116096.0000\n",
      "Epoch 87/100\n",
      "132/132 [==============================] - 1s 4ms/step - loss: 3682355968.0000 - mean_squared_error: 3682355968.0000\n",
      "Epoch 88/100\n",
      "132/132 [==============================] - 1s 4ms/step - loss: 3638725888.0000 - mean_squared_error: 3638725888.0000\n",
      "Epoch 89/100\n",
      "132/132 [==============================] - 1s 4ms/step - loss: 3595918336.0000 - mean_squared_error: 3595918336.0000\n",
      "Epoch 90/100\n",
      "132/132 [==============================] - 1s 4ms/step - loss: 3552978432.0000 - mean_squared_error: 3552978432.0000\n",
      "Epoch 91/100\n",
      "132/132 [==============================] - 1s 4ms/step - loss: 3511983360.0000 - mean_squared_error: 3511983360.0000\n",
      "Epoch 92/100\n",
      "132/132 [==============================] - 1s 4ms/step - loss: 3469451008.0000 - mean_squared_error: 3469451008.0000\n",
      "Epoch 93/100\n",
      "132/132 [==============================] - 1s 4ms/step - loss: 3428413696.0000 - mean_squared_error: 3428413696.0000\n",
      "Epoch 94/100\n",
      "132/132 [==============================] - 1s 4ms/step - loss: 3387938304.0000 - mean_squared_error: 3387938304.0000\n",
      "Epoch 95/100\n",
      "132/132 [==============================] - 1s 4ms/step - loss: 3348273152.0000 - mean_squared_error: 3348273152.0000\n",
      "Epoch 96/100\n",
      "132/132 [==============================] - 1s 4ms/step - loss: 3309008128.0000 - mean_squared_error: 3309008128.0000\n",
      "Epoch 97/100\n",
      "132/132 [==============================] - 1s 4ms/step - loss: 3269968384.0000 - mean_squared_error: 3269968384.0000\n",
      "Epoch 98/100\n",
      "132/132 [==============================] - 1s 4ms/step - loss: 3231578624.0000 - mean_squared_error: 3231578624.0000\n",
      "Epoch 99/100\n",
      "132/132 [==============================] - 1s 4ms/step - loss: 3193876224.0000 - mean_squared_error: 3193876224.0000\n",
      "Epoch 100/100\n",
      "132/132 [==============================] - 1s 4ms/step - loss: 3157752832.0000 - mean_squared_error: 3157752832.0000\n"
     ]
    }
   ],
   "source": [
    "history = model.fit(X_train_enc, y_train, epochs=100, batch_size=10, verbose=1)"
   ]
  },
  {
   "cell_type": "code",
   "execution_count": 434,
   "id": "f28b2ba8",
   "metadata": {},
   "outputs": [
    {
     "name": "stdout",
     "output_type": "stream",
     "text": [
      "[39170740224.0, 39159685120.0, 39121997824.0, 39044067328.0, 38913753088.0, 38719758336.0, 38453735424.0, 38108438528.0, 37677613056.0, 37160927232.0, 36554203136.0, 35858722816.0, 35075223552.0, 34206107648.0, 33256583168.0, 32232585216.0, 31135711232.0, 29975394304.0, 28761524224.0, 27504023552.0, 26209935360.0, 24890206208.0, 23555573760.0, 22220029952.0, 20888864768.0, 19572580352.0, 18286411776.0, 17036499968.0, 15836544000.0, 14695371776.0, 13617197056.0, 12610856960.0, 11683361792.0, 10835649536.0, 10071586816.0, 9390317568.0, 8791750656.0, 8270517248.0, 7818541056.0, 7435680768.0, 7115321344.0, 6848091136.0, 6623851520.0, 6433933312.0, 6272996864.0, 6135990784.0, 6017073664.0, 5911704576.0, 5817309696.0, 5732740608.0, 5652555776.0, 5578001920.0, 5506657280.0, 5438610432.0, 5372156416.0, 5307795968.0, 5244644352.0, 5182264320.0, 5120745984.0, 5061640192.0, 5002675200.0, 4945118720.0, 4887042048.0, 4829347840.0, 4774021632.0, 4718021120.0, 4663450624.0, 4608381952.0, 4554882048.0, 4502201344.0, 4450716160.0, 4398827008.0, 4347534336.0, 4296817664.0, 4247489280.0, 4196168448.0, 4147275264.0, 4098721280.0, 4050515456.0, 4002715392.0, 3955515136.0, 3907974144.0, 3861994752.0, 3816125952.0, 3771567872.0, 3726116096.0, 3682355968.0, 3638725888.0, 3595918336.0, 3552978432.0, 3511983360.0, 3469451008.0, 3428413696.0, 3387938304.0, 3348273152.0, 3309008128.0, 3269968384.0, 3231578624.0, 3193876224.0, 3157752832.0]\n"
     ]
    }
   ],
   "source": [
    "# print the loss of the regression model\n",
    "print(history.history['loss'])"
   ]
  },
  {
   "cell_type": "code",
   "execution_count": 435,
   "id": "5bae37c9",
   "metadata": {},
   "outputs": [
    {
     "data": {
      "image/png": "[encoded data removed]",
      "text/plain": [
       "<Figure size 432x288 with 1 Axes>"
      ]
     },
     "metadata": {
      "needs_background": "light"
     },
     "output_type": "display_data"
    },
    {
     "data": {
      "text/plain": [
       "<Figure size 432x288 with 0 Axes>"
      ]
     },
     "metadata": {},
     "output_type": "display_data"
    }
   ],
   "source": [
    "#stating the variables for the training and validation accuracy and loss plots\n",
    "accuracy = history.history[\"mean_squared_error\"]\n",
    "loss = history.history[\"loss\"]\n",
    "epochs = range(1, 101 )\n",
    "\n",
    "#plot the training and validation accuracy and loss\n",
    "plt.plot(epochs, accuracy, \"bo\", label=\"mean_squared_error\")\n",
    "plt.title(\"Training and mean_squared_error\")\n",
    "plt.legend()\n",
    "plt.figure()\n",
    "\n",
    "#show the plots\n",
    "plt.show()"
   ]
  },
  {
   "cell_type": "code",
   "execution_count": 524,
   "id": "15078f11",
   "metadata": {},
   "outputs": [
    {
     "name": "stdout",
     "output_type": "stream",
     "text": [
      "42/42 [==============================] - 0s 7ms/step\n",
      "[[173234.58]\n",
      " [155120.64]\n",
      " [166129.6 ]\n",
      " ...\n",
      " [143331.73]\n",
      " [191147.42]\n",
      " [201765.38]]\n",
      "['155000' '144000' '143000' ... '110000' '184000' '180000']\n"
     ]
    }
   ],
   "source": [
    "#predict the price of the houses in the test set\n",
    "y_pred = model.predict(X_train_enc)\n",
    "print(y_pred)\n",
    "#get last only columnfrom x_train_check\n",
    "X_train_check_val = X_train_check[:,-1]\n",
    "print(X_train_check_val)"
   ]
  },
  {
   "cell_type": "code",
   "execution_count": 537,
   "id": "97dfdf17",
   "metadata": {},
   "outputs": [
    {
     "name": "stdout",
     "output_type": "stream",
     "text": [
      "[[173234.58]\n",
      " [155120.64]\n",
      " [166129.6 ]\n",
      " [186246.98]\n",
      " [170483.72]\n",
      " [184144.1 ]\n",
      " [251243.61]\n",
      " [231642.92]\n",
      " [157182.14]\n",
      " [241433.72]]\n"
     ]
    }
   ],
   "source": [
    "#print first 10 values of y_pred\n",
    "print(y_pred[:10])"
   ]
  },
  {
   "cell_type": "code",
   "execution_count": 536,
   "id": "97c21033",
   "metadata": {},
   "outputs": [
    {
     "name": "stdout",
     "output_type": "stream",
     "text": [
      "[['155000' '144000' '143000' ... '110000' '184000' '180000']]\n"
     ]
    }
   ],
   "source": [
    "#print first 10 values of x_train_check_val\n",
    "print(X_train_check_val[:10])\n"
   ]
  },
  {
   "cell_type": "code",
   "execution_count": 540,
   "id": "0795be70",
   "metadata": {},
   "outputs": [
    {
     "ename": "ValueError",
     "evalue": "cannot reshape array of size 1314 into shape (1,1)",
     "output_type": "error",
     "traceback": [
      "\u001b[1;31m---------------------------------------------------------------------------\u001b[0m",
      "\u001b[1;31mValueError\u001b[0m                                Traceback (most recent call last)",
      "\u001b[1;32m<ipython-input-540-4d222d8a8fc0>\u001b[0m in \u001b[0;36m<module>\u001b[1;34m\u001b[0m\n\u001b[0;32m      1\u001b[0m \u001b[1;31m#get x_Train_check_val to same shape as y_pred\u001b[0m\u001b[1;33m\u001b[0m\u001b[1;33m\u001b[0m\u001b[0m\n\u001b[1;32m----> 2\u001b[1;33m \u001b[0mX_train_check_val\u001b[0m \u001b[1;33m=\u001b[0m \u001b[0mX_train_check_val\u001b[0m\u001b[1;33m.\u001b[0m\u001b[0mreshape\u001b[0m\u001b[1;33m(\u001b[0m\u001b[1;36m1\u001b[0m\u001b[1;33m,\u001b[0m \u001b[1;36m1\u001b[0m\u001b[1;33m)\u001b[0m\u001b[1;33m\u001b[0m\u001b[1;33m\u001b[0m\u001b[0m\n\u001b[0m",
      "\u001b[1;31mValueError\u001b[0m: cannot reshape array of size 1314 into shape (1,1)"
     ]
    }
   ],
   "source": [
    "#get x_Train_check_val to 1314,1\n",
    "X_train_check_val = X_train_check_val.reshape(1, 1)"
   ]
  },
  {
   "cell_type": "code",
   "execution_count": 539,
   "id": "e10bfc87",
   "metadata": {},
   "outputs": [
    {
     "name": "stdout",
     "output_type": "stream",
     "text": [
      "(1, 1314)\n"
     ]
    }
   ],
   "source": [
    "(print(X_train_check_val.shape))"
   ]
  },
  {
   "cell_type": "code",
   "execution_count": 512,
   "id": "0712e0fe",
   "metadata": {},
   "outputs": [
    {
     "data": {
      "image/png": "[encoded data removed]",
      "text/plain": [
       "<Figure size 432x288 with 1 Axes>"
      ]
     },
     "metadata": {
      "needs_background": "light"
     },
     "output_type": "display_data"
    }
   ],
   "source": [
    "#plot the predicted price of the houses against the actual price of the houses\n",
    "plt.scatter(X_train_check_val, y_pred, color='red')\n",
    "plt.title('Predicted price of the houses against the actual price of the houses')\n",
    "plt.xlabel('Actual price of the houses')\n",
    "plt.ylabel('Predicted price of the houses')\n",
    "plt.show()\n"
   ]
  },
  {
   "cell_type": "code",
   "execution_count": 535,
   "id": "812c7fbd",
   "metadata": {},
   "outputs": [
    {
     "ename": "UFuncTypeError",
     "evalue": "ufunc 'subtract' did not contain a loop with signature matching types (dtype('float32'), dtype('<U7')) -> None",
     "output_type": "error",
     "traceback": [
      "\u001b[1;31m---------------------------------------------------------------------------\u001b[0m",
      "\u001b[1;31mUFuncTypeError\u001b[0m                            Traceback (most recent call last)",
      "\u001b[1;32m<ipython-input-535-69dccda29403>\u001b[0m in \u001b[0;36m<module>\u001b[1;34m\u001b[0m\n\u001b[0;32m      1\u001b[0m \u001b[1;31m#average deviation of the predicted price of the houses from the actual price of the houses\u001b[0m\u001b[1;33m\u001b[0m\u001b[1;33m\u001b[0m\u001b[0m\n\u001b[1;32m----> 2\u001b[1;33m \u001b[0mprint\u001b[0m\u001b[1;33m(\u001b[0m\u001b[0mnp\u001b[0m\u001b[1;33m.\u001b[0m\u001b[0mmean\u001b[0m\u001b[1;33m(\u001b[0m\u001b[0mnp\u001b[0m\u001b[1;33m.\u001b[0m\u001b[0mabs\u001b[0m\u001b[1;33m(\u001b[0m\u001b[0my_pred\u001b[0m \u001b[1;33m-\u001b[0m \u001b[0mX_train_check_val\u001b[0m\u001b[1;33m)\u001b[0m\u001b[1;33m)\u001b[0m\u001b[1;33m)\u001b[0m\u001b[1;33m\u001b[0m\u001b[1;33m\u001b[0m\u001b[0m\n\u001b[0m\u001b[0;32m      3\u001b[0m \u001b[1;33m\u001b[0m\u001b[0m\n\u001b[0;32m      4\u001b[0m \u001b[1;31m#deviation for first 10 houses\u001b[0m\u001b[1;33m\u001b[0m\u001b[1;33m\u001b[0m\u001b[0m\n\u001b[0;32m      5\u001b[0m \u001b[0mprint\u001b[0m\u001b[1;33m(\u001b[0m\u001b[0mnp\u001b[0m\u001b[1;33m.\u001b[0m\u001b[0mmean\u001b[0m\u001b[1;33m(\u001b[0m\u001b[0mnp\u001b[0m\u001b[1;33m.\u001b[0m\u001b[0mabs\u001b[0m\u001b[1;33m(\u001b[0m\u001b[0my_pred\u001b[0m\u001b[1;33m[\u001b[0m\u001b[1;33m:\u001b[0m\u001b[1;36m10\u001b[0m\u001b[1;33m]\u001b[0m \u001b[1;33m-\u001b[0m \u001b[0mX_train_check_val\u001b[0m\u001b[1;33m[\u001b[0m\u001b[1;33m:\u001b[0m\u001b[1;36m10\u001b[0m\u001b[1;33m]\u001b[0m\u001b[1;33m)\u001b[0m\u001b[1;33m)\u001b[0m\u001b[1;33m)\u001b[0m\u001b[1;33m\u001b[0m\u001b[1;33m\u001b[0m\u001b[0m\n",
      "\u001b[1;31mUFuncTypeError\u001b[0m: ufunc 'subtract' did not contain a loop with signature matching types (dtype('float32'), dtype('<U7')) -> None"
     ]
    }
   ],
   "source": [
    "#average deviation of the predicted price of the houses from the actual price of the houses\n",
    "print(np.mean(np.abs(y_pred - X_train_check_val)))\n",
    "\n",
    "#deviation for first 10 houses\n",
    "print(np.mean(np.abs(y_pred[:10] - X_train_check_val[:10])))\n"
   ]
  }
 ],
 "metadata": {
  "kernelspec": {
   "display_name": "Python 3 (ipykernel)",
   "language": "python",
   "name": "python3"
  },
  "language_info": {
   "codemirror_mode": {
    "name": "ipython",
    "version": 3
   },
   "file_extension": ".py",
   "mimetype": "text/x-python",
   "name": "python",
   "nbconvert_exporter": "python",
   "pygments_lexer": "ipython3",
   "version": "3.9.13"
  }
 },
 "nbformat": 4,
 "nbformat_minor": 5
}
