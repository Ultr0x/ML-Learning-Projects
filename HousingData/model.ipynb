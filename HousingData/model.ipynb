{
 "cells": [
  {
   "cell_type": "code",
   "execution_count": 674,
   "id": "a2c399f1",
   "metadata": {},
   "outputs": [
    {
     "name": "stdout",
     "output_type": "stream",
     "text": [
      "2.10.0\n"
     ]
    }
   ],
   "source": [
    "import tensorflow as tf\n",
    "from tensorflow import keras\n",
    "from keras import layers\n",
    "import numpy as np\n",
    "import matplotlib.pyplot as plt\n",
    "import pandas as pd\n",
    "import seaborn as sns\n",
    "import sklearn as sk\n",
    "from scipy.stats import norm\n",
    "from sklearn.preprocessing import StandardScaler\n",
    "from scipy import stats\n",
    "from sklearn.model_selection import train_test_split\n",
    "from sklearn.preprocessing import OneHotEncoder\n",
    "from sklearn.preprocessing import LabelEncoder\n",
    "from keras.models import Sequential\n",
    "from keras.layers import Dense\n",
    "import warnings\n",
    "warnings.filterwarnings('ignore')\n",
    "print(tf.__version__)"
   ]
  },
  {
   "cell_type": "code",
   "execution_count": 675,
   "id": "9e015ffc",
   "metadata": {},
   "outputs": [],
   "source": [
    "df_train = pd.read_csv('./input/train.csv')\n",
    "df_test = pd.read_csv('./input/test.csv')"
   ]
  },
  {
   "cell_type": "code",
   "execution_count": 676,
   "id": "7d8e008a",
   "metadata": {},
   "outputs": [
    {
     "data": {
      "text/plain": [
       "Index(['Id', 'MSSubClass', 'MSZoning', 'LotFrontage', 'LotArea', 'Street',\n",
       "       'Alley', 'LotShape', 'LandContour', 'Utilities', 'LotConfig',\n",
       "       'LandSlope', 'Neighborhood', 'Condition1', 'Condition2', 'BldgType',\n",
       "       'HouseStyle', 'OverallQual', 'OverallCond', 'YearBuilt', 'YearRemodAdd',\n",
       "       'RoofStyle', 'RoofMatl', 'Exterior1st', 'Exterior2nd', 'MasVnrType',\n",
       "       'MasVnrArea', 'ExterQual', 'ExterCond', 'Foundation', 'BsmtQual',\n",
       "       'BsmtCond', 'BsmtExposure', 'BsmtFinType1', 'BsmtFinSF1',\n",
       "       'BsmtFinType2', 'BsmtFinSF2', 'BsmtUnfSF', 'TotalBsmtSF', 'Heating',\n",
       "       'HeatingQC', 'CentralAir', 'Electrical', '1stFlrSF', '2ndFlrSF',\n",
       "       'LowQualFinSF', 'GrLivArea', 'BsmtFullBath', 'BsmtHalfBath', 'FullBath',\n",
       "       'HalfBath', 'BedroomAbvGr', 'KitchenAbvGr', 'KitchenQual',\n",
       "       'TotRmsAbvGrd', 'Functional', 'Fireplaces', 'FireplaceQu', 'GarageType',\n",
       "       'GarageYrBlt', 'GarageFinish', 'GarageCars', 'GarageArea', 'GarageQual',\n",
       "       'GarageCond', 'PavedDrive', 'WoodDeckSF', 'OpenPorchSF',\n",
       "       'EnclosedPorch', '3SsnPorch', 'ScreenPorch', 'PoolArea', 'PoolQC',\n",
       "       'Fence', 'MiscFeature', 'MiscVal', 'MoSold', 'YrSold', 'SaleType',\n",
       "       'SaleCondition', 'SalePrice'],\n",
       "      dtype='object')"
      ]
     },
     "execution_count": 676,
     "metadata": {},
     "output_type": "execute_result"
    }
   ],
   "source": [
    "df_train.columns"
   ]
  },
  {
   "cell_type": "code",
   "execution_count": 677,
   "id": "39791c28",
   "metadata": {},
   "outputs": [
    {
     "data": {
      "text/html": [
       "<div>\n",
       "<style scoped>\n",
       "    .dataframe tbody tr th:only-of-type {\n",
       "        vertical-align: middle;\n",
       "    }\n",
       "\n",
       "    .dataframe tbody tr th {\n",
       "        vertical-align: top;\n",
       "    }\n",
       "\n",
       "    .dataframe thead th {\n",
       "        text-align: right;\n",
       "    }\n",
       "</style>\n",
       "<table border=\"1\" class=\"dataframe\">\n",
       "  <thead>\n",
       "    <tr style=\"text-align: right;\">\n",
       "      <th></th>\n",
       "      <th>Id</th>\n",
       "      <th>MSSubClass</th>\n",
       "      <th>MSZoning</th>\n",
       "      <th>LotFrontage</th>\n",
       "      <th>LotArea</th>\n",
       "      <th>Street</th>\n",
       "      <th>Alley</th>\n",
       "      <th>LotShape</th>\n",
       "      <th>LandContour</th>\n",
       "      <th>Utilities</th>\n",
       "      <th>...</th>\n",
       "      <th>PoolArea</th>\n",
       "      <th>PoolQC</th>\n",
       "      <th>Fence</th>\n",
       "      <th>MiscFeature</th>\n",
       "      <th>MiscVal</th>\n",
       "      <th>MoSold</th>\n",
       "      <th>YrSold</th>\n",
       "      <th>SaleType</th>\n",
       "      <th>SaleCondition</th>\n",
       "      <th>SalePrice</th>\n",
       "    </tr>\n",
       "  </thead>\n",
       "  <tbody>\n",
       "    <tr>\n",
       "      <th>0</th>\n",
       "      <td>1</td>\n",
       "      <td>60</td>\n",
       "      <td>RL</td>\n",
       "      <td>65.0</td>\n",
       "      <td>8450</td>\n",
       "      <td>Pave</td>\n",
       "      <td>NaN</td>\n",
       "      <td>Reg</td>\n",
       "      <td>Lvl</td>\n",
       "      <td>AllPub</td>\n",
       "      <td>...</td>\n",
       "      <td>0</td>\n",
       "      <td>NaN</td>\n",
       "      <td>NaN</td>\n",
       "      <td>NaN</td>\n",
       "      <td>0</td>\n",
       "      <td>2</td>\n",
       "      <td>2008</td>\n",
       "      <td>WD</td>\n",
       "      <td>Normal</td>\n",
       "      <td>208500</td>\n",
       "    </tr>\n",
       "    <tr>\n",
       "      <th>1</th>\n",
       "      <td>2</td>\n",
       "      <td>20</td>\n",
       "      <td>RL</td>\n",
       "      <td>80.0</td>\n",
       "      <td>9600</td>\n",
       "      <td>Pave</td>\n",
       "      <td>NaN</td>\n",
       "      <td>Reg</td>\n",
       "      <td>Lvl</td>\n",
       "      <td>AllPub</td>\n",
       "      <td>...</td>\n",
       "      <td>0</td>\n",
       "      <td>NaN</td>\n",
       "      <td>NaN</td>\n",
       "      <td>NaN</td>\n",
       "      <td>0</td>\n",
       "      <td>5</td>\n",
       "      <td>2007</td>\n",
       "      <td>WD</td>\n",
       "      <td>Normal</td>\n",
       "      <td>181500</td>\n",
       "    </tr>\n",
       "    <tr>\n",
       "      <th>2</th>\n",
       "      <td>3</td>\n",
       "      <td>60</td>\n",
       "      <td>RL</td>\n",
       "      <td>68.0</td>\n",
       "      <td>11250</td>\n",
       "      <td>Pave</td>\n",
       "      <td>NaN</td>\n",
       "      <td>IR1</td>\n",
       "      <td>Lvl</td>\n",
       "      <td>AllPub</td>\n",
       "      <td>...</td>\n",
       "      <td>0</td>\n",
       "      <td>NaN</td>\n",
       "      <td>NaN</td>\n",
       "      <td>NaN</td>\n",
       "      <td>0</td>\n",
       "      <td>9</td>\n",
       "      <td>2008</td>\n",
       "      <td>WD</td>\n",
       "      <td>Normal</td>\n",
       "      <td>223500</td>\n",
       "    </tr>\n",
       "    <tr>\n",
       "      <th>3</th>\n",
       "      <td>4</td>\n",
       "      <td>70</td>\n",
       "      <td>RL</td>\n",
       "      <td>60.0</td>\n",
       "      <td>9550</td>\n",
       "      <td>Pave</td>\n",
       "      <td>NaN</td>\n",
       "      <td>IR1</td>\n",
       "      <td>Lvl</td>\n",
       "      <td>AllPub</td>\n",
       "      <td>...</td>\n",
       "      <td>0</td>\n",
       "      <td>NaN</td>\n",
       "      <td>NaN</td>\n",
       "      <td>NaN</td>\n",
       "      <td>0</td>\n",
       "      <td>2</td>\n",
       "      <td>2006</td>\n",
       "      <td>WD</td>\n",
       "      <td>Abnorml</td>\n",
       "      <td>140000</td>\n",
       "    </tr>\n",
       "    <tr>\n",
       "      <th>4</th>\n",
       "      <td>5</td>\n",
       "      <td>60</td>\n",
       "      <td>RL</td>\n",
       "      <td>84.0</td>\n",
       "      <td>14260</td>\n",
       "      <td>Pave</td>\n",
       "      <td>NaN</td>\n",
       "      <td>IR1</td>\n",
       "      <td>Lvl</td>\n",
       "      <td>AllPub</td>\n",
       "      <td>...</td>\n",
       "      <td>0</td>\n",
       "      <td>NaN</td>\n",
       "      <td>NaN</td>\n",
       "      <td>NaN</td>\n",
       "      <td>0</td>\n",
       "      <td>12</td>\n",
       "      <td>2008</td>\n",
       "      <td>WD</td>\n",
       "      <td>Normal</td>\n",
       "      <td>250000</td>\n",
       "    </tr>\n",
       "  </tbody>\n",
       "</table>\n",
       "<p>5 rows × 81 columns</p>\n",
       "</div>"
      ],
      "text/plain": [
       "   Id  MSSubClass MSZoning  LotFrontage  LotArea Street Alley LotShape  \\\n",
       "0   1          60       RL         65.0     8450   Pave   NaN      Reg   \n",
       "1   2          20       RL         80.0     9600   Pave   NaN      Reg   \n",
       "2   3          60       RL         68.0    11250   Pave   NaN      IR1   \n",
       "3   4          70       RL         60.0     9550   Pave   NaN      IR1   \n",
       "4   5          60       RL         84.0    14260   Pave   NaN      IR1   \n",
       "\n",
       "  LandContour Utilities  ... PoolArea PoolQC Fence MiscFeature MiscVal MoSold  \\\n",
       "0         Lvl    AllPub  ...        0    NaN   NaN         NaN       0      2   \n",
       "1         Lvl    AllPub  ...        0    NaN   NaN         NaN       0      5   \n",
       "2         Lvl    AllPub  ...        0    NaN   NaN         NaN       0      9   \n",
       "3         Lvl    AllPub  ...        0    NaN   NaN         NaN       0      2   \n",
       "4         Lvl    AllPub  ...        0    NaN   NaN         NaN       0     12   \n",
       "\n",
       "  YrSold  SaleType  SaleCondition  SalePrice  \n",
       "0   2008        WD         Normal     208500  \n",
       "1   2007        WD         Normal     181500  \n",
       "2   2008        WD         Normal     223500  \n",
       "3   2006        WD        Abnorml     140000  \n",
       "4   2008        WD         Normal     250000  \n",
       "\n",
       "[5 rows x 81 columns]"
      ]
     },
     "execution_count": 677,
     "metadata": {},
     "output_type": "execute_result"
    }
   ],
   "source": [
    "df_train.head()"
   ]
  },
  {
   "cell_type": "code",
   "execution_count": 678,
   "id": "64991cb5",
   "metadata": {},
   "outputs": [
    {
     "data": {
      "text/html": [
       "<div>\n",
       "<style scoped>\n",
       "    .dataframe tbody tr th:only-of-type {\n",
       "        vertical-align: middle;\n",
       "    }\n",
       "\n",
       "    .dataframe tbody tr th {\n",
       "        vertical-align: top;\n",
       "    }\n",
       "\n",
       "    .dataframe thead th {\n",
       "        text-align: right;\n",
       "    }\n",
       "</style>\n",
       "<table border=\"1\" class=\"dataframe\">\n",
       "  <thead>\n",
       "    <tr style=\"text-align: right;\">\n",
       "      <th></th>\n",
       "      <th>Total</th>\n",
       "      <th>Percent</th>\n",
       "    </tr>\n",
       "  </thead>\n",
       "  <tbody>\n",
       "    <tr>\n",
       "      <th>PoolQC</th>\n",
       "      <td>1453</td>\n",
       "      <td>0.995205</td>\n",
       "    </tr>\n",
       "    <tr>\n",
       "      <th>MiscFeature</th>\n",
       "      <td>1406</td>\n",
       "      <td>0.963014</td>\n",
       "    </tr>\n",
       "    <tr>\n",
       "      <th>Alley</th>\n",
       "      <td>1369</td>\n",
       "      <td>0.937671</td>\n",
       "    </tr>\n",
       "    <tr>\n",
       "      <th>Fence</th>\n",
       "      <td>1179</td>\n",
       "      <td>0.807534</td>\n",
       "    </tr>\n",
       "    <tr>\n",
       "      <th>FireplaceQu</th>\n",
       "      <td>690</td>\n",
       "      <td>0.472603</td>\n",
       "    </tr>\n",
       "    <tr>\n",
       "      <th>LotFrontage</th>\n",
       "      <td>259</td>\n",
       "      <td>0.177397</td>\n",
       "    </tr>\n",
       "    <tr>\n",
       "      <th>GarageYrBlt</th>\n",
       "      <td>81</td>\n",
       "      <td>0.055479</td>\n",
       "    </tr>\n",
       "    <tr>\n",
       "      <th>GarageCond</th>\n",
       "      <td>81</td>\n",
       "      <td>0.055479</td>\n",
       "    </tr>\n",
       "    <tr>\n",
       "      <th>GarageType</th>\n",
       "      <td>81</td>\n",
       "      <td>0.055479</td>\n",
       "    </tr>\n",
       "    <tr>\n",
       "      <th>GarageFinish</th>\n",
       "      <td>81</td>\n",
       "      <td>0.055479</td>\n",
       "    </tr>\n",
       "    <tr>\n",
       "      <th>GarageQual</th>\n",
       "      <td>81</td>\n",
       "      <td>0.055479</td>\n",
       "    </tr>\n",
       "    <tr>\n",
       "      <th>BsmtFinType2</th>\n",
       "      <td>38</td>\n",
       "      <td>0.026027</td>\n",
       "    </tr>\n",
       "    <tr>\n",
       "      <th>BsmtExposure</th>\n",
       "      <td>38</td>\n",
       "      <td>0.026027</td>\n",
       "    </tr>\n",
       "    <tr>\n",
       "      <th>BsmtQual</th>\n",
       "      <td>37</td>\n",
       "      <td>0.025342</td>\n",
       "    </tr>\n",
       "    <tr>\n",
       "      <th>BsmtCond</th>\n",
       "      <td>37</td>\n",
       "      <td>0.025342</td>\n",
       "    </tr>\n",
       "    <tr>\n",
       "      <th>BsmtFinType1</th>\n",
       "      <td>37</td>\n",
       "      <td>0.025342</td>\n",
       "    </tr>\n",
       "    <tr>\n",
       "      <th>MasVnrArea</th>\n",
       "      <td>8</td>\n",
       "      <td>0.005479</td>\n",
       "    </tr>\n",
       "    <tr>\n",
       "      <th>MasVnrType</th>\n",
       "      <td>8</td>\n",
       "      <td>0.005479</td>\n",
       "    </tr>\n",
       "    <tr>\n",
       "      <th>Electrical</th>\n",
       "      <td>1</td>\n",
       "      <td>0.000685</td>\n",
       "    </tr>\n",
       "    <tr>\n",
       "      <th>Id</th>\n",
       "      <td>0</td>\n",
       "      <td>0.000000</td>\n",
       "    </tr>\n",
       "  </tbody>\n",
       "</table>\n",
       "</div>"
      ],
      "text/plain": [
       "              Total   Percent\n",
       "PoolQC         1453  0.995205\n",
       "MiscFeature    1406  0.963014\n",
       "Alley          1369  0.937671\n",
       "Fence          1179  0.807534\n",
       "FireplaceQu     690  0.472603\n",
       "LotFrontage     259  0.177397\n",
       "GarageYrBlt      81  0.055479\n",
       "GarageCond       81  0.055479\n",
       "GarageType       81  0.055479\n",
       "GarageFinish     81  0.055479\n",
       "GarageQual       81  0.055479\n",
       "BsmtFinType2     38  0.026027\n",
       "BsmtExposure     38  0.026027\n",
       "BsmtQual         37  0.025342\n",
       "BsmtCond         37  0.025342\n",
       "BsmtFinType1     37  0.025342\n",
       "MasVnrArea        8  0.005479\n",
       "MasVnrType        8  0.005479\n",
       "Electrical        1  0.000685\n",
       "Id                0  0.000000"
      ]
     },
     "execution_count": 678,
     "metadata": {},
     "output_type": "execute_result"
    }
   ],
   "source": [
    "#missing data\n",
    "total = df_train.isnull().sum().sort_values(ascending=False)\n",
    "percent = (df_train.isnull().sum()/df_train.isnull().count()).sort_values(ascending=False)\n",
    "missing_data = pd.concat([total, percent], axis=1, keys=['Total', 'Percent'])\n",
    "missing_data.head(20)"
   ]
  },
  {
   "cell_type": "code",
   "execution_count": 679,
   "id": "68ca82cc",
   "metadata": {},
   "outputs": [
    {
     "data": {
      "text/plain": [
       "0"
      ]
     },
     "execution_count": 679,
     "metadata": {},
     "output_type": "execute_result"
    }
   ],
   "source": [
    "#dealing with missing data\n",
    "df_train = df_train.drop((missing_data[missing_data['Total'] > 1]).index,1)\n",
    "df_train = df_train.drop(df_train.loc[df_train['Electrical'].isnull()].index)\n",
    "df_train.isnull().sum().max() #just checking that there's no missing data missing..."
   ]
  },
  {
   "cell_type": "code",
   "execution_count": 680,
   "id": "9035d4b1",
   "metadata": {},
   "outputs": [],
   "source": [
    "def to_one_hot(labels, dimension=46):\n",
    "    results = np.zeros((len(labels), dimension))\n",
    "    for i, label in enumerate(labels):\n",
    "        results[i, label] = 1.\n",
    "    return results\n",
    "y_train = to_one_hot(train_labels)\n",
    "y_test = to_one_hot(test_labels)"
   ]
  },
  {
   "cell_type": "code",
   "execution_count": 681,
   "id": "9e2982ce",
   "metadata": {},
   "outputs": [],
   "source": [
    "import numpy as np\n",
    "def vectorize_sequences(sequences, dimension=10000):\n",
    "    results = np.zeros((len(sequences), dimension))\n",
    "    for i, sequence in enumerate(sequences):\n",
    "        for j in sequence:\n",
    "            results[i, j] = 1.\n",
    "    return results\n",
    "x_train = vectorize_sequences(train_data)\n",
    "x_test = vectorize_sequences(test_data)"
   ]
  },
  {
   "cell_type": "code",
   "execution_count": 682,
   "id": "c46d6f63",
   "metadata": {},
   "outputs": [],
   "source": [
    "\n",
    "# load the dataset\n",
    "def load_dataset(filename):\n",
    " # load the dataset as a pandas DataFrame\n",
    " data = pd.read_csv(filename, header=None,skiprows=1)\n",
    " # retrieve numpy array\n",
    " dataset = data.values\n",
    " # split into input (X) and output (y) variables\n",
    " X = dataset[:, :-1]\n",
    " y = dataset[:,-1]\n",
    " # format all fields as string\n",
    " X = X.astype(str)\n",
    " # reshape target to be a 2d array\n",
    " y = y.reshape((len(y), 1))\n",
    " return X, y"
   ]
  },
  {
   "cell_type": "code",
   "execution_count": 683,
   "id": "f3c8b2c7",
   "metadata": {},
   "outputs": [],
   "source": [
    "# load to check\n",
    "def load_dataset_check(filename):\n",
    " # load the dataset as a pandas DataFrame\n",
    " data = pd.read_csv(filename, header=None,skiprows=1)\n",
    " # retrieve numpy array\n",
    " dataset = data.values\n",
    " # split into input (X) and output (y) variables\n",
    " X = dataset[:]\n",
    " y = dataset[:,-1]\n",
    " # format all fields as string\n",
    " X = X.astype(str)\n",
    " # reshape target to be a 2d array\n",
    " y = y.reshape((len(y), 1))\n",
    " return X, y"
   ]
  },
  {
   "cell_type": "code",
   "execution_count": 684,
   "id": "ae5b0174",
   "metadata": {},
   "outputs": [
    {
     "name": "stdout",
     "output_type": "stream",
     "text": [
      "['133' '20' 'RL' '75.0' '7388' 'Pave' 'nan' 'Reg' 'Lvl' 'AllPub' 'Corner'\n",
      " 'Gtl' 'NAmes' 'Norm' 'Norm' '1Fam' '1Story' '5' '6' '1959' '2002' 'Gable'\n",
      " 'CompShg' 'MetalSd' 'MetalSd' 'None' '0.0' 'TA' 'TA' 'CBlock' 'TA' 'TA'\n",
      " 'No' 'Rec' '405' 'Unf' '0' '658' '1063' 'GasA' 'Gd' 'Y' 'SBrkr' '1327'\n",
      " '0' '0' '1327' '1' '0' '1' '0' '3' '1' 'Gd' '7' 'Typ' '0' 'nan' 'Detchd'\n",
      " '1974.0' 'Unf' '2' '624' 'TA' 'TA' 'Y' '0' '0' '0' '0' '0' '0' 'nan'\n",
      " 'nan' 'nan' '0' '7' '2007' 'WD' 'Normal' '150750']\n"
     ]
    }
   ],
   "source": [
    "# load the dataset\n",
    "X, y = load_dataset('./input/train.csv')\n",
    "# split into train and test sets\n",
    "X_train, X_test, y_train, y_test = train_test_split(X, y, test_size=0.1, random_state=4)\n",
    "X_check, y_check = load_dataset_check('./input/train.csv')\n",
    "X_train_check, X_test_check, y_train_check, y_test_check = train_test_split(X_check, y_check, test_size=0.1, random_state=4)\n",
    "print( X_test_check[2])\n",
    "\n",
    "X_train_copy = X_train"
   ]
  },
  {
   "cell_type": "code",
   "execution_count": 685,
   "id": "56ca9a56",
   "metadata": {},
   "outputs": [
    {
     "name": "stdout",
     "output_type": "stream",
     "text": [
      "Train (1314, 80) (1314, 1)\n",
      "Test (146, 80) (146, 1)\n"
     ]
    }
   ],
   "source": [
    "# summarize\n",
    "print('Train', X_train.shape, y_train.shape)\n",
    "print('Test', X_test.shape, y_test.shape)"
   ]
  },
  {
   "cell_type": "code",
   "execution_count": 686,
   "id": "ea3dc39b",
   "metadata": {},
   "outputs": [],
   "source": [
    "ohe = OneHotEncoder(handle_unknown='ignore')\n",
    "ohe.fit(X_train)\n",
    "X_train_enc = ohe.transform(X_train)\n",
    "X_test_enc = ohe.transform(X_test)\n"
   ]
  },
  {
   "cell_type": "code",
   "execution_count": 687,
   "id": "f7f462e5",
   "metadata": {},
   "outputs": [
    {
     "data": {
      "text/plain": [
       "scipy.sparse._csr.csr_matrix"
      ]
     },
     "execution_count": 687,
     "metadata": {},
     "output_type": "execute_result"
    }
   ],
   "source": [
    "type(X_train_enc)\n"
   ]
  },
  {
   "cell_type": "code",
   "execution_count": 688,
   "id": "a1e1f2ee",
   "metadata": {},
   "outputs": [
    {
     "data": {
      "text/plain": [
       "numpy.ndarray"
      ]
     },
     "execution_count": 688,
     "metadata": {},
     "output_type": "execute_result"
    }
   ],
   "source": [
    "type(y_train)"
   ]
  },
  {
   "cell_type": "code",
   "execution_count": 689,
   "id": "01757762",
   "metadata": {},
   "outputs": [],
   "source": [
    "def convert_sparse_matrix_to_sparse_tensor(X):\n",
    "    coo = X.tocoo()\n",
    "    indices = np.mat([coo.row, coo.col]).transpose()\n",
    "    return tf.SparseTensor(indices, coo.data, coo.shape)\n",
    "\n",
    "X_train_enc = convert_sparse_matrix_to_sparse_tensor(X_train_enc)\n",
    "X_test_enc = convert_sparse_matrix_to_sparse_tensor(X_test_enc)\n"
   ]
  },
  {
   "cell_type": "code",
   "execution_count": 690,
   "id": "29d38ac9",
   "metadata": {},
   "outputs": [],
   "source": [
    "#change the type of y_train and y_test to float\n",
    "y_train = y_train.astype('float32')\n",
    "y_test = y_test.astype('float32')"
   ]
  },
  {
   "cell_type": "code",
   "execution_count": 691,
   "id": "39b93f86",
   "metadata": {},
   "outputs": [
    {
     "data": {
      "text/plain": [
       "numpy.ndarray"
      ]
     },
     "execution_count": 691,
     "metadata": {},
     "output_type": "execute_result"
    }
   ],
   "source": [
    "type(X_train_enc)\n",
    "type(y_train)"
   ]
  },
  {
   "cell_type": "code",
   "execution_count": 692,
   "id": "ae641074",
   "metadata": {},
   "outputs": [],
   "source": [
    "# define the keras model for regression to predict the price of a house\n",
    "model = Sequential()\n",
    "model.add(Dense(200, activation='relu'))\n",
    "model.add(Dense(30, activation='relu'))\n",
    "model.add(Dense(1, activation='linear'))\n"
   ]
  },
  {
   "cell_type": "code",
   "execution_count": 693,
   "id": "d21755e9",
   "metadata": {},
   "outputs": [],
   "source": [
    "# compile the regression model\n",
    "model.compile(loss='mean_squared_error', optimizer='adam', metrics=['mean_squared_error'])"
   ]
  },
  {
   "cell_type": "code",
   "execution_count": 694,
   "id": "51cf16fe",
   "metadata": {},
   "outputs": [
    {
     "name": "stdout",
     "output_type": "stream",
     "text": [
      "Epoch 1/50\n",
      "132/132 [==============================] - 1s 6ms/step - loss: 39003156480.0000 - mean_squared_error: 39003156480.0000\n",
      "Epoch 2/50\n",
      "132/132 [==============================] - 1s 4ms/step - loss: 36577775616.0000 - mean_squared_error: 36577775616.0000\n",
      "Epoch 3/50\n",
      "132/132 [==============================] - 0s 4ms/step - loss: 28595746816.0000 - mean_squared_error: 28595746816.0000\n",
      "Epoch 4/50\n",
      "132/132 [==============================] - 0s 4ms/step - loss: 16825279488.0000 - mean_squared_error: 16825279488.0000\n",
      "Epoch 5/50\n",
      "132/132 [==============================] - 1s 5ms/step - loss: 8702644224.0000 - mean_squared_error: 8702644224.0000\n",
      "Epoch 6/50\n",
      "132/132 [==============================] - 1s 5ms/step - loss: 6222368256.0000 - mean_squared_error: 6222368256.0000\n",
      "Epoch 7/50\n",
      "132/132 [==============================] - 1s 4ms/step - loss: 5491761152.0000 - mean_squared_error: 5491761152.0000\n",
      "Epoch 8/50\n",
      "132/132 [==============================] - 1s 4ms/step - loss: 5002322944.0000 - mean_squared_error: 5002322944.0000\n",
      "Epoch 9/50\n",
      "132/132 [==============================] - 1s 4ms/step - loss: 4578362368.0000 - mean_squared_error: 4578362368.0000\n",
      "Epoch 10/50\n",
      "132/132 [==============================] - 1s 5ms/step - loss: 4205816320.0000 - mean_squared_error: 4205816320.0000\n",
      "Epoch 11/50\n",
      "132/132 [==============================] - 1s 4ms/step - loss: 3870452480.0000 - mean_squared_error: 3870452480.0000\n",
      "Epoch 12/50\n",
      "132/132 [==============================] - 1s 5ms/step - loss: 3567867136.0000 - mean_squared_error: 3567867136.0000\n",
      "Epoch 13/50\n",
      "132/132 [==============================] - 1s 5ms/step - loss: 3300743168.0000 - mean_squared_error: 3300743168.0000\n",
      "Epoch 14/50\n",
      "132/132 [==============================] - 1s 4ms/step - loss: 3058400512.0000 - mean_squared_error: 3058400512.0000\n",
      "Epoch 15/50\n",
      "132/132 [==============================] - 1s 4ms/step - loss: 2849089536.0000 - mean_squared_error: 2849089536.0000\n",
      "Epoch 16/50\n",
      "132/132 [==============================] - 1s 4ms/step - loss: 2658375168.0000 - mean_squared_error: 2658375168.0000\n",
      "Epoch 17/50\n",
      "132/132 [==============================] - 1s 4ms/step - loss: 2492199936.0000 - mean_squared_error: 2492199936.0000\n",
      "Epoch 18/50\n",
      "132/132 [==============================] - 1s 4ms/step - loss: 2344188928.0000 - mean_squared_error: 2344188928.0000\n",
      "Epoch 19/50\n",
      "132/132 [==============================] - 1s 4ms/step - loss: 2211527936.0000 - mean_squared_error: 2211528192.0000\n",
      "Epoch 20/50\n",
      "132/132 [==============================] - 1s 4ms/step - loss: 2088927616.0000 - mean_squared_error: 2088927616.0000\n",
      "Epoch 21/50\n",
      "132/132 [==============================] - 1s 4ms/step - loss: 1975979776.0000 - mean_squared_error: 1975979776.0000\n",
      "Epoch 22/50\n",
      "132/132 [==============================] - 1s 4ms/step - loss: 1877026688.0000 - mean_squared_error: 1877026304.0000\n",
      "Epoch 23/50\n",
      "132/132 [==============================] - 1s 4ms/step - loss: 1782030976.0000 - mean_squared_error: 1782030976.0000\n",
      "Epoch 24/50\n",
      "132/132 [==============================] - 1s 4ms/step - loss: 1693104128.0000 - mean_squared_error: 1693104128.0000\n",
      "Epoch 25/50\n",
      "132/132 [==============================] - 1s 4ms/step - loss: 1608298112.0000 - mean_squared_error: 1608298112.0000\n",
      "Epoch 26/50\n",
      "132/132 [==============================] - 1s 4ms/step - loss: 1527675264.0000 - mean_squared_error: 1527675264.0000\n",
      "Epoch 27/50\n",
      "132/132 [==============================] - 1s 5ms/step - loss: 1452341632.0000 - mean_squared_error: 1452341632.0000\n",
      "Epoch 28/50\n",
      "132/132 [==============================] - 1s 4ms/step - loss: 1382536064.0000 - mean_squared_error: 1382536064.0000\n",
      "Epoch 29/50\n",
      "132/132 [==============================] - 1s 4ms/step - loss: 1314420224.0000 - mean_squared_error: 1314420224.0000\n",
      "Epoch 30/50\n",
      "132/132 [==============================] - 1s 4ms/step - loss: 1247152512.0000 - mean_squared_error: 1247152512.0000\n",
      "Epoch 31/50\n",
      "132/132 [==============================] - 1s 4ms/step - loss: 1189540736.0000 - mean_squared_error: 1189540736.0000\n",
      "Epoch 32/50\n",
      "132/132 [==============================] - 1s 4ms/step - loss: 1134306816.0000 - mean_squared_error: 1134306816.0000\n",
      "Epoch 33/50\n",
      "132/132 [==============================] - 1s 4ms/step - loss: 1078280960.0000 - mean_squared_error: 1078280960.0000\n",
      "Epoch 34/50\n",
      "132/132 [==============================] - 1s 4ms/step - loss: 1029817536.0000 - mean_squared_error: 1029817536.0000\n",
      "Epoch 35/50\n",
      "132/132 [==============================] - 1s 4ms/step - loss: 981494080.0000 - mean_squared_error: 981494080.0000\n",
      "Epoch 36/50\n",
      "132/132 [==============================] - 1s 4ms/step - loss: 937317248.0000 - mean_squared_error: 937317120.0000\n",
      "Epoch 37/50\n",
      "132/132 [==============================] - 1s 4ms/step - loss: 892608896.0000 - mean_squared_error: 892609024.0000\n",
      "Epoch 38/50\n",
      "132/132 [==============================] - 1s 4ms/step - loss: 853852416.0000 - mean_squared_error: 853852416.0000\n",
      "Epoch 39/50\n",
      "132/132 [==============================] - 1s 4ms/step - loss: 820078080.0000 - mean_squared_error: 820078080.0000\n",
      "Epoch 40/50\n",
      "132/132 [==============================] - 1s 4ms/step - loss: 780534016.0000 - mean_squared_error: 780534016.0000\n",
      "Epoch 41/50\n",
      "132/132 [==============================] - 1s 4ms/step - loss: 750092864.0000 - mean_squared_error: 750092864.0000\n",
      "Epoch 42/50\n",
      "132/132 [==============================] - 1s 4ms/step - loss: 719281216.0000 - mean_squared_error: 719281216.0000\n",
      "Epoch 43/50\n",
      "132/132 [==============================] - 1s 4ms/step - loss: 689639296.0000 - mean_squared_error: 689639296.0000\n",
      "Epoch 44/50\n",
      "132/132 [==============================] - 1s 4ms/step - loss: 660350912.0000 - mean_squared_error: 660350912.0000\n",
      "Epoch 45/50\n",
      "132/132 [==============================] - 1s 4ms/step - loss: 637550400.0000 - mean_squared_error: 637550464.0000\n",
      "Epoch 46/50\n",
      "132/132 [==============================] - 1s 4ms/step - loss: 611536704.0000 - mean_squared_error: 611536704.0000\n",
      "Epoch 47/50\n",
      "132/132 [==============================] - 1s 4ms/step - loss: 588508992.0000 - mean_squared_error: 588508992.0000\n",
      "Epoch 48/50\n",
      "132/132 [==============================] - 1s 4ms/step - loss: 563565568.0000 - mean_squared_error: 563565568.0000\n",
      "Epoch 49/50\n",
      "132/132 [==============================] - 1s 4ms/step - loss: 542721024.0000 - mean_squared_error: 542721088.0000\n",
      "Epoch 50/50\n",
      "132/132 [==============================] - 1s 4ms/step - loss: 522076672.0000 - mean_squared_error: 522076672.0000\n"
     ]
    }
   ],
   "source": [
    "history = model.fit(X_train_enc, y_train, epochs=50, batch_size=10, verbose=1)"
   ]
  },
  {
   "cell_type": "code",
   "execution_count": 695,
   "id": "f28b2ba8",
   "metadata": {},
   "outputs": [
    {
     "name": "stdout",
     "output_type": "stream",
     "text": [
      "[39003156480.0, 36577775616.0, 28595746816.0, 16825279488.0, 8702644224.0, 6222368256.0, 5491761152.0, 5002322944.0, 4578362368.0, 4205816320.0, 3870452480.0, 3567867136.0, 3300743168.0, 3058400512.0, 2849089536.0, 2658375168.0, 2492199936.0, 2344188928.0, 2211527936.0, 2088927616.0, 1975979776.0, 1877026688.0, 1782030976.0, 1693104128.0, 1608298112.0, 1527675264.0, 1452341632.0, 1382536064.0, 1314420224.0, 1247152512.0, 1189540736.0, 1134306816.0, 1078280960.0, 1029817536.0, 981494080.0, 937317248.0, 892608896.0, 853852416.0, 820078080.0, 780534016.0, 750092864.0, 719281216.0, 689639296.0, 660350912.0, 637550400.0, 611536704.0, 588508992.0, 563565568.0, 542721024.0, 522076672.0]\n"
     ]
    }
   ],
   "source": [
    "# print the loss of the regression model\n",
    "print(history.history['loss'])"
   ]
  },
  {
   "cell_type": "code",
   "execution_count": 738,
   "id": "5bae37c9",
   "metadata": {},
   "outputs": [
    {
     "data": {
      "image/png": "[encoded data removed]",
      "text/plain": [
       "<Figure size 432x288 with 1 Axes>"
      ]
     },
     "metadata": {
      "needs_background": "light"
     },
     "output_type": "display_data"
    },
    {
     "data": {
      "text/plain": [
       "<Figure size 432x288 with 0 Axes>"
      ]
     },
     "metadata": {},
     "output_type": "display_data"
    }
   ],
   "source": [
    "#stating the variables for the training and validation accuracy and loss plots\n",
    "accuracy = history.history[\"mean_squared_error\"]\n",
    "loss = history.history[\"loss\"]\n",
    "epochs = range(1, 51 )\n",
    "\n",
    "#plot the training and validation accuracy and loss\n",
    "plt.plot(epochs, accuracy, \"bo\", label=\"mean_squared_error\")\n",
    "plt.title(\"Training and mean_squared_error\")\n",
    "plt.legend()\n",
    "plt.figure()\n",
    "\n",
    "#show the plots\n",
    "plt.show()"
   ]
  },
  {
   "cell_type": "code",
   "execution_count": 711,
   "id": "15078f11",
   "metadata": {},
   "outputs": [
    {
     "name": "stdout",
     "output_type": "stream",
     "text": [
      "5/5 [==============================] - 0s 33ms/step\n",
      "[[235513.33 ]\n",
      " [209757.03 ]\n",
      " [149692.08 ]\n",
      " [139573.84 ]\n",
      " [145231.28 ]\n",
      " [190426.19 ]\n",
      " [247811.23 ]\n",
      " [259211.84 ]\n",
      " [234934.28 ]\n",
      " [187095.8  ]\n",
      " [134453.42 ]\n",
      " [259101.55 ]\n",
      " [145790.03 ]\n",
      " [115806.29 ]\n",
      " [157349.81 ]\n",
      " [325644.53 ]\n",
      " [134570.67 ]\n",
      " [173250.45 ]\n",
      " [220793.61 ]\n",
      " [131001.85 ]\n",
      " [320344.97 ]\n",
      " [207378.08 ]\n",
      " [225388.4  ]\n",
      " [297531.66 ]\n",
      " [262225.9  ]\n",
      " [151164.7  ]\n",
      " [202863.38 ]\n",
      " [358979.38 ]\n",
      " [105128.67 ]\n",
      " [102156.8  ]\n",
      " [264863.03 ]\n",
      " [122681.35 ]\n",
      " [303944.53 ]\n",
      " [194108.83 ]\n",
      " [140349.5  ]\n",
      " [102789.13 ]\n",
      " [188268.88 ]\n",
      " [215956.67 ]\n",
      " [378391.03 ]\n",
      " [137464.06 ]\n",
      " [169794.88 ]\n",
      " [174903.17 ]\n",
      " [119427.34 ]\n",
      " [183403.53 ]\n",
      " [123899.664]\n",
      " [304339.97 ]\n",
      " [224402.5  ]\n",
      " [116252.24 ]\n",
      " [251255.88 ]\n",
      " [149033.7  ]\n",
      " [178744.12 ]\n",
      " [120095.03 ]\n",
      " [202109.38 ]\n",
      " [ 96770.07 ]\n",
      " [148794.42 ]\n",
      " [194196.14 ]\n",
      " [209945.89 ]\n",
      " [182351.84 ]\n",
      " [258452.81 ]\n",
      " [106790.93 ]\n",
      " [322623.38 ]\n",
      " [191398.17 ]\n",
      " [153700.06 ]\n",
      " [225090.45 ]\n",
      " [281754.6  ]\n",
      " [ 71895.85 ]\n",
      " [146062.48 ]\n",
      " [176185.83 ]\n",
      " [201869.89 ]\n",
      " [258806.31 ]\n",
      " [130779.77 ]\n",
      " [208044.52 ]\n",
      " [115284.086]\n",
      " [165813.83 ]\n",
      " [147147.7  ]\n",
      " [169111.19 ]\n",
      " [310816.34 ]\n",
      " [163369.05 ]\n",
      " [147465.11 ]\n",
      " [242241.94 ]\n",
      " [206362.55 ]\n",
      " [221050.62 ]\n",
      " [ 71939.02 ]\n",
      " [140962.2  ]\n",
      " [135951.34 ]\n",
      " [187658.56 ]\n",
      " [230572.94 ]\n",
      " [327676.47 ]\n",
      " [187551.94 ]\n",
      " [175296.92 ]\n",
      " [155170.66 ]\n",
      " [235131.39 ]\n",
      " [151302.17 ]\n",
      " [111989.65 ]\n",
      " [171048.67 ]\n",
      " [165949.69 ]\n",
      " [133334.23 ]\n",
      " [348996.8  ]\n",
      " [208149.6  ]\n",
      " [180521.05 ]\n",
      " [159702.05 ]\n",
      " [101870.41 ]\n",
      " [102475.14 ]\n",
      " [153824.36 ]\n",
      " [118597.48 ]\n",
      " [211538.84 ]\n",
      " [110515.82 ]\n",
      " [108829.85 ]\n",
      " [173201.17 ]\n",
      " [ 98808.18 ]\n",
      " [117544.79 ]\n",
      " [146202.77 ]\n",
      " [244726.89 ]\n",
      " [174719.77 ]\n",
      " [103913.82 ]\n",
      " [167053.92 ]\n",
      " [169985.66 ]\n",
      " [161250.17 ]\n",
      " [264867.   ]\n",
      " [153592.73 ]\n",
      " [120476.75 ]\n",
      " [157241.88 ]\n",
      " [235023.69 ]\n",
      " [239154.42 ]\n",
      " [192495.98 ]\n",
      " [226297.62 ]\n",
      " [257941.27 ]\n",
      " [293521.7  ]\n",
      " [228607.39 ]\n",
      " [178680.28 ]\n",
      " [238633.17 ]\n",
      " [150233.64 ]\n",
      " [260228.34 ]\n",
      " [127377.93 ]\n",
      " [224088.97 ]\n",
      " [252837.94 ]\n",
      " [146185.52 ]\n",
      " [110511.18 ]\n",
      " [175232.33 ]\n",
      " [286813.9  ]\n",
      " [200741.36 ]\n",
      " [143363.38 ]\n",
      " [ 90314.57 ]\n",
      " [127496.34 ]\n",
      " [178452.55 ]\n",
      " [105732.55 ]]\n",
      "[[155000.]\n",
      " [144000.]\n",
      " [143000.]\n",
      " ...\n",
      " [110000.]\n",
      " [184000.]\n",
      " [180000.]]\n"
     ]
    }
   ],
   "source": [
    "#predict the price of the houses in the test set\n",
    "y_pred = model.predict(X_test_enc)\n",
    "print(y_pred)\n",
    "#get last only columnfrom x_train_check\n",
    "X_test_check_val = X_test_check[:,-1]\n",
    "print(X_train_check_val)"
   ]
  },
  {
   "cell_type": "code",
   "execution_count": 712,
   "id": "97dfdf17",
   "metadata": {},
   "outputs": [
    {
     "name": "stdout",
     "output_type": "stream",
     "text": [
      "[[235513.33]\n",
      " [209757.03]\n",
      " [149692.08]\n",
      " [139573.84]\n",
      " [145231.28]\n",
      " [190426.19]\n",
      " [247811.23]\n",
      " [259211.84]\n",
      " [234934.28]\n",
      " [187095.8 ]]\n"
     ]
    }
   ],
   "source": [
    "#print first 10 values of y_pred\n",
    "print(y_pred[:10])"
   ]
  },
  {
   "cell_type": "code",
   "execution_count": 713,
   "id": "97c21033",
   "metadata": {},
   "outputs": [
    {
     "name": "stdout",
     "output_type": "stream",
     "text": [
      "['228500' '216000' '150750' '134000' '90350' '159895' '220000' '240000'\n",
      " '213000' '181000']\n"
     ]
    }
   ],
   "source": [
    "#print first 10 values of x_train_check_val\n",
    "print(X_test_check_val[:10])\n"
   ]
  },
  {
   "cell_type": "code",
   "execution_count": 720,
   "id": "0795be70",
   "metadata": {},
   "outputs": [],
   "source": [
    "#change the type of x_train_check_val to float\n",
    "X_test_check_val = X_test_check_val.astype('float32')\n",
    "#get x_Train_check_val to 1314,1\n",
    "X_test_check_val = X_test_check_val.reshape(146,1)"
   ]
  },
  {
   "cell_type": "code",
   "execution_count": 722,
   "id": "e10bfc87",
   "metadata": {},
   "outputs": [
    {
     "name": "stdout",
     "output_type": "stream",
     "text": [
      "(146, 1)\n"
     ]
    }
   ],
   "source": [
    "(print(X_test_check_val.shape))"
   ]
  },
  {
   "cell_type": "code",
   "execution_count": 721,
   "id": "0ea7f3d6",
   "metadata": {},
   "outputs": [
    {
     "name": "stdout",
     "output_type": "stream",
     "text": [
      "(146, 1)\n"
     ]
    }
   ],
   "source": [
    "print(y_test_check.shape)"
   ]
  },
  {
   "cell_type": "code",
   "execution_count": 737,
   "id": "0712e0fe",
   "metadata": {},
   "outputs": [
    {
     "data": {
      "image/png": "[encoded data removed]",
      "text/plain": [
       "<Figure size 432x288 with 1 Axes>"
      ]
     },
     "metadata": {
      "needs_background": "light"
     },
     "output_type": "display_data"
    }
   ],
   "source": [
    "#plot the predicted price of the houses against the actual price of the houses\n",
    "#make y axis same as x axis\n",
    "plt.plot([0, 800000], [0, 800000], 'k--', lw=2)\n",
    "plt.scatter(X_test_check_val, y_pred, color='red')\n",
    "plt.title('Predicted price of the houses against the actual price of the houses')\n",
    "plt.xlabel('Actual price of the houses')\n",
    "plt.ylabel('Predicted price of the houses')\n",
    "plt.show()\n"
   ]
  },
  {
   "cell_type": "code",
   "execution_count": 725,
   "id": "812c7fbd",
   "metadata": {},
   "outputs": [
    {
     "name": "stdout",
     "output_type": "stream",
     "text": [
      "20834.479\n",
      "[[7.01332812e+03]\n",
      " [6.24296875e+03]\n",
      " [1.05792188e+03]\n",
      " [5.57384375e+03]\n",
      " [5.48812812e+04]\n",
      " [3.05311875e+04]\n",
      " [2.78112344e+04]\n",
      " [1.92118438e+04]\n",
      " [2.19342812e+04]\n",
      " [6.09579688e+03]\n",
      " [3.54657812e+03]\n",
      " [1.45015469e+04]\n",
      " [5.63190312e+04]\n",
      " [5.80628906e+03]\n",
      " [1.23498125e+04]\n",
      " [4.46445312e+04]\n",
      " [5.07067188e+03]\n",
      " [3.58004531e+04]\n",
      " [9.70639062e+03]\n",
      " [1.79981484e+04]\n",
      " [1.46550312e+04]\n",
      " [4.87807812e+03]\n",
      " [2.95115938e+04]\n",
      " [1.94683438e+04]\n",
      " [1.22259062e+04]\n",
      " [8.83529688e+03]\n",
      " [2.18633750e+04]\n",
      " [7.98006250e+04]\n",
      " [1.53713281e+04]\n",
      " [9.15679688e+03]\n",
      " [2.86303125e+03]\n",
      " [5.51864844e+03]\n",
      " [2.44453125e+03]\n",
      " [3.73911719e+04]\n",
      " [3.13415000e+04]\n",
      " [1.92891328e+04]\n",
      " [3.83688750e+04]\n",
      " [2.29566719e+04]\n",
      " [1.23445969e+05]\n",
      " [3.46406250e+03]\n",
      " [1.57948750e+04]\n",
      " [1.79031719e+04]\n",
      " [4.63343750e+02]\n",
      " [2.94035312e+04]\n",
      " [1.00003359e+04]\n",
      " [2.93399688e+04]\n",
      " [4.90250000e+03]\n",
      " [1.87477578e+04]\n",
      " [5.90587500e+03]\n",
      " [3.30337031e+04]\n",
      " [8.74412500e+03]\n",
      " [5.95031250e+02]\n",
      " [1.48906250e+04]\n",
      " [2.37299297e+04]\n",
      " [1.42055781e+04]\n",
      " [1.77641406e+04]\n",
      " [4.19458906e+04]\n",
      " [7.35184375e+03]\n",
      " [2.10471875e+04]\n",
      " [1.82090703e+04]\n",
      " [1.00376625e+05]\n",
      " [1.83981719e+04]\n",
      " [2.67000625e+04]\n",
      " [1.39095469e+04]\n",
      " [2.17545938e+04]\n",
      " [1.31041484e+04]\n",
      " [1.85624844e+04]\n",
      " [2.28582812e+03]\n",
      " [1.53698906e+04]\n",
      " [6.80631250e+03]\n",
      " [6.97797734e+04]\n",
      " [2.19554844e+04]\n",
      " [1.82840859e+04]\n",
      " [2.68138281e+04]\n",
      " [1.01477031e+04]\n",
      " [1.07888125e+04]\n",
      " [3.68163438e+04]\n",
      " [2.01190469e+04]\n",
      " [1.24651094e+04]\n",
      " [1.82419375e+04]\n",
      " [2.31625469e+04]\n",
      " [5.06250000e+01]\n",
      " [1.50609766e+04]\n",
      " [2.44622031e+04]\n",
      " [1.09513438e+04]\n",
      " [2.56585625e+04]\n",
      " [1.70729375e+04]\n",
      " [7.43235312e+04]\n",
      " [2.30519375e+04]\n",
      " [1.37969219e+04]\n",
      " [1.21706562e+04]\n",
      " [4.61313906e+04]\n",
      " [1.23021719e+04]\n",
      " [4.01035156e+03]\n",
      " [1.30486719e+04]\n",
      " [1.91496875e+04]\n",
      " [3.33342344e+04]\n",
      " [3.34968125e+04]\n",
      " [2.31495938e+04]\n",
      " [1.05310469e+04]\n",
      " [1.71020469e+04]\n",
      " [6.62959375e+03]\n",
      " [1.69751406e+04]\n",
      " [2.21756406e+04]\n",
      " [1.51025234e+04]\n",
      " [3.84611562e+04]\n",
      " [3.06158203e+04]\n",
      " [3.11701484e+04]\n",
      " [6.79882812e+03]\n",
      " [7.69182031e+03]\n",
      " [1.74552109e+04]\n",
      " [2.70276562e+03]\n",
      " [2.47268906e+04]\n",
      " [1.93476562e+03]\n",
      " [1.50861797e+04]\n",
      " [2.60539219e+04]\n",
      " [3.98565625e+03]\n",
      " [9.25017188e+03]\n",
      " [1.91330000e+04]\n",
      " [1.35927344e+04]\n",
      " [7.52325000e+03]\n",
      " [7.94187500e+03]\n",
      " [2.79763125e+04]\n",
      " [1.05455781e+04]\n",
      " [5.24959844e+04]\n",
      " [8.70237500e+03]\n",
      " [1.20587344e+04]\n",
      " [8.52168750e+03]\n",
      " [1.53926094e+04]\n",
      " [1.84802812e+04]\n",
      " [9.63317188e+03]\n",
      " [1.26663594e+04]\n",
      " [3.07723438e+04]\n",
      " [3.63779297e+04]\n",
      " [5.90989688e+04]\n",
      " [4.98379375e+04]\n",
      " [1.73144844e+04]\n",
      " [2.45111797e+04]\n",
      " [3.17676719e+04]\n",
      " [6.81390625e+03]\n",
      " [2.42413594e+04]\n",
      " [3.58633750e+04]\n",
      " [2.19145703e+04]\n",
      " [1.24963438e+04]\n",
      " [1.34525469e+04]\n",
      " [1.82674531e+04]]\n",
      "186033.8\n",
      "180114.78\n",
      "13.107146322727203\n"
     ]
    }
   ],
   "source": [
    "#average deviation of the predicted price of the houses from the actual price of the houses\n",
    "print(np.mean(np.abs(y_pred - X_test_check_val)))\n",
    "#deviation for all the houses between y_pred and x_train_check_val\n",
    "print(np.abs(y_pred - X_test_check_val))\n",
    "#prin average number in y_pred\n",
    "print(np.mean(y_pred))\n",
    "#prin average number in x_train_check_val\n",
    "print(np.mean(X_test_check_val))\n",
    "#average percentage deviation of the predicted price of the houses from the actual price of the houses\n",
    "print(np.mean(np.abs((y_pred - X_test_check_val) / X_test_check_val)) * 100)\n",
    "\n",
    "\n"
   ]
  },
  {
   "cell_type": "code",
   "execution_count": 727,
   "id": "06c1d449",
   "metadata": {},
   "outputs": [
    {
     "name": "stdout",
     "output_type": "stream",
     "text": [
      "[[235513.33]\n",
      " [209757.03]\n",
      " [149692.08]\n",
      " [139573.84]\n",
      " [145231.28]\n",
      " [190426.19]\n",
      " [247811.23]\n",
      " [259211.84]\n",
      " [234934.28]\n",
      " [187095.8 ]]\n"
     ]
    }
   ],
   "source": [
    "#print first 10 houses in y_pred\n",
    "print(y_pred[:10])"
   ]
  },
  {
   "cell_type": "code",
   "execution_count": 730,
   "id": "f515eeca",
   "metadata": {},
   "outputs": [
    {
     "name": "stdout",
     "output_type": "stream",
     "text": [
      "[[228500.]\n",
      " [216000.]\n",
      " [150750.]\n",
      " [134000.]\n",
      " [ 90350.]\n",
      " [159895.]\n",
      " [220000.]\n",
      " [240000.]\n",
      " [213000.]\n",
      " [181000.]]\n"
     ]
    }
   ],
   "source": [
    "#print first 10 houses in x_train_check_val\n",
    "print(X_test_check_val[:10])"
   ]
  },
  {
   "cell_type": "code",
   "execution_count": 736,
   "id": "5d9413b9",
   "metadata": {},
   "outputs": [
    {
     "name": "stdout",
     "output_type": "stream",
     "text": [
      "12.49704509973526\n"
     ]
    }
   ],
   "source": [
    "#average percentage deviation of thefirst ten predicted price of the houses from the actual price of the houses\n",
    "print(np.mean(np.abs((y_pred[:10] - X_test_check_val[:10]) / X_test_check_val[:10])) * 100)"
   ]
  },
  {
   "attachments": {},
   "cell_type": "markdown",
   "id": "1c2e54c0",
   "metadata": {},
   "source": [
    "I JUST REALIZED THAT THE MODEL IS OVERFITTING AND THE TEST DATA IS ACTUALLY LEAKING INTO THE TRAINING DATA, HENCE THE AMAZING ACCURACY. NEED TO USE VALIDATION DATASET"
   ]
  },
  {
   "cell_type": "code",
   "execution_count": null,
   "id": "a56f247a",
   "metadata": {},
   "outputs": [],
   "source": []
  }
 ],
 "metadata": {
  "kernelspec": {
   "display_name": "Python 3 (ipykernel)",
   "language": "python",
   "name": "python3"
  },
  "language_info": {
   "codemirror_mode": {
    "name": "ipython",
    "version": 3
   },
   "file_extension": ".py",
   "mimetype": "text/x-python",
   "name": "python",
   "nbconvert_exporter": "python",
   "pygments_lexer": "ipython3",
   "version": "3.9.13"
  }
 },
 "nbformat": 4,
 "nbformat_minor": 5
}
